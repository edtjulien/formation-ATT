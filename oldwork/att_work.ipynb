{
 "cells": [
  {
   "cell_type": "code",
   "execution_count": 52,
   "metadata": {},
   "outputs": [],
   "source": [
    "import pandas as pd\n",
    "import numpy as np\n",
    "import tensorflow as tf\n",
    "\n",
    "gpus = tf.config.experimental.list_physical_devices('GPU')\n",
    "if gpus:\n",
    "    # only use GPU memory that we need, not allocate all the GPU memory\n",
    "    tf.config.experimental.set_memory_growth(gpus[0], enable=True)"
   ]
  },
  {
   "cell_type": "code",
   "execution_count": 53,
   "metadata": {},
   "outputs": [],
   "source": [
    "df = pd.read_csv('spam.csv', encoding='Latin-1')"
   ]
  },
  {
   "cell_type": "code",
   "execution_count": 54,
   "metadata": {},
   "outputs": [
    {
     "data": {
      "text/html": [
       "<div>\n",
       "<style scoped>\n",
       "    .dataframe tbody tr th:only-of-type {\n",
       "        vertical-align: middle;\n",
       "    }\n",
       "\n",
       "    .dataframe tbody tr th {\n",
       "        vertical-align: top;\n",
       "    }\n",
       "\n",
       "    .dataframe thead th {\n",
       "        text-align: right;\n",
       "    }\n",
       "</style>\n",
       "<table border=\"1\" class=\"dataframe\">\n",
       "  <thead>\n",
       "    <tr style=\"text-align: right;\">\n",
       "      <th></th>\n",
       "      <th>target</th>\n",
       "      <th>text</th>\n",
       "    </tr>\n",
       "  </thead>\n",
       "  <tbody>\n",
       "    <tr>\n",
       "      <th>0</th>\n",
       "      <td>ham</td>\n",
       "      <td>Go until jurong point, crazy.. Available only ...</td>\n",
       "    </tr>\n",
       "    <tr>\n",
       "      <th>1</th>\n",
       "      <td>ham</td>\n",
       "      <td>Ok lar... Joking wif u oni...</td>\n",
       "    </tr>\n",
       "    <tr>\n",
       "      <th>2</th>\n",
       "      <td>spam</td>\n",
       "      <td>Free entry in 2 a wkly comp to win FA Cup fina...</td>\n",
       "    </tr>\n",
       "    <tr>\n",
       "      <th>3</th>\n",
       "      <td>ham</td>\n",
       "      <td>U dun say so early hor... U c already then say...</td>\n",
       "    </tr>\n",
       "    <tr>\n",
       "      <th>4</th>\n",
       "      <td>ham</td>\n",
       "      <td>Nah I don't think he goes to usf, he lives aro...</td>\n",
       "    </tr>\n",
       "    <tr>\n",
       "      <th>...</th>\n",
       "      <td>...</td>\n",
       "      <td>...</td>\n",
       "    </tr>\n",
       "    <tr>\n",
       "      <th>5567</th>\n",
       "      <td>spam</td>\n",
       "      <td>This is the 2nd time we have tried 2 contact u...</td>\n",
       "    </tr>\n",
       "    <tr>\n",
       "      <th>5568</th>\n",
       "      <td>ham</td>\n",
       "      <td>Will Ì_ b going to esplanade fr home?</td>\n",
       "    </tr>\n",
       "    <tr>\n",
       "      <th>5569</th>\n",
       "      <td>ham</td>\n",
       "      <td>Pity, * was in mood for that. So...any other s...</td>\n",
       "    </tr>\n",
       "    <tr>\n",
       "      <th>5570</th>\n",
       "      <td>ham</td>\n",
       "      <td>The guy did some bitching but I acted like i'd...</td>\n",
       "    </tr>\n",
       "    <tr>\n",
       "      <th>5571</th>\n",
       "      <td>ham</td>\n",
       "      <td>Rofl. Its true to its name</td>\n",
       "    </tr>\n",
       "  </tbody>\n",
       "</table>\n",
       "<p>5572 rows × 2 columns</p>\n",
       "</div>"
      ],
      "text/plain": [
       "     target                                               text\n",
       "0       ham  Go until jurong point, crazy.. Available only ...\n",
       "1       ham                      Ok lar... Joking wif u oni...\n",
       "2      spam  Free entry in 2 a wkly comp to win FA Cup fina...\n",
       "3       ham  U dun say so early hor... U c already then say...\n",
       "4       ham  Nah I don't think he goes to usf, he lives aro...\n",
       "...     ...                                                ...\n",
       "5567   spam  This is the 2nd time we have tried 2 contact u...\n",
       "5568    ham              Will Ì_ b going to esplanade fr home?\n",
       "5569    ham  Pity, * was in mood for that. So...any other s...\n",
       "5570    ham  The guy did some bitching but I acted like i'd...\n",
       "5571    ham                         Rofl. Its true to its name\n",
       "\n",
       "[5572 rows x 2 columns]"
      ]
     },
     "execution_count": 54,
     "metadata": {},
     "output_type": "execute_result"
    }
   ],
   "source": [
    "df = df.loc[:,['v1','v2']]\n",
    "df.columns = ['target','text']\n",
    "df"
   ]
  },
  {
   "cell_type": "code",
   "execution_count": 55,
   "metadata": {},
   "outputs": [],
   "source": [
    "import spacy\n",
    "nlp = spacy.load('en_core_web_md')"
   ]
  },
  {
   "cell_type": "code",
   "execution_count": 56,
   "metadata": {},
   "outputs": [],
   "source": [
    "from spacy.lang.en.stop_words import STOP_WORDS"
   ]
  },
  {
   "cell_type": "code",
   "execution_count": 57,
   "metadata": {},
   "outputs": [],
   "source": [
    "# Remove all non alphanumeric characters except whitespaces\n",
    "df[\"text_clean\"] = df[\"text\"].apply(lambda x:''.join(ch for ch in x if ch.isalnum() or ch==\" \"))\n",
    "# remove double spaces and spaces at the beginning and end of strings\n",
    "df[\"text_clean\"] = df[\"text_clean\"].apply(lambda x: x.replace(\" +\",\" \").lower().strip())\n",
    "# remove stop words and replace everyword with their lemma\n",
    "df[\"text_clean\"] = df[\"text_clean\"].apply(lambda x: \" \".join([token.lemma_ for token in nlp(x) if (token.lemma_ not in STOP_WORDS) & (token.text not in STOP_WORDS)]))"
   ]
  },
  {
   "cell_type": "code",
   "execution_count": 58,
   "metadata": {},
   "outputs": [
    {
     "data": {
      "text/html": [
       "<div>\n",
       "<style scoped>\n",
       "    .dataframe tbody tr th:only-of-type {\n",
       "        vertical-align: middle;\n",
       "    }\n",
       "\n",
       "    .dataframe tbody tr th {\n",
       "        vertical-align: top;\n",
       "    }\n",
       "\n",
       "    .dataframe thead th {\n",
       "        text-align: right;\n",
       "    }\n",
       "</style>\n",
       "<table border=\"1\" class=\"dataframe\">\n",
       "  <thead>\n",
       "    <tr style=\"text-align: right;\">\n",
       "      <th></th>\n",
       "      <th>target</th>\n",
       "      <th>text</th>\n",
       "      <th>text_clean</th>\n",
       "    </tr>\n",
       "  </thead>\n",
       "  <tbody>\n",
       "    <tr>\n",
       "      <th>0</th>\n",
       "      <td>ham</td>\n",
       "      <td>Go until jurong point, crazy.. Available only ...</td>\n",
       "      <td>jurong point crazy available bugis n great wor...</td>\n",
       "    </tr>\n",
       "    <tr>\n",
       "      <th>1</th>\n",
       "      <td>ham</td>\n",
       "      <td>Ok lar... Joking wif u oni...</td>\n",
       "      <td>ok lar joke wif u oni</td>\n",
       "    </tr>\n",
       "    <tr>\n",
       "      <th>2</th>\n",
       "      <td>spam</td>\n",
       "      <td>Free entry in 2 a wkly comp to win FA Cup fina...</td>\n",
       "      <td>free entry 2 wkly comp win fa cup final tkts 2...</td>\n",
       "    </tr>\n",
       "    <tr>\n",
       "      <th>3</th>\n",
       "      <td>ham</td>\n",
       "      <td>U dun say so early hor... U c already then say...</td>\n",
       "      <td>u dun early hor u c</td>\n",
       "    </tr>\n",
       "    <tr>\n",
       "      <th>4</th>\n",
       "      <td>ham</td>\n",
       "      <td>Nah I don't think he goes to usf, he lives aro...</td>\n",
       "      <td>nah think usf live</td>\n",
       "    </tr>\n",
       "  </tbody>\n",
       "</table>\n",
       "</div>"
      ],
      "text/plain": [
       "  target                                               text  \\\n",
       "0    ham  Go until jurong point, crazy.. Available only ...   \n",
       "1    ham                      Ok lar... Joking wif u oni...   \n",
       "2   spam  Free entry in 2 a wkly comp to win FA Cup fina...   \n",
       "3    ham  U dun say so early hor... U c already then say...   \n",
       "4    ham  Nah I don't think he goes to usf, he lives aro...   \n",
       "\n",
       "                                          text_clean  \n",
       "0  jurong point crazy available bugis n great wor...  \n",
       "1                              ok lar joke wif u oni  \n",
       "2  free entry 2 wkly comp win fa cup final tkts 2...  \n",
       "3                                u dun early hor u c  \n",
       "4                                 nah think usf live  "
      ]
     },
     "execution_count": 58,
     "metadata": {},
     "output_type": "execute_result"
    }
   ],
   "source": [
    "df.head()"
   ]
  },
  {
   "cell_type": "code",
   "execution_count": 59,
   "metadata": {},
   "outputs": [
    {
     "data": {
      "text/html": [
       "<div>\n",
       "<style scoped>\n",
       "    .dataframe tbody tr th:only-of-type {\n",
       "        vertical-align: middle;\n",
       "    }\n",
       "\n",
       "    .dataframe tbody tr th {\n",
       "        vertical-align: top;\n",
       "    }\n",
       "\n",
       "    .dataframe thead th {\n",
       "        text-align: right;\n",
       "    }\n",
       "</style>\n",
       "<table border=\"1\" class=\"dataframe\">\n",
       "  <thead>\n",
       "    <tr style=\"text-align: right;\">\n",
       "      <th></th>\n",
       "      <th>target</th>\n",
       "      <th>text</th>\n",
       "      <th>text_clean</th>\n",
       "      <th>size</th>\n",
       "    </tr>\n",
       "  </thead>\n",
       "  <tbody>\n",
       "    <tr>\n",
       "      <th>0</th>\n",
       "      <td>ham</td>\n",
       "      <td>Go until jurong point, crazy.. Available only ...</td>\n",
       "      <td>jurong point crazy available bugis n great wor...</td>\n",
       "      <td>75</td>\n",
       "    </tr>\n",
       "    <tr>\n",
       "      <th>1</th>\n",
       "      <td>ham</td>\n",
       "      <td>Ok lar... Joking wif u oni...</td>\n",
       "      <td>ok lar joke wif u oni</td>\n",
       "      <td>21</td>\n",
       "    </tr>\n",
       "    <tr>\n",
       "      <th>2</th>\n",
       "      <td>spam</td>\n",
       "      <td>Free entry in 2 a wkly comp to win FA Cup fina...</td>\n",
       "      <td>free entry 2 wkly comp win fa cup final tkts 2...</td>\n",
       "      <td>131</td>\n",
       "    </tr>\n",
       "    <tr>\n",
       "      <th>3</th>\n",
       "      <td>ham</td>\n",
       "      <td>U dun say so early hor... U c already then say...</td>\n",
       "      <td>u dun early hor u c</td>\n",
       "      <td>19</td>\n",
       "    </tr>\n",
       "    <tr>\n",
       "      <th>4</th>\n",
       "      <td>ham</td>\n",
       "      <td>Nah I don't think he goes to usf, he lives aro...</td>\n",
       "      <td>nah think usf live</td>\n",
       "      <td>18</td>\n",
       "    </tr>\n",
       "  </tbody>\n",
       "</table>\n",
       "</div>"
      ],
      "text/plain": [
       "  target                                               text  \\\n",
       "0    ham  Go until jurong point, crazy.. Available only ...   \n",
       "1    ham                      Ok lar... Joking wif u oni...   \n",
       "2   spam  Free entry in 2 a wkly comp to win FA Cup fina...   \n",
       "3    ham  U dun say so early hor... U c already then say...   \n",
       "4    ham  Nah I don't think he goes to usf, he lives aro...   \n",
       "\n",
       "                                          text_clean  size  \n",
       "0  jurong point crazy available bugis n great wor...    75  \n",
       "1                              ok lar joke wif u oni    21  \n",
       "2  free entry 2 wkly comp win fa cup final tkts 2...   131  \n",
       "3                                u dun early hor u c    19  \n",
       "4                                 nah think usf live    18  "
      ]
     },
     "execution_count": 59,
     "metadata": {},
     "output_type": "execute_result"
    }
   ],
   "source": [
    "df['size'] = df['text_clean'].apply(lambda x: len(x))\n",
    "df.head()"
   ]
  },
  {
   "cell_type": "code",
   "execution_count": 61,
   "metadata": {},
   "outputs": [
    {
     "data": {
      "text/plain": [
       "ham     4825\n",
       "spam     747\n",
       "Name: target, dtype: int64"
      ]
     },
     "execution_count": 61,
     "metadata": {},
     "output_type": "execute_result"
    }
   ],
   "source": [
    "df['target'].value_counts()"
   ]
  },
  {
   "cell_type": "code",
   "execution_count": 66,
   "metadata": {},
   "outputs": [
    {
     "data": {
      "text/plain": [
       "spam    599\n",
       "ham     415\n",
       "Name: target, dtype: int64"
      ]
     },
     "execution_count": 66,
     "metadata": {},
     "output_type": "execute_result"
    }
   ],
   "source": [
    "df.loc[df['size'] > 80,'target'].value_counts()"
   ]
  },
  {
   "cell_type": "code",
   "execution_count": null,
   "metadata": {},
   "outputs": [
    {
     "data": {
      "application/vnd.plotly.v1+json": {
       "config": {
        "plotlyServerURL": "https://plot.ly"
       },
       "data": [
        {
         "alignmentgroup": "True",
         "hovertemplate": "x=%{x}<extra></extra>",
         "legendgroup": "",
         "marker": {
          "color": "#636efa"
         },
         "name": "",
         "notched": false,
         "offsetgroup": "",
         "orientation": "h",
         "showlegend": false,
         "type": "box",
         "x": [
          170,
          137,
          134,
          128,
          122,
          120,
          114,
          111,
          107,
          103,
          103,
          102,
          100,
          97,
          97,
          90,
          90,
          89,
          88,
          86,
          83,
          79,
          76,
          74,
          74,
          70,
          65,
          65,
          64,
          63,
          58,
          58,
          56,
          54,
          54,
          52,
          52,
          50,
          47,
          45,
          44,
          43,
          42,
          40,
          39,
          39,
          36,
          36,
          34,
          33,
          32,
          32,
          31,
          31,
          31,
          31,
          29,
          29,
          28,
          27,
          27,
          26,
          26,
          26,
          25,
          25,
          25,
          25,
          25,
          25,
          25,
          25,
          25,
          25,
          24,
          24,
          23,
          23,
          23,
          23,
          23,
          23,
          22,
          22,
          22,
          22,
          22,
          22,
          22,
          21,
          21,
          21,
          21,
          20,
          20,
          20,
          20,
          19,
          19,
          18,
          18,
          18,
          17,
          17,
          17,
          17,
          17,
          16,
          16,
          16,
          16,
          16,
          16,
          16,
          15,
          15,
          15,
          15,
          14,
          14,
          13,
          13,
          12,
          12,
          11,
          11,
          10,
          10,
          8,
          7,
          7,
          7,
          7,
          6,
          5,
          5,
          5,
          4,
          4,
          3,
          3,
          3,
          3,
          3,
          3,
          3,
          2,
          2,
          2,
          2,
          2,
          2,
          2,
          2,
          2,
          2,
          1,
          1,
          1,
          1,
          1,
          1,
          1,
          1,
          1,
          1,
          1,
          1,
          1,
          1,
          1,
          1,
          1,
          1,
          1,
          1,
          1,
          1,
          1,
          1
         ],
         "x0": " ",
         "xaxis": "x",
         "y0": " ",
         "yaxis": "y"
        }
       ],
       "layout": {
        "boxmode": "group",
        "legend": {
         "tracegroupgap": 0
        },
        "margin": {
         "t": 60
        },
        "template": {
         "data": {
          "bar": [
           {
            "error_x": {
             "color": "#2a3f5f"
            },
            "error_y": {
             "color": "#2a3f5f"
            },
            "marker": {
             "line": {
              "color": "#E5ECF6",
              "width": 0.5
             },
             "pattern": {
              "fillmode": "overlay",
              "size": 10,
              "solidity": 0.2
             }
            },
            "type": "bar"
           }
          ],
          "barpolar": [
           {
            "marker": {
             "line": {
              "color": "#E5ECF6",
              "width": 0.5
             },
             "pattern": {
              "fillmode": "overlay",
              "size": 10,
              "solidity": 0.2
             }
            },
            "type": "barpolar"
           }
          ],
          "carpet": [
           {
            "aaxis": {
             "endlinecolor": "#2a3f5f",
             "gridcolor": "white",
             "linecolor": "white",
             "minorgridcolor": "white",
             "startlinecolor": "#2a3f5f"
            },
            "baxis": {
             "endlinecolor": "#2a3f5f",
             "gridcolor": "white",
             "linecolor": "white",
             "minorgridcolor": "white",
             "startlinecolor": "#2a3f5f"
            },
            "type": "carpet"
           }
          ],
          "choropleth": [
           {
            "colorbar": {
             "outlinewidth": 0,
             "ticks": ""
            },
            "type": "choropleth"
           }
          ],
          "contour": [
           {
            "colorbar": {
             "outlinewidth": 0,
             "ticks": ""
            },
            "colorscale": [
             [
              0,
              "#0d0887"
             ],
             [
              0.1111111111111111,
              "#46039f"
             ],
             [
              0.2222222222222222,
              "#7201a8"
             ],
             [
              0.3333333333333333,
              "#9c179e"
             ],
             [
              0.4444444444444444,
              "#bd3786"
             ],
             [
              0.5555555555555556,
              "#d8576b"
             ],
             [
              0.6666666666666666,
              "#ed7953"
             ],
             [
              0.7777777777777778,
              "#fb9f3a"
             ],
             [
              0.8888888888888888,
              "#fdca26"
             ],
             [
              1,
              "#f0f921"
             ]
            ],
            "type": "contour"
           }
          ],
          "contourcarpet": [
           {
            "colorbar": {
             "outlinewidth": 0,
             "ticks": ""
            },
            "type": "contourcarpet"
           }
          ],
          "heatmap": [
           {
            "colorbar": {
             "outlinewidth": 0,
             "ticks": ""
            },
            "colorscale": [
             [
              0,
              "#0d0887"
             ],
             [
              0.1111111111111111,
              "#46039f"
             ],
             [
              0.2222222222222222,
              "#7201a8"
             ],
             [
              0.3333333333333333,
              "#9c179e"
             ],
             [
              0.4444444444444444,
              "#bd3786"
             ],
             [
              0.5555555555555556,
              "#d8576b"
             ],
             [
              0.6666666666666666,
              "#ed7953"
             ],
             [
              0.7777777777777778,
              "#fb9f3a"
             ],
             [
              0.8888888888888888,
              "#fdca26"
             ],
             [
              1,
              "#f0f921"
             ]
            ],
            "type": "heatmap"
           }
          ],
          "heatmapgl": [
           {
            "colorbar": {
             "outlinewidth": 0,
             "ticks": ""
            },
            "colorscale": [
             [
              0,
              "#0d0887"
             ],
             [
              0.1111111111111111,
              "#46039f"
             ],
             [
              0.2222222222222222,
              "#7201a8"
             ],
             [
              0.3333333333333333,
              "#9c179e"
             ],
             [
              0.4444444444444444,
              "#bd3786"
             ],
             [
              0.5555555555555556,
              "#d8576b"
             ],
             [
              0.6666666666666666,
              "#ed7953"
             ],
             [
              0.7777777777777778,
              "#fb9f3a"
             ],
             [
              0.8888888888888888,
              "#fdca26"
             ],
             [
              1,
              "#f0f921"
             ]
            ],
            "type": "heatmapgl"
           }
          ],
          "histogram": [
           {
            "marker": {
             "pattern": {
              "fillmode": "overlay",
              "size": 10,
              "solidity": 0.2
             }
            },
            "type": "histogram"
           }
          ],
          "histogram2d": [
           {
            "colorbar": {
             "outlinewidth": 0,
             "ticks": ""
            },
            "colorscale": [
             [
              0,
              "#0d0887"
             ],
             [
              0.1111111111111111,
              "#46039f"
             ],
             [
              0.2222222222222222,
              "#7201a8"
             ],
             [
              0.3333333333333333,
              "#9c179e"
             ],
             [
              0.4444444444444444,
              "#bd3786"
             ],
             [
              0.5555555555555556,
              "#d8576b"
             ],
             [
              0.6666666666666666,
              "#ed7953"
             ],
             [
              0.7777777777777778,
              "#fb9f3a"
             ],
             [
              0.8888888888888888,
              "#fdca26"
             ],
             [
              1,
              "#f0f921"
             ]
            ],
            "type": "histogram2d"
           }
          ],
          "histogram2dcontour": [
           {
            "colorbar": {
             "outlinewidth": 0,
             "ticks": ""
            },
            "colorscale": [
             [
              0,
              "#0d0887"
             ],
             [
              0.1111111111111111,
              "#46039f"
             ],
             [
              0.2222222222222222,
              "#7201a8"
             ],
             [
              0.3333333333333333,
              "#9c179e"
             ],
             [
              0.4444444444444444,
              "#bd3786"
             ],
             [
              0.5555555555555556,
              "#d8576b"
             ],
             [
              0.6666666666666666,
              "#ed7953"
             ],
             [
              0.7777777777777778,
              "#fb9f3a"
             ],
             [
              0.8888888888888888,
              "#fdca26"
             ],
             [
              1,
              "#f0f921"
             ]
            ],
            "type": "histogram2dcontour"
           }
          ],
          "mesh3d": [
           {
            "colorbar": {
             "outlinewidth": 0,
             "ticks": ""
            },
            "type": "mesh3d"
           }
          ],
          "parcoords": [
           {
            "line": {
             "colorbar": {
              "outlinewidth": 0,
              "ticks": ""
             }
            },
            "type": "parcoords"
           }
          ],
          "pie": [
           {
            "automargin": true,
            "type": "pie"
           }
          ],
          "scatter": [
           {
            "fillpattern": {
             "fillmode": "overlay",
             "size": 10,
             "solidity": 0.2
            },
            "type": "scatter"
           }
          ],
          "scatter3d": [
           {
            "line": {
             "colorbar": {
              "outlinewidth": 0,
              "ticks": ""
             }
            },
            "marker": {
             "colorbar": {
              "outlinewidth": 0,
              "ticks": ""
             }
            },
            "type": "scatter3d"
           }
          ],
          "scattercarpet": [
           {
            "marker": {
             "colorbar": {
              "outlinewidth": 0,
              "ticks": ""
             }
            },
            "type": "scattercarpet"
           }
          ],
          "scattergeo": [
           {
            "marker": {
             "colorbar": {
              "outlinewidth": 0,
              "ticks": ""
             }
            },
            "type": "scattergeo"
           }
          ],
          "scattergl": [
           {
            "marker": {
             "colorbar": {
              "outlinewidth": 0,
              "ticks": ""
             }
            },
            "type": "scattergl"
           }
          ],
          "scattermapbox": [
           {
            "marker": {
             "colorbar": {
              "outlinewidth": 0,
              "ticks": ""
             }
            },
            "type": "scattermapbox"
           }
          ],
          "scatterpolar": [
           {
            "marker": {
             "colorbar": {
              "outlinewidth": 0,
              "ticks": ""
             }
            },
            "type": "scatterpolar"
           }
          ],
          "scatterpolargl": [
           {
            "marker": {
             "colorbar": {
              "outlinewidth": 0,
              "ticks": ""
             }
            },
            "type": "scatterpolargl"
           }
          ],
          "scatterternary": [
           {
            "marker": {
             "colorbar": {
              "outlinewidth": 0,
              "ticks": ""
             }
            },
            "type": "scatterternary"
           }
          ],
          "surface": [
           {
            "colorbar": {
             "outlinewidth": 0,
             "ticks": ""
            },
            "colorscale": [
             [
              0,
              "#0d0887"
             ],
             [
              0.1111111111111111,
              "#46039f"
             ],
             [
              0.2222222222222222,
              "#7201a8"
             ],
             [
              0.3333333333333333,
              "#9c179e"
             ],
             [
              0.4444444444444444,
              "#bd3786"
             ],
             [
              0.5555555555555556,
              "#d8576b"
             ],
             [
              0.6666666666666666,
              "#ed7953"
             ],
             [
              0.7777777777777778,
              "#fb9f3a"
             ],
             [
              0.8888888888888888,
              "#fdca26"
             ],
             [
              1,
              "#f0f921"
             ]
            ],
            "type": "surface"
           }
          ],
          "table": [
           {
            "cells": {
             "fill": {
              "color": "#EBF0F8"
             },
             "line": {
              "color": "white"
             }
            },
            "header": {
             "fill": {
              "color": "#C8D4E3"
             },
             "line": {
              "color": "white"
             }
            },
            "type": "table"
           }
          ]
         },
         "layout": {
          "annotationdefaults": {
           "arrowcolor": "#2a3f5f",
           "arrowhead": 0,
           "arrowwidth": 1
          },
          "autotypenumbers": "strict",
          "coloraxis": {
           "colorbar": {
            "outlinewidth": 0,
            "ticks": ""
           }
          },
          "colorscale": {
           "diverging": [
            [
             0,
             "#8e0152"
            ],
            [
             0.1,
             "#c51b7d"
            ],
            [
             0.2,
             "#de77ae"
            ],
            [
             0.3,
             "#f1b6da"
            ],
            [
             0.4,
             "#fde0ef"
            ],
            [
             0.5,
             "#f7f7f7"
            ],
            [
             0.6,
             "#e6f5d0"
            ],
            [
             0.7,
             "#b8e186"
            ],
            [
             0.8,
             "#7fbc41"
            ],
            [
             0.9,
             "#4d9221"
            ],
            [
             1,
             "#276419"
            ]
           ],
           "sequential": [
            [
             0,
             "#0d0887"
            ],
            [
             0.1111111111111111,
             "#46039f"
            ],
            [
             0.2222222222222222,
             "#7201a8"
            ],
            [
             0.3333333333333333,
             "#9c179e"
            ],
            [
             0.4444444444444444,
             "#bd3786"
            ],
            [
             0.5555555555555556,
             "#d8576b"
            ],
            [
             0.6666666666666666,
             "#ed7953"
            ],
            [
             0.7777777777777778,
             "#fb9f3a"
            ],
            [
             0.8888888888888888,
             "#fdca26"
            ],
            [
             1,
             "#f0f921"
            ]
           ],
           "sequentialminus": [
            [
             0,
             "#0d0887"
            ],
            [
             0.1111111111111111,
             "#46039f"
            ],
            [
             0.2222222222222222,
             "#7201a8"
            ],
            [
             0.3333333333333333,
             "#9c179e"
            ],
            [
             0.4444444444444444,
             "#bd3786"
            ],
            [
             0.5555555555555556,
             "#d8576b"
            ],
            [
             0.6666666666666666,
             "#ed7953"
            ],
            [
             0.7777777777777778,
             "#fb9f3a"
            ],
            [
             0.8888888888888888,
             "#fdca26"
            ],
            [
             1,
             "#f0f921"
            ]
           ]
          },
          "colorway": [
           "#636efa",
           "#EF553B",
           "#00cc96",
           "#ab63fa",
           "#FFA15A",
           "#19d3f3",
           "#FF6692",
           "#B6E880",
           "#FF97FF",
           "#FECB52"
          ],
          "font": {
           "color": "#2a3f5f"
          },
          "geo": {
           "bgcolor": "white",
           "lakecolor": "white",
           "landcolor": "#E5ECF6",
           "showlakes": true,
           "showland": true,
           "subunitcolor": "white"
          },
          "hoverlabel": {
           "align": "left"
          },
          "hovermode": "closest",
          "mapbox": {
           "style": "light"
          },
          "paper_bgcolor": "white",
          "plot_bgcolor": "#E5ECF6",
          "polar": {
           "angularaxis": {
            "gridcolor": "white",
            "linecolor": "white",
            "ticks": ""
           },
           "bgcolor": "#E5ECF6",
           "radialaxis": {
            "gridcolor": "white",
            "linecolor": "white",
            "ticks": ""
           }
          },
          "scene": {
           "xaxis": {
            "backgroundcolor": "#E5ECF6",
            "gridcolor": "white",
            "gridwidth": 2,
            "linecolor": "white",
            "showbackground": true,
            "ticks": "",
            "zerolinecolor": "white"
           },
           "yaxis": {
            "backgroundcolor": "#E5ECF6",
            "gridcolor": "white",
            "gridwidth": 2,
            "linecolor": "white",
            "showbackground": true,
            "ticks": "",
            "zerolinecolor": "white"
           },
           "zaxis": {
            "backgroundcolor": "#E5ECF6",
            "gridcolor": "white",
            "gridwidth": 2,
            "linecolor": "white",
            "showbackground": true,
            "ticks": "",
            "zerolinecolor": "white"
           }
          },
          "shapedefaults": {
           "line": {
            "color": "#2a3f5f"
           }
          },
          "ternary": {
           "aaxis": {
            "gridcolor": "white",
            "linecolor": "white",
            "ticks": ""
           },
           "baxis": {
            "gridcolor": "white",
            "linecolor": "white",
            "ticks": ""
           },
           "bgcolor": "#E5ECF6",
           "caxis": {
            "gridcolor": "white",
            "linecolor": "white",
            "ticks": ""
           }
          },
          "title": {
           "x": 0.05
          },
          "xaxis": {
           "automargin": true,
           "gridcolor": "white",
           "linecolor": "white",
           "ticks": "",
           "title": {
            "standoff": 15
           },
           "zerolinecolor": "white",
           "zerolinewidth": 2
          },
          "yaxis": {
           "automargin": true,
           "gridcolor": "white",
           "linecolor": "white",
           "ticks": "",
           "title": {
            "standoff": 15
           },
           "zerolinecolor": "white",
           "zerolinewidth": 2
          }
         }
        },
        "xaxis": {
         "anchor": "y",
         "domain": [
          0,
          1
         ],
         "title": {
          "text": "x"
         }
        },
        "yaxis": {
         "anchor": "x",
         "domain": [
          0,
          1
         ]
        }
       }
      }
     },
     "metadata": {},
     "output_type": "display_data"
    }
   ],
   "source": [
    "sizes = df['size'].value_counts()\n",
    "sizes_ham = df['size'].value_counts()\n",
    "sizes_scam = df['size'].value_counts()\n",
    "import plotly.express as px\n",
    "\n",
    "px.box(x=sizes)"
   ]
  },
  {
   "cell_type": "code",
   "execution_count": null,
   "metadata": {},
   "outputs": [],
   "source": []
  },
  {
   "cell_type": "code",
   "execution_count": null,
   "metadata": {},
   "outputs": [
    {
     "data": {
      "text/plain": [
       "target\n",
       "ham     1171\n",
       "spam     696\n",
       "dtype: int64"
      ]
     },
     "execution_count": 10,
     "metadata": {},
     "output_type": "execute_result"
    }
   ],
   "source": [
    "# on regarde si il n'y a pas une classe unique dans les outliers, ce qui pourrait être une information en soit\n",
    "df.query('size >= 50').value_counts(\"target\")"
   ]
  },
  {
   "cell_type": "code",
   "execution_count": 68,
   "metadata": {},
   "outputs": [],
   "source": [
    "# on supprime les trop grandes chaines pour aviter d'avoir de trop grandes valeurs\n",
    "\n",
    "#df = df.query('size < 50') # 0.93 au lieu de 0.99"
   ]
  },
  {
   "cell_type": "code",
   "execution_count": null,
   "metadata": {},
   "outputs": [],
   "source": []
  },
  {
   "cell_type": "code",
   "execution_count": 69,
   "metadata": {},
   "outputs": [
    {
     "data": {
      "text/plain": [
       "True    5572\n",
       "Name: text_clean, dtype: int64"
      ]
     },
     "execution_count": 69,
     "metadata": {},
     "output_type": "execute_result"
    }
   ],
   "source": [
    "mask = df['text_clean'].apply(lambda x: type(x)==str)\n",
    "mask.value_counts()"
   ]
  },
  {
   "cell_type": "code",
   "execution_count": 70,
   "metadata": {},
   "outputs": [],
   "source": [
    "tokenizer = tf.keras.preprocessing.text.Tokenizer(num_words=1000, oov_token=\"out_of_vocab\") # instanciate the tokenizer # todo\n",
    "tokenizer.fit_on_texts(df[\"text_clean\"])\n",
    "df[\"text_encoded\"] = tokenizer.texts_to_sequences(df[\"text_clean\"])"
   ]
  },
  {
   "cell_type": "code",
   "execution_count": 71,
   "metadata": {},
   "outputs": [],
   "source": [
    "df['target_encoded'] = df['target'].map({'ham':0,'spam':1})"
   ]
  },
  {
   "cell_type": "code",
   "execution_count": 72,
   "metadata": {},
   "outputs": [],
   "source": [
    "text_pad = tf.keras.preprocessing.sequence.pad_sequences(df[\"text_encoded\"], padding=\"post\")"
   ]
  },
  {
   "cell_type": "code",
   "execution_count": 73,
   "metadata": {},
   "outputs": [],
   "source": [
    "from sklearn.model_selection import train_test_split\n",
    "\n",
    "xtrain, xval, ytrain, yval = train_test_split(text_pad, df[\"target_encoded\"], test_size=0.2)"
   ]
  },
  {
   "cell_type": "code",
   "execution_count": 74,
   "metadata": {},
   "outputs": [],
   "source": [
    "train = tf.data.Dataset.from_tensor_slices((xtrain, ytrain))\n",
    "val = tf.data.Dataset.from_tensor_slices((xval, yval))"
   ]
  },
  {
   "cell_type": "code",
   "execution_count": 75,
   "metadata": {},
   "outputs": [
    {
     "data": {
      "text/plain": [
       "4457"
      ]
     },
     "execution_count": 75,
     "metadata": {},
     "output_type": "execute_result"
    }
   ],
   "source": [
    "len(train)"
   ]
  },
  {
   "cell_type": "code",
   "execution_count": 76,
   "metadata": {},
   "outputs": [],
   "source": [
    "train_batch = train.shuffle(len(train)).batch(64)\n",
    "val_batch = val.shuffle(len(val)).batch(64)"
   ]
  },
  {
   "cell_type": "code",
   "execution_count": 77,
   "metadata": {},
   "outputs": [
    {
     "name": "stdout",
     "output_type": "stream",
     "text": [
      "tf.Tensor(\n",
      "[[724   0   0 ...   0   0   0]\n",
      " [615 211  29 ...   0   0   0]\n",
      " [ 55   1   7 ...   0   0   0]\n",
      " ...\n",
      " [517   1 923 ...   0   0   0]\n",
      " [438   1  42 ...   0   0   0]\n",
      " [ 29 524   0 ...   0   0   0]], shape=(64, 72), dtype=int32) tf.Tensor(\n",
      "[0 1 0 0 0 0 0 0 0 0 0 0 0 0 0 0 1 0 0 0 0 0 0 0 1 0 0 0 0 0 0 0 0 0 0 1 0\n",
      " 0 0 0 0 1 0 1 0 1 0 0 0 0 0 0 0 0 0 0 0 1 0 0 0 0 0 0], shape=(64,), dtype=int64)\n"
     ]
    }
   ],
   "source": [
    "for text, target in val_batch.take(1):\n",
    "  print(text, target)"
   ]
  },
  {
   "cell_type": "code",
   "execution_count": 78,
   "metadata": {},
   "outputs": [],
   "source": [
    "vocab_size = tokenizer.num_words\n",
    "model = tf.keras.Sequential([\n",
    "                  # Couche d'Input Word Embedding           \n",
    "                  tf.keras.layers.Embedding(vocab_size+1, 128, input_shape=[text.shape[1],], name=\"embedding\"),\n",
    "                  \n",
    "                  tf.keras.layers.LSTM(units=128, return_sequences=True, dropout=0.2),\n",
    "                  tf.keras.layers.LSTM(units=64, return_sequences=False, dropout=0.2),\n",
    "\n",
    "                  # hi speed conversion 0.98, faster convergence\n",
    "                  # tf.keras.layers.Bidirectional(tf.keras.layers.LSTM(64, return_sequences=True)),\n",
    "                  # tf.keras.layers.Bidirectional(tf.keras.layers.LSTM(64)),\n",
    "                  #tf.keras.layers.GlobalMaxPooling1D(),\n",
    "# todo : dropout\n",
    "                  # Couche Dense classique\n",
    "                  tf.keras.layers.Dense(64, activation='relu'),\n",
    "                  tf.keras.layers.Dropout(0.2),\n",
    "                  tf.keras.layers.Dense(32, activation='relu'),\n",
    "                  tf.keras.layers.Dropout(0.2),\n",
    "\n",
    "                  tf.keras.layers.Dense(1, activation=\"sigmoid\")\n",
    "])"
   ]
  },
  {
   "cell_type": "code",
   "execution_count": 79,
   "metadata": {},
   "outputs": [],
   "source": [
    "import keras.backend as K\n",
    "\n",
    "def f1(y_true, y_pred):\n",
    "    y_pred = K.round(y_pred)\n",
    "    tp = K.sum(K.cast(y_true*y_pred, 'float'), axis=0)\n",
    "    tn = K.sum(K.cast((1-y_true)*(1-y_pred), 'float'), axis=0)\n",
    "    fp = K.sum(K.cast((1-y_true)*y_pred, 'float'), axis=0)\n",
    "    fn = K.sum(K.cast(y_true*(1-y_pred), 'float'), axis=0)\n",
    "\n",
    "    p = tp / (tp + fp + K.epsilon())\n",
    "    r = tp / (tp + fn + K.epsilon())\n",
    "\n",
    "    f1 = 2*p*r / (p+r+K.epsilon())\n",
    "    f1 = tf.where(tf.math.is_nan(f1), tf.zeros_like(f1), f1)\n",
    "    return K.mean(f1)\n",
    "\n",
    "# much better\n",
    "def f1_weighted(true, pred): #shapes (batch, 4)\n",
    "\n",
    "    #for metrics include these two lines, for loss, don't include them\n",
    "    #these are meant to round 'pred' to exactly zeros and ones\n",
    "    # predLabels = K.argmax(pred, axis=-1)\n",
    "    # pred = K.one_hot(predLabels, 4) \n",
    "\n",
    "\n",
    "    ground_positives = K.sum(true, axis=0) + K.epsilon()       # = TP + FN\n",
    "    pred_positives = K.sum(pred, axis=0) + K.epsilon()         # = TP + FP\n",
    "    true_positives = K.sum(true * pred, axis=0) + K.epsilon()  # = TP\n",
    "        #all with shape (4,)\n",
    "    \n",
    "    precision = true_positives / pred_positives \n",
    "    recall = true_positives / ground_positives\n",
    "        #both = 1 if ground_positives == 0 or pred_positives == 0\n",
    "        #shape (4,)\n",
    "\n",
    "    f1 = 2 * (precision * recall) / (precision + recall + K.epsilon())\n",
    "        #still with shape (4,)\n",
    "\n",
    "    weighted_f1 = f1 * ground_positives / K.sum(ground_positives) \n",
    "    weighted_f1 = K.sum(weighted_f1)\n",
    "\n",
    "    \n",
    "    return 1 - weighted_f1 #for metrics, return only 'weighted_f1'\n",
    "\n",
    "def f1_weighted_loss(true, pred): #shapes (batch, 4)\n",
    "\n",
    "    #for metrics include these two lines, for loss, don't include them\n",
    "    #these are meant to round 'pred' to exactly zeros and ones\n",
    "    # predLabels = K.argmax(pred, axis=-1)\n",
    "    # pred = K.one_hot(predLabels, 4) \n",
    "\n",
    "    true = tf.cast(true, tf.float32)\n",
    "\n",
    "    ground_positives = K.sum(true, axis=0) + K.epsilon()       # = TP + FN\n",
    "    pred_positives = K.sum(pred, axis=0) + K.epsilon()         # = TP + FP\n",
    "    true_positives = K.sum(true * pred, axis=0) + K.epsilon()  # = TP\n",
    "        #all with shape (4,)\n",
    "    \n",
    "    precision = true_positives / pred_positives \n",
    "    recall = true_positives / ground_positives\n",
    "        #both = 1 if ground_positives == 0 or pred_positives == 0\n",
    "        #shape (4,)\n",
    "\n",
    "    f1 = 2 * (precision * recall) / (precision + recall + K.epsilon())\n",
    "        #still with shape (4,)\n",
    "\n",
    "    weighted_f1 = f1 * ground_positives / K.sum(ground_positives) \n",
    "    weighted_f1 = K.sum(weighted_f1)\n",
    "\n",
    "    \n",
    "    return 1 - weighted_f1 #for metrics, return only 'weighted_f1'"
   ]
  },
  {
   "cell_type": "code",
   "execution_count": 93,
   "metadata": {},
   "outputs": [],
   "source": [
    "optimizer= tf.keras.optimizers.Adam(learning_rate=0.001)\n",
    "\n",
    "model.compile(optimizer=optimizer,\n",
    "              #loss=f1_weighted_loss,\n",
    "              loss=tf.keras.losses.BinaryCrossentropy(),\n",
    "              metrics=[f1_weighted,tf.keras.metrics.BinaryAccuracy])"
   ]
  },
  {
   "cell_type": "code",
   "execution_count": 81,
   "metadata": {},
   "outputs": [],
   "source": [
    "targets_count = df['target_encoded'].value_counts()\n",
    "total = targets_count.sum()\n",
    "dic_weights = {i : 1 / (targets_count[i]/total) / 2 for i in range(2)}"
   ]
  },
  {
   "cell_type": "code",
   "execution_count": null,
   "metadata": {},
   "outputs": [],
   "source": []
  },
  {
   "cell_type": "code",
   "execution_count": 82,
   "metadata": {},
   "outputs": [
    {
     "data": {
      "text/plain": [
       "{0: 0.5774093264248704, 1: 3.72958500669344}"
      ]
     },
     "execution_count": 82,
     "metadata": {},
     "output_type": "execute_result"
    }
   ],
   "source": [
    "dic_weights"
   ]
  },
  {
   "cell_type": "code",
   "execution_count": 83,
   "metadata": {},
   "outputs": [],
   "source": [
    "# part = 1 - df['target_encoded'].value_counts() / df.shape[0]\n",
    "# part.to_dict()"
   ]
  },
  {
   "cell_type": "code",
   "execution_count": 95,
   "metadata": {},
   "outputs": [
    {
     "name": "stdout",
     "output_type": "stream",
     "text": [
      "Epoch 1/100\n"
     ]
    },
    {
     "name": "stderr",
     "output_type": "stream",
     "text": [
      "2022-11-07 17:07:07.605577: I tensorflow/core/grappler/optimizers/custom_graph_optimizer_registry.cc:114] Plugin optimizer for device_type GPU is enabled.\n",
      "2022-11-07 17:07:07.954517: I tensorflow/core/grappler/optimizers/custom_graph_optimizer_registry.cc:114] Plugin optimizer for device_type GPU is enabled.\n",
      "2022-11-07 17:07:08.154658: I tensorflow/core/grappler/optimizers/custom_graph_optimizer_registry.cc:114] Plugin optimizer for device_type GPU is enabled.\n",
      "2022-11-07 17:07:08.619656: I tensorflow/core/grappler/optimizers/custom_graph_optimizer_registry.cc:114] Plugin optimizer for device_type GPU is enabled.\n",
      "2022-11-07 17:07:08.946295: I tensorflow/core/grappler/optimizers/custom_graph_optimizer_registry.cc:114] Plugin optimizer for device_type GPU is enabled.\n"
     ]
    },
    {
     "name": "stdout",
     "output_type": "stream",
     "text": [
      "70/70 [==============================] - 9s 90ms/step - loss: 0.5002 - binary_accuracy: 0.7653 - val_loss: 0.3768 - val_binary_accuracy: 0.8753\n",
      "Epoch 2/100\n",
      "70/70 [==============================] - 5s 68ms/step - loss: 0.4079 - binary_accuracy: 0.8636 - val_loss: 0.3810 - val_binary_accuracy: 0.8753\n",
      "Epoch 3/100\n",
      "70/70 [==============================] - 5s 69ms/step - loss: 0.4073 - binary_accuracy: 0.8636 - val_loss: 0.3769 - val_binary_accuracy: 0.8753\n",
      "Epoch 4/100\n",
      "70/70 [==============================] - 5s 67ms/step - loss: 0.4027 - binary_accuracy: 0.8636 - val_loss: 0.3787 - val_binary_accuracy: 0.8753\n",
      "Epoch 5/100\n",
      "70/70 [==============================] - 4s 63ms/step - loss: 0.4015 - binary_accuracy: 0.8636 - val_loss: 0.3771 - val_binary_accuracy: 0.8753\n",
      "Epoch 6/100\n",
      "70/70 [==============================] - 5s 66ms/step - loss: 0.4017 - binary_accuracy: 0.8636 - val_loss: 0.3831 - val_binary_accuracy: 0.8753\n",
      "Epoch 7/100\n",
      "70/70 [==============================] - 4s 63ms/step - loss: 0.4011 - binary_accuracy: 0.8636 - val_loss: 0.3765 - val_binary_accuracy: 0.8753\n",
      "Epoch 8/100\n",
      "70/70 [==============================] - 5s 66ms/step - loss: 0.4015 - binary_accuracy: 0.8636 - val_loss: 0.3790 - val_binary_accuracy: 0.8753\n",
      "Epoch 9/100\n",
      "70/70 [==============================] - 5s 70ms/step - loss: 0.4011 - binary_accuracy: 0.8636 - val_loss: 0.3809 - val_binary_accuracy: 0.8753\n",
      "Epoch 10/100\n",
      "70/70 [==============================] - 4s 63ms/step - loss: 0.3997 - binary_accuracy: 0.8636 - val_loss: 0.3761 - val_binary_accuracy: 0.8753\n",
      "Epoch 11/100\n",
      "70/70 [==============================] - 5s 71ms/step - loss: 0.3995 - binary_accuracy: 0.8636 - val_loss: 0.3776 - val_binary_accuracy: 0.8753\n",
      "Epoch 12/100\n",
      "70/70 [==============================] - 5s 70ms/step - loss: 0.3997 - binary_accuracy: 0.8636 - val_loss: 0.3807 - val_binary_accuracy: 0.8753\n",
      "Epoch 13/100\n",
      "70/70 [==============================] - 4s 63ms/step - loss: 0.3996 - binary_accuracy: 0.8636 - val_loss: 0.3767 - val_binary_accuracy: 0.8753\n",
      "Epoch 14/100\n",
      "70/70 [==============================] - 4s 63ms/step - loss: 0.4005 - binary_accuracy: 0.8636 - val_loss: 0.3831 - val_binary_accuracy: 0.8753\n",
      "Epoch 15/100\n",
      "70/70 [==============================] - 4s 63ms/step - loss: 0.4029 - binary_accuracy: 0.8636 - val_loss: 0.3829 - val_binary_accuracy: 0.8753\n",
      "Epoch 16/100\n",
      "70/70 [==============================] - 4s 61ms/step - loss: 0.4011 - binary_accuracy: 0.8636 - val_loss: 0.3915 - val_binary_accuracy: 0.8753\n",
      "Epoch 17/100\n",
      "70/70 [==============================] - 4s 60ms/step - loss: 0.4011 - binary_accuracy: 0.8636 - val_loss: 0.3873 - val_binary_accuracy: 0.8753\n",
      "Epoch 18/100\n",
      "70/70 [==============================] - 4s 61ms/step - loss: 0.4008 - binary_accuracy: 0.8636 - val_loss: 0.3802 - val_binary_accuracy: 0.8753\n",
      "Epoch 19/100\n",
      "70/70 [==============================] - 4s 61ms/step - loss: 0.3996 - binary_accuracy: 0.8636 - val_loss: 0.3794 - val_binary_accuracy: 0.8753\n",
      "Epoch 20/100\n",
      "70/70 [==============================] - 4s 60ms/step - loss: 0.4002 - binary_accuracy: 0.8636 - val_loss: 0.3813 - val_binary_accuracy: 0.8753\n",
      "Epoch 21/100\n",
      "70/70 [==============================] - 4s 61ms/step - loss: 0.4003 - binary_accuracy: 0.8636 - val_loss: 0.3856 - val_binary_accuracy: 0.8753\n",
      "Epoch 22/100\n",
      "70/70 [==============================] - 4s 60ms/step - loss: 0.4005 - binary_accuracy: 0.8636 - val_loss: 0.3790 - val_binary_accuracy: 0.8753\n",
      "Epoch 23/100\n",
      "70/70 [==============================] - 4s 61ms/step - loss: 0.4009 - binary_accuracy: 0.8636 - val_loss: 0.3832 - val_binary_accuracy: 0.8753\n",
      "Epoch 24/100\n",
      "70/70 [==============================] - 4s 60ms/step - loss: 0.4005 - binary_accuracy: 0.8636 - val_loss: 0.3817 - val_binary_accuracy: 0.8753\n",
      "Epoch 25/100\n",
      "70/70 [==============================] - 4s 60ms/step - loss: 0.4001 - binary_accuracy: 0.8636 - val_loss: 0.3815 - val_binary_accuracy: 0.8753\n",
      "Epoch 26/100\n",
      "70/70 [==============================] - 4s 60ms/step - loss: 0.4000 - binary_accuracy: 0.8636 - val_loss: 0.3808 - val_binary_accuracy: 0.8753\n",
      "Epoch 27/100\n",
      "70/70 [==============================] - 4s 60ms/step - loss: 0.3996 - binary_accuracy: 0.8636 - val_loss: 0.3801 - val_binary_accuracy: 0.8753\n",
      "Epoch 28/100\n",
      "70/70 [==============================] - 4s 60ms/step - loss: 0.4001 - binary_accuracy: 0.8636 - val_loss: 0.3807 - val_binary_accuracy: 0.8753\n",
      "Epoch 29/100\n",
      "70/70 [==============================] - 4s 60ms/step - loss: 0.4001 - binary_accuracy: 0.8636 - val_loss: 0.3814 - val_binary_accuracy: 0.8753\n",
      "Epoch 30/100\n",
      "70/70 [==============================] - 4s 61ms/step - loss: 0.3996 - binary_accuracy: 0.8636 - val_loss: 0.3787 - val_binary_accuracy: 0.8753\n",
      "Epoch 31/100\n",
      "70/70 [==============================] - 4s 60ms/step - loss: 0.4005 - binary_accuracy: 0.8636 - val_loss: 0.3774 - val_binary_accuracy: 0.8753\n",
      "Epoch 32/100\n",
      "70/70 [==============================] - 4s 61ms/step - loss: 0.3992 - binary_accuracy: 0.8636 - val_loss: 0.3799 - val_binary_accuracy: 0.8753\n",
      "Epoch 33/100\n",
      "70/70 [==============================] - 4s 62ms/step - loss: 0.3999 - binary_accuracy: 0.8636 - val_loss: 0.3798 - val_binary_accuracy: 0.8753\n",
      "Epoch 34/100\n",
      "70/70 [==============================] - 4s 62ms/step - loss: 0.3994 - binary_accuracy: 0.8636 - val_loss: 0.3851 - val_binary_accuracy: 0.8753\n",
      "Epoch 35/100\n",
      "70/70 [==============================] - 4s 61ms/step - loss: 0.3997 - binary_accuracy: 0.8636 - val_loss: 0.3843 - val_binary_accuracy: 0.8753\n",
      "Epoch 36/100\n",
      "70/70 [==============================] - 5s 68ms/step - loss: 0.3998 - binary_accuracy: 0.8636 - val_loss: 0.3838 - val_binary_accuracy: 0.8753\n",
      "Epoch 37/100\n",
      "70/70 [==============================] - 4s 60ms/step - loss: 0.3996 - binary_accuracy: 0.8636 - val_loss: 0.3871 - val_binary_accuracy: 0.8753\n",
      "Epoch 38/100\n",
      "70/70 [==============================] - 4s 61ms/step - loss: 0.3994 - binary_accuracy: 0.8636 - val_loss: 0.3783 - val_binary_accuracy: 0.8753\n",
      "Epoch 39/100\n",
      "70/70 [==============================] - 4s 61ms/step - loss: 0.3989 - binary_accuracy: 0.8636 - val_loss: 0.3780 - val_binary_accuracy: 0.8753\n",
      "Epoch 40/100\n",
      "70/70 [==============================] - 4s 61ms/step - loss: 0.3995 - binary_accuracy: 0.8636 - val_loss: 0.3808 - val_binary_accuracy: 0.8753\n",
      "Epoch 41/100\n",
      "70/70 [==============================] - 4s 60ms/step - loss: 0.3998 - binary_accuracy: 0.8636 - val_loss: 0.3814 - val_binary_accuracy: 0.8753\n",
      "Epoch 42/100\n",
      "70/70 [==============================] - 4s 61ms/step - loss: 0.4001 - binary_accuracy: 0.8636 - val_loss: 0.3797 - val_binary_accuracy: 0.8753\n",
      "Epoch 43/100\n",
      "70/70 [==============================] - 4s 61ms/step - loss: 0.3991 - binary_accuracy: 0.8636 - val_loss: 0.3811 - val_binary_accuracy: 0.8753\n",
      "Epoch 44/100\n",
      "70/70 [==============================] - 4s 61ms/step - loss: 0.3986 - binary_accuracy: 0.8636 - val_loss: 0.3784 - val_binary_accuracy: 0.8753\n",
      "Epoch 45/100\n",
      "70/70 [==============================] - 4s 62ms/step - loss: 0.4042 - binary_accuracy: 0.8636 - val_loss: 0.3800 - val_binary_accuracy: 0.8753\n",
      "Epoch 46/100\n",
      "70/70 [==============================] - 4s 62ms/step - loss: 0.3992 - binary_accuracy: 0.8636 - val_loss: 0.3823 - val_binary_accuracy: 0.8753\n",
      "Epoch 47/100\n",
      "70/70 [==============================] - 4s 62ms/step - loss: 0.3999 - binary_accuracy: 0.8636 - val_loss: 0.3829 - val_binary_accuracy: 0.8753\n",
      "Epoch 48/100\n",
      "70/70 [==============================] - 4s 62ms/step - loss: 0.3992 - binary_accuracy: 0.8636 - val_loss: 0.3803 - val_binary_accuracy: 0.8753\n",
      "Epoch 49/100\n",
      "70/70 [==============================] - 4s 62ms/step - loss: 0.3985 - binary_accuracy: 0.8636 - val_loss: 0.3909 - val_binary_accuracy: 0.8753\n",
      "Epoch 50/100\n",
      "70/70 [==============================] - 4s 62ms/step - loss: 0.4004 - binary_accuracy: 0.8636 - val_loss: 0.3854 - val_binary_accuracy: 0.8753\n",
      "Epoch 51/100\n",
      "70/70 [==============================] - 4s 61ms/step - loss: 0.4007 - binary_accuracy: 0.8636 - val_loss: 0.3864 - val_binary_accuracy: 0.8753\n",
      "Epoch 52/100\n",
      "70/70 [==============================] - 4s 63ms/step - loss: 0.4013 - binary_accuracy: 0.8636 - val_loss: 0.3816 - val_binary_accuracy: 0.8753\n",
      "Epoch 53/100\n",
      "70/70 [==============================] - 4s 63ms/step - loss: 0.3980 - binary_accuracy: 0.8636 - val_loss: 0.3839 - val_binary_accuracy: 0.8753\n",
      "Epoch 54/100\n",
      "70/70 [==============================] - 4s 64ms/step - loss: 0.4009 - binary_accuracy: 0.8636 - val_loss: 0.3852 - val_binary_accuracy: 0.8753\n",
      "Epoch 55/100\n",
      "70/70 [==============================] - 4s 63ms/step - loss: 0.3986 - binary_accuracy: 0.8636 - val_loss: 0.3802 - val_binary_accuracy: 0.8753\n",
      "Epoch 56/100\n",
      "70/70 [==============================] - 4s 64ms/step - loss: 0.4002 - binary_accuracy: 0.8636 - val_loss: 0.3815 - val_binary_accuracy: 0.8753\n",
      "Epoch 57/100\n",
      "70/70 [==============================] - 4s 63ms/step - loss: 0.4005 - binary_accuracy: 0.8636 - val_loss: 0.3799 - val_binary_accuracy: 0.8753\n",
      "Epoch 58/100\n",
      "70/70 [==============================] - 4s 63ms/step - loss: 0.4001 - binary_accuracy: 0.8636 - val_loss: 0.3828 - val_binary_accuracy: 0.8753\n",
      "Epoch 59/100\n",
      "70/70 [==============================] - 4s 62ms/step - loss: 0.3984 - binary_accuracy: 0.8636 - val_loss: 0.3870 - val_binary_accuracy: 0.8753\n",
      "Epoch 60/100\n",
      "70/70 [==============================] - 4s 62ms/step - loss: 0.3994 - binary_accuracy: 0.8636 - val_loss: 0.3805 - val_binary_accuracy: 0.8753\n",
      "Epoch 61/100\n",
      "70/70 [==============================] - 4s 62ms/step - loss: 0.3989 - binary_accuracy: 0.8636 - val_loss: 0.3850 - val_binary_accuracy: 0.8753\n",
      "Epoch 62/100\n",
      "70/70 [==============================] - 4s 62ms/step - loss: 0.4004 - binary_accuracy: 0.8636 - val_loss: 0.3823 - val_binary_accuracy: 0.8753\n",
      "Epoch 63/100\n",
      "70/70 [==============================] - 4s 62ms/step - loss: 0.3991 - binary_accuracy: 0.8636 - val_loss: 0.3800 - val_binary_accuracy: 0.8753\n",
      "Epoch 64/100\n",
      "70/70 [==============================] - 4s 63ms/step - loss: 0.3999 - binary_accuracy: 0.8636 - val_loss: 0.3803 - val_binary_accuracy: 0.8753\n",
      "Epoch 65/100\n",
      "70/70 [==============================] - 4s 62ms/step - loss: 0.3991 - binary_accuracy: 0.8636 - val_loss: 0.3821 - val_binary_accuracy: 0.8753\n",
      "Epoch 66/100\n",
      "70/70 [==============================] - 4s 62ms/step - loss: 0.3997 - binary_accuracy: 0.8636 - val_loss: 0.3813 - val_binary_accuracy: 0.8753\n",
      "Epoch 67/100\n",
      "70/70 [==============================] - 4s 62ms/step - loss: 0.3997 - binary_accuracy: 0.8636 - val_loss: 0.3805 - val_binary_accuracy: 0.8753\n",
      "Epoch 68/100\n",
      "70/70 [==============================] - 5s 65ms/step - loss: 0.3995 - binary_accuracy: 0.8636 - val_loss: 0.3857 - val_binary_accuracy: 0.8753\n",
      "Epoch 69/100\n",
      "70/70 [==============================] - 4s 64ms/step - loss: 0.3996 - binary_accuracy: 0.8636 - val_loss: 0.3864 - val_binary_accuracy: 0.8753\n",
      "Epoch 70/100\n",
      "70/70 [==============================] - 4s 63ms/step - loss: 0.3994 - binary_accuracy: 0.8636 - val_loss: 0.3893 - val_binary_accuracy: 0.8753\n",
      "Epoch 71/100\n",
      "70/70 [==============================] - 4s 62ms/step - loss: 0.4012 - binary_accuracy: 0.8636 - val_loss: 0.3809 - val_binary_accuracy: 0.8753\n",
      "Epoch 72/100\n",
      "70/70 [==============================] - 4s 63ms/step - loss: 0.4000 - binary_accuracy: 0.8636 - val_loss: 0.3766 - val_binary_accuracy: 0.8753\n",
      "Epoch 73/100\n",
      "70/70 [==============================] - 4s 63ms/step - loss: 0.4005 - binary_accuracy: 0.8636 - val_loss: 0.3804 - val_binary_accuracy: 0.8753\n",
      "Epoch 74/100\n",
      "70/70 [==============================] - 4s 62ms/step - loss: 0.3993 - binary_accuracy: 0.8636 - val_loss: 0.3890 - val_binary_accuracy: 0.8753\n",
      "Epoch 75/100\n",
      "70/70 [==============================] - 4s 63ms/step - loss: 0.3999 - binary_accuracy: 0.8636 - val_loss: 0.3864 - val_binary_accuracy: 0.8753\n",
      "Epoch 76/100\n",
      "70/70 [==============================] - 4s 63ms/step - loss: 0.3990 - binary_accuracy: 0.8636 - val_loss: 0.3855 - val_binary_accuracy: 0.8753\n",
      "Epoch 77/100\n",
      "70/70 [==============================] - 4s 63ms/step - loss: 0.3987 - binary_accuracy: 0.8636 - val_loss: 0.3831 - val_binary_accuracy: 0.8753\n",
      "Epoch 78/100\n",
      "70/70 [==============================] - 4s 64ms/step - loss: 0.4002 - binary_accuracy: 0.8636 - val_loss: 0.3857 - val_binary_accuracy: 0.8753\n",
      "Epoch 79/100\n",
      "70/70 [==============================] - 4s 64ms/step - loss: 0.3998 - binary_accuracy: 0.8636 - val_loss: 0.3852 - val_binary_accuracy: 0.8753\n",
      "Epoch 80/100\n",
      "70/70 [==============================] - 4s 63ms/step - loss: 0.4005 - binary_accuracy: 0.8636 - val_loss: 0.3876 - val_binary_accuracy: 0.8753\n",
      "Epoch 81/100\n",
      "70/70 [==============================] - 4s 63ms/step - loss: 0.3996 - binary_accuracy: 0.8636 - val_loss: 0.3822 - val_binary_accuracy: 0.8753\n",
      "Epoch 82/100\n",
      "70/70 [==============================] - 4s 62ms/step - loss: 0.3996 - binary_accuracy: 0.8636 - val_loss: 0.3825 - val_binary_accuracy: 0.8753\n",
      "Epoch 83/100\n",
      "70/70 [==============================] - 4s 63ms/step - loss: 0.3996 - binary_accuracy: 0.8636 - val_loss: 0.3809 - val_binary_accuracy: 0.8753\n",
      "Epoch 84/100\n",
      "70/70 [==============================] - 4s 63ms/step - loss: 0.3996 - binary_accuracy: 0.8636 - val_loss: 0.3791 - val_binary_accuracy: 0.8753\n",
      "Epoch 85/100\n",
      "70/70 [==============================] - 4s 61ms/step - loss: 0.3992 - binary_accuracy: 0.8636 - val_loss: 0.3834 - val_binary_accuracy: 0.8753\n",
      "Epoch 86/100\n",
      "70/70 [==============================] - 4s 63ms/step - loss: 0.3986 - binary_accuracy: 0.8636 - val_loss: 0.3820 - val_binary_accuracy: 0.8753\n",
      "Epoch 87/100\n",
      "70/70 [==============================] - 5s 65ms/step - loss: 0.3989 - binary_accuracy: 0.8636 - val_loss: 0.3812 - val_binary_accuracy: 0.8753\n",
      "Epoch 88/100\n",
      "70/70 [==============================] - 4s 62ms/step - loss: 0.3993 - binary_accuracy: 0.8636 - val_loss: 0.3837 - val_binary_accuracy: 0.8753\n",
      "Epoch 89/100\n",
      "70/70 [==============================] - 4s 62ms/step - loss: 0.3993 - binary_accuracy: 0.8636 - val_loss: 0.3808 - val_binary_accuracy: 0.8753\n",
      "Epoch 90/100\n",
      "70/70 [==============================] - 4s 62ms/step - loss: 0.3996 - binary_accuracy: 0.8636 - val_loss: 0.3797 - val_binary_accuracy: 0.8753\n",
      "Epoch 91/100\n",
      "70/70 [==============================] - 4s 61ms/step - loss: 0.3987 - binary_accuracy: 0.8636 - val_loss: 0.3900 - val_binary_accuracy: 0.8753\n",
      "Epoch 92/100\n",
      "70/70 [==============================] - 4s 61ms/step - loss: 0.3994 - binary_accuracy: 0.8636 - val_loss: 0.3851 - val_binary_accuracy: 0.8753\n",
      "Epoch 93/100\n",
      "70/70 [==============================] - 4s 62ms/step - loss: 0.3996 - binary_accuracy: 0.8636 - val_loss: 0.3784 - val_binary_accuracy: 0.8753\n",
      "Epoch 94/100\n",
      "70/70 [==============================] - 4s 62ms/step - loss: 0.3992 - binary_accuracy: 0.8636 - val_loss: 0.3831 - val_binary_accuracy: 0.8753\n",
      "Epoch 95/100\n",
      "70/70 [==============================] - 4s 62ms/step - loss: 0.3998 - binary_accuracy: 0.8636 - val_loss: 0.3787 - val_binary_accuracy: 0.8753\n",
      "Epoch 96/100\n",
      "70/70 [==============================] - 4s 61ms/step - loss: 0.3993 - binary_accuracy: 0.8636 - val_loss: 0.3812 - val_binary_accuracy: 0.8753\n",
      "Epoch 97/100\n",
      "70/70 [==============================] - 4s 61ms/step - loss: 0.3984 - binary_accuracy: 0.8636 - val_loss: 0.3773 - val_binary_accuracy: 0.8753\n",
      "Epoch 98/100\n",
      "70/70 [==============================] - 4s 61ms/step - loss: 0.4003 - binary_accuracy: 0.8636 - val_loss: 0.3805 - val_binary_accuracy: 0.8753\n",
      "Epoch 99/100\n",
      "70/70 [==============================] - 4s 62ms/step - loss: 0.3989 - binary_accuracy: 0.8636 - val_loss: 0.3798 - val_binary_accuracy: 0.8753\n",
      "Epoch 100/100\n",
      "70/70 [==============================] - 4s 61ms/step - loss: 0.3985 - binary_accuracy: 0.8636 - val_loss: 0.3823 - val_binary_accuracy: 0.8753\n"
     ]
    }
   ],
   "source": [
    "history = model.fit(train_batch,\n",
    "                    epochs=100,\n",
    "                    validation_data=val_batch,\n",
    "                    #class_weight=dic_weights\n",
    "                    )"
   ]
  },
  {
   "cell_type": "code",
   "execution_count": 85,
   "metadata": {},
   "outputs": [
    {
     "data": {
      "application/vnd.plotly.v1+json": {
       "config": {
        "plotlyServerURL": "https://plot.ly"
       },
       "data": [
        {
         "marker": {
          "color": "#4B9AC7"
         },
         "mode": "lines",
         "name": "Training loss",
         "type": "scatter",
         "y": [
          0.6994919776916504,
          0.6989262104034424,
          0.6991176605224609,
          0.6985107660293579,
          0.6983752250671387,
          0.6983086466789246,
          0.6984128355979919,
          0.6987492442131042,
          0.6984254121780396,
          0.698439359664917,
          0.6983763575553894,
          0.6983888745307922,
          0.6983162760734558,
          0.6983919143676758,
          0.6983743906021118,
          0.6984433531761169,
          0.6983395218849182,
          0.6982985138893127,
          0.6986563801765442,
          0.6985166072845459,
          0.6984655857086182,
          0.6985937356948853,
          0.698433518409729,
          0.698300838470459,
          0.698594868183136,
          0.698525071144104,
          0.6985414028167725,
          0.6984255909919739,
          0.6982622742652893,
          0.6983597874641418,
          0.6983439922332764,
          0.6983709931373596,
          0.6982156038284302,
          0.6985768675804138,
          0.6982346177101135,
          0.6985803246498108,
          0.6984139680862427,
          0.6983707547187805,
          0.6983006596565247,
          0.698322594165802,
          0.7014817595481873,
          0.7023220658302307,
          0.6983271837234497,
          0.6982289552688599,
          0.6980279088020325,
          0.6982776522636414,
          0.6980311274528503,
          0.6980741620063782,
          0.6979165077209473,
          0.6980149149894714,
          0.6982486844062805,
          0.698162853717804,
          0.6980491876602173,
          0.6980679631233215,
          0.698150634765625,
          0.6980975866317749,
          0.6975805759429932,
          0.6977295875549316,
          0.6982689499855042,
          0.698025643825531,
          0.6980636119842529,
          0.6978057026863098,
          0.6977231502532959,
          0.6978647708892822,
          0.6980525255203247,
          0.6978654265403748,
          0.6977761387825012,
          0.6978877782821655,
          0.6977875828742981,
          0.697760820388794,
          0.697868824005127,
          0.6978170871734619,
          0.6977843642234802,
          0.6977044939994812,
          0.697874903678894,
          0.6978063583374023,
          0.6977477669715881,
          0.697772204875946,
          0.6977357864379883,
          0.6977360248565674,
          0.6979125142097473,
          0.6978577971458435,
          0.6977192163467407,
          0.6975515484809875,
          0.698361337184906,
          0.6978614330291748,
          0.6978272795677185,
          0.6977607607841492,
          0.6981335282325745,
          0.6977651715278625,
          0.6978335976600647,
          0.6977993845939636,
          0.6977088451385498,
          0.6977516412734985,
          0.6977182626724243,
          0.6976686120033264,
          0.6976828575134277,
          0.6978952288627625,
          0.6977537870407104,
          0.6976969838142395
         ]
        },
        {
         "marker": {
          "color": "#4BE8E0"
         },
         "mode": "lines",
         "name": "Validation loss",
         "type": "scatter",
         "y": [
          0.6780267953872681,
          0.7020068168640137,
          0.697280764579773,
          0.6939777135848999,
          0.6976591348648071,
          0.6989396810531616,
          0.7067508697509766,
          0.7028974890708923,
          0.7016733884811401,
          0.7034961581230164,
          0.6982415914535522,
          0.7011260390281677,
          0.703072726726532,
          0.6965593099594116,
          0.6992116570472717,
          0.702172040939331,
          0.6993682980537415,
          0.7035948634147644,
          0.6956732869148254,
          0.6991553902626038,
          0.6998870968818665,
          0.7080009579658508,
          0.7041420340538025,
          0.6953021883964539,
          0.7128522396087646,
          0.7078320980072021,
          0.7060222625732422,
          0.6983875036239624,
          0.6989253163337708,
          0.7008108496665955,
          0.7029755115509033,
          0.693691074848175,
          0.7032418251037598,
          0.7008271217346191,
          0.7017173171043396,
          0.6985946297645569,
          0.7019758224487305,
          0.701042890548706,
          0.6979308128356934,
          0.6996177434921265,
          0.789868175983429,
          0.7257609963417053,
          0.7070397734642029,
          0.7055801153182983,
          0.7029592394828796,
          0.7014548778533936,
          0.700295090675354,
          0.7016236186027527,
          0.694180965423584,
          0.7052632570266724,
          0.6991320848464966,
          0.6981254816055298,
          0.7117924690246582,
          0.6971697211265564,
          0.7039129137992859,
          0.7005653977394104,
          0.7065109610557556,
          0.7051968574523926,
          0.7057602405548096,
          0.7073571085929871,
          0.7047065496444702,
          0.7031247019767761,
          0.7012616395950317,
          0.7016865015029907,
          0.7019546031951904,
          0.6992019414901733,
          0.6987066268920898,
          0.6999692916870117,
          0.6994122266769409,
          0.699857234954834,
          0.6997032165527344,
          0.6997827887535095,
          0.6994365453720093,
          0.6990161538124084,
          0.7001681923866272,
          0.7002623677253723,
          0.6994465589523315,
          0.6999301910400391,
          0.6989187002182007,
          0.7002468109130859,
          0.6997984647750854,
          0.6995102167129517,
          0.704064667224884,
          0.7032207250595093,
          0.6980597376823425,
          0.7001534700393677,
          0.7073184847831726,
          0.7054939270019531,
          0.7028953433036804,
          0.7054830193519592,
          0.7032389044761658,
          0.7032529711723328,
          0.7003535628318787,
          0.7005660533905029,
          0.701338529586792,
          0.7017565369606018,
          0.7032827138900757,
          0.7004575133323669,
          0.7034874558448792,
          0.7036563158035278
         ]
        }
       ],
       "layout": {
        "template": {
         "data": {
          "bar": [
           {
            "error_x": {
             "color": "#2a3f5f"
            },
            "error_y": {
             "color": "#2a3f5f"
            },
            "marker": {
             "line": {
              "color": "#E5ECF6",
              "width": 0.5
             },
             "pattern": {
              "fillmode": "overlay",
              "size": 10,
              "solidity": 0.2
             }
            },
            "type": "bar"
           }
          ],
          "barpolar": [
           {
            "marker": {
             "line": {
              "color": "#E5ECF6",
              "width": 0.5
             },
             "pattern": {
              "fillmode": "overlay",
              "size": 10,
              "solidity": 0.2
             }
            },
            "type": "barpolar"
           }
          ],
          "carpet": [
           {
            "aaxis": {
             "endlinecolor": "#2a3f5f",
             "gridcolor": "white",
             "linecolor": "white",
             "minorgridcolor": "white",
             "startlinecolor": "#2a3f5f"
            },
            "baxis": {
             "endlinecolor": "#2a3f5f",
             "gridcolor": "white",
             "linecolor": "white",
             "minorgridcolor": "white",
             "startlinecolor": "#2a3f5f"
            },
            "type": "carpet"
           }
          ],
          "choropleth": [
           {
            "colorbar": {
             "outlinewidth": 0,
             "ticks": ""
            },
            "type": "choropleth"
           }
          ],
          "contour": [
           {
            "colorbar": {
             "outlinewidth": 0,
             "ticks": ""
            },
            "colorscale": [
             [
              0,
              "#0d0887"
             ],
             [
              0.1111111111111111,
              "#46039f"
             ],
             [
              0.2222222222222222,
              "#7201a8"
             ],
             [
              0.3333333333333333,
              "#9c179e"
             ],
             [
              0.4444444444444444,
              "#bd3786"
             ],
             [
              0.5555555555555556,
              "#d8576b"
             ],
             [
              0.6666666666666666,
              "#ed7953"
             ],
             [
              0.7777777777777778,
              "#fb9f3a"
             ],
             [
              0.8888888888888888,
              "#fdca26"
             ],
             [
              1,
              "#f0f921"
             ]
            ],
            "type": "contour"
           }
          ],
          "contourcarpet": [
           {
            "colorbar": {
             "outlinewidth": 0,
             "ticks": ""
            },
            "type": "contourcarpet"
           }
          ],
          "heatmap": [
           {
            "colorbar": {
             "outlinewidth": 0,
             "ticks": ""
            },
            "colorscale": [
             [
              0,
              "#0d0887"
             ],
             [
              0.1111111111111111,
              "#46039f"
             ],
             [
              0.2222222222222222,
              "#7201a8"
             ],
             [
              0.3333333333333333,
              "#9c179e"
             ],
             [
              0.4444444444444444,
              "#bd3786"
             ],
             [
              0.5555555555555556,
              "#d8576b"
             ],
             [
              0.6666666666666666,
              "#ed7953"
             ],
             [
              0.7777777777777778,
              "#fb9f3a"
             ],
             [
              0.8888888888888888,
              "#fdca26"
             ],
             [
              1,
              "#f0f921"
             ]
            ],
            "type": "heatmap"
           }
          ],
          "heatmapgl": [
           {
            "colorbar": {
             "outlinewidth": 0,
             "ticks": ""
            },
            "colorscale": [
             [
              0,
              "#0d0887"
             ],
             [
              0.1111111111111111,
              "#46039f"
             ],
             [
              0.2222222222222222,
              "#7201a8"
             ],
             [
              0.3333333333333333,
              "#9c179e"
             ],
             [
              0.4444444444444444,
              "#bd3786"
             ],
             [
              0.5555555555555556,
              "#d8576b"
             ],
             [
              0.6666666666666666,
              "#ed7953"
             ],
             [
              0.7777777777777778,
              "#fb9f3a"
             ],
             [
              0.8888888888888888,
              "#fdca26"
             ],
             [
              1,
              "#f0f921"
             ]
            ],
            "type": "heatmapgl"
           }
          ],
          "histogram": [
           {
            "marker": {
             "pattern": {
              "fillmode": "overlay",
              "size": 10,
              "solidity": 0.2
             }
            },
            "type": "histogram"
           }
          ],
          "histogram2d": [
           {
            "colorbar": {
             "outlinewidth": 0,
             "ticks": ""
            },
            "colorscale": [
             [
              0,
              "#0d0887"
             ],
             [
              0.1111111111111111,
              "#46039f"
             ],
             [
              0.2222222222222222,
              "#7201a8"
             ],
             [
              0.3333333333333333,
              "#9c179e"
             ],
             [
              0.4444444444444444,
              "#bd3786"
             ],
             [
              0.5555555555555556,
              "#d8576b"
             ],
             [
              0.6666666666666666,
              "#ed7953"
             ],
             [
              0.7777777777777778,
              "#fb9f3a"
             ],
             [
              0.8888888888888888,
              "#fdca26"
             ],
             [
              1,
              "#f0f921"
             ]
            ],
            "type": "histogram2d"
           }
          ],
          "histogram2dcontour": [
           {
            "colorbar": {
             "outlinewidth": 0,
             "ticks": ""
            },
            "colorscale": [
             [
              0,
              "#0d0887"
             ],
             [
              0.1111111111111111,
              "#46039f"
             ],
             [
              0.2222222222222222,
              "#7201a8"
             ],
             [
              0.3333333333333333,
              "#9c179e"
             ],
             [
              0.4444444444444444,
              "#bd3786"
             ],
             [
              0.5555555555555556,
              "#d8576b"
             ],
             [
              0.6666666666666666,
              "#ed7953"
             ],
             [
              0.7777777777777778,
              "#fb9f3a"
             ],
             [
              0.8888888888888888,
              "#fdca26"
             ],
             [
              1,
              "#f0f921"
             ]
            ],
            "type": "histogram2dcontour"
           }
          ],
          "mesh3d": [
           {
            "colorbar": {
             "outlinewidth": 0,
             "ticks": ""
            },
            "type": "mesh3d"
           }
          ],
          "parcoords": [
           {
            "line": {
             "colorbar": {
              "outlinewidth": 0,
              "ticks": ""
             }
            },
            "type": "parcoords"
           }
          ],
          "pie": [
           {
            "automargin": true,
            "type": "pie"
           }
          ],
          "scatter": [
           {
            "fillpattern": {
             "fillmode": "overlay",
             "size": 10,
             "solidity": 0.2
            },
            "type": "scatter"
           }
          ],
          "scatter3d": [
           {
            "line": {
             "colorbar": {
              "outlinewidth": 0,
              "ticks": ""
             }
            },
            "marker": {
             "colorbar": {
              "outlinewidth": 0,
              "ticks": ""
             }
            },
            "type": "scatter3d"
           }
          ],
          "scattercarpet": [
           {
            "marker": {
             "colorbar": {
              "outlinewidth": 0,
              "ticks": ""
             }
            },
            "type": "scattercarpet"
           }
          ],
          "scattergeo": [
           {
            "marker": {
             "colorbar": {
              "outlinewidth": 0,
              "ticks": ""
             }
            },
            "type": "scattergeo"
           }
          ],
          "scattergl": [
           {
            "marker": {
             "colorbar": {
              "outlinewidth": 0,
              "ticks": ""
             }
            },
            "type": "scattergl"
           }
          ],
          "scattermapbox": [
           {
            "marker": {
             "colorbar": {
              "outlinewidth": 0,
              "ticks": ""
             }
            },
            "type": "scattermapbox"
           }
          ],
          "scatterpolar": [
           {
            "marker": {
             "colorbar": {
              "outlinewidth": 0,
              "ticks": ""
             }
            },
            "type": "scatterpolar"
           }
          ],
          "scatterpolargl": [
           {
            "marker": {
             "colorbar": {
              "outlinewidth": 0,
              "ticks": ""
             }
            },
            "type": "scatterpolargl"
           }
          ],
          "scatterternary": [
           {
            "marker": {
             "colorbar": {
              "outlinewidth": 0,
              "ticks": ""
             }
            },
            "type": "scatterternary"
           }
          ],
          "surface": [
           {
            "colorbar": {
             "outlinewidth": 0,
             "ticks": ""
            },
            "colorscale": [
             [
              0,
              "#0d0887"
             ],
             [
              0.1111111111111111,
              "#46039f"
             ],
             [
              0.2222222222222222,
              "#7201a8"
             ],
             [
              0.3333333333333333,
              "#9c179e"
             ],
             [
              0.4444444444444444,
              "#bd3786"
             ],
             [
              0.5555555555555556,
              "#d8576b"
             ],
             [
              0.6666666666666666,
              "#ed7953"
             ],
             [
              0.7777777777777778,
              "#fb9f3a"
             ],
             [
              0.8888888888888888,
              "#fdca26"
             ],
             [
              1,
              "#f0f921"
             ]
            ],
            "type": "surface"
           }
          ],
          "table": [
           {
            "cells": {
             "fill": {
              "color": "#EBF0F8"
             },
             "line": {
              "color": "white"
             }
            },
            "header": {
             "fill": {
              "color": "#C8D4E3"
             },
             "line": {
              "color": "white"
             }
            },
            "type": "table"
           }
          ]
         },
         "layout": {
          "annotationdefaults": {
           "arrowcolor": "#2a3f5f",
           "arrowhead": 0,
           "arrowwidth": 1
          },
          "autotypenumbers": "strict",
          "coloraxis": {
           "colorbar": {
            "outlinewidth": 0,
            "ticks": ""
           }
          },
          "colorscale": {
           "diverging": [
            [
             0,
             "#8e0152"
            ],
            [
             0.1,
             "#c51b7d"
            ],
            [
             0.2,
             "#de77ae"
            ],
            [
             0.3,
             "#f1b6da"
            ],
            [
             0.4,
             "#fde0ef"
            ],
            [
             0.5,
             "#f7f7f7"
            ],
            [
             0.6,
             "#e6f5d0"
            ],
            [
             0.7,
             "#b8e186"
            ],
            [
             0.8,
             "#7fbc41"
            ],
            [
             0.9,
             "#4d9221"
            ],
            [
             1,
             "#276419"
            ]
           ],
           "sequential": [
            [
             0,
             "#0d0887"
            ],
            [
             0.1111111111111111,
             "#46039f"
            ],
            [
             0.2222222222222222,
             "#7201a8"
            ],
            [
             0.3333333333333333,
             "#9c179e"
            ],
            [
             0.4444444444444444,
             "#bd3786"
            ],
            [
             0.5555555555555556,
             "#d8576b"
            ],
            [
             0.6666666666666666,
             "#ed7953"
            ],
            [
             0.7777777777777778,
             "#fb9f3a"
            ],
            [
             0.8888888888888888,
             "#fdca26"
            ],
            [
             1,
             "#f0f921"
            ]
           ],
           "sequentialminus": [
            [
             0,
             "#0d0887"
            ],
            [
             0.1111111111111111,
             "#46039f"
            ],
            [
             0.2222222222222222,
             "#7201a8"
            ],
            [
             0.3333333333333333,
             "#9c179e"
            ],
            [
             0.4444444444444444,
             "#bd3786"
            ],
            [
             0.5555555555555556,
             "#d8576b"
            ],
            [
             0.6666666666666666,
             "#ed7953"
            ],
            [
             0.7777777777777778,
             "#fb9f3a"
            ],
            [
             0.8888888888888888,
             "#fdca26"
            ],
            [
             1,
             "#f0f921"
            ]
           ]
          },
          "colorway": [
           "#636efa",
           "#EF553B",
           "#00cc96",
           "#ab63fa",
           "#FFA15A",
           "#19d3f3",
           "#FF6692",
           "#B6E880",
           "#FF97FF",
           "#FECB52"
          ],
          "font": {
           "color": "#2a3f5f"
          },
          "geo": {
           "bgcolor": "white",
           "lakecolor": "white",
           "landcolor": "#E5ECF6",
           "showlakes": true,
           "showland": true,
           "subunitcolor": "white"
          },
          "hoverlabel": {
           "align": "left"
          },
          "hovermode": "closest",
          "mapbox": {
           "style": "light"
          },
          "paper_bgcolor": "white",
          "plot_bgcolor": "#E5ECF6",
          "polar": {
           "angularaxis": {
            "gridcolor": "white",
            "linecolor": "white",
            "ticks": ""
           },
           "bgcolor": "#E5ECF6",
           "radialaxis": {
            "gridcolor": "white",
            "linecolor": "white",
            "ticks": ""
           }
          },
          "scene": {
           "xaxis": {
            "backgroundcolor": "#E5ECF6",
            "gridcolor": "white",
            "gridwidth": 2,
            "linecolor": "white",
            "showbackground": true,
            "ticks": "",
            "zerolinecolor": "white"
           },
           "yaxis": {
            "backgroundcolor": "#E5ECF6",
            "gridcolor": "white",
            "gridwidth": 2,
            "linecolor": "white",
            "showbackground": true,
            "ticks": "",
            "zerolinecolor": "white"
           },
           "zaxis": {
            "backgroundcolor": "#E5ECF6",
            "gridcolor": "white",
            "gridwidth": 2,
            "linecolor": "white",
            "showbackground": true,
            "ticks": "",
            "zerolinecolor": "white"
           }
          },
          "shapedefaults": {
           "line": {
            "color": "#2a3f5f"
           }
          },
          "ternary": {
           "aaxis": {
            "gridcolor": "white",
            "linecolor": "white",
            "ticks": ""
           },
           "baxis": {
            "gridcolor": "white",
            "linecolor": "white",
            "ticks": ""
           },
           "bgcolor": "#E5ECF6",
           "caxis": {
            "gridcolor": "white",
            "linecolor": "white",
            "ticks": ""
           }
          },
          "title": {
           "x": 0.05
          },
          "xaxis": {
           "automargin": true,
           "gridcolor": "white",
           "linecolor": "white",
           "ticks": "",
           "title": {
            "standoff": 15
           },
           "zerolinecolor": "white",
           "zerolinewidth": 2
          },
          "yaxis": {
           "automargin": true,
           "gridcolor": "white",
           "linecolor": "white",
           "ticks": "",
           "title": {
            "standoff": 15
           },
           "zerolinecolor": "white",
           "zerolinewidth": 2
          }
         }
        },
        "title": {
         "text": "Training and val loss across epochs"
        },
        "xaxis": {
         "title": {
          "text": "epochs"
         }
        },
        "yaxis": {
         "title": {
          "text": "Cross Entropy"
         }
        }
       }
      }
     },
     "metadata": {},
     "output_type": "display_data"
    }
   ],
   "source": [
    "from plotly import graph_objects as go\n",
    "color_chart = [\"#4B9AC7\", \"#4BE8E0\", \"#9DD4F3\", \"#97FBF6\", \"#2A7FAF\", \"#23B1AB\", \"#0E3449\", \"#015955\"]\n",
    "\n",
    "history_graph = history.history\n",
    "fig = go.Figure(data=[\n",
    "                      go.Scatter(\n",
    "                          y=history_graph[\"loss\"],\n",
    "                          name=\"Training loss\",\n",
    "                          mode=\"lines\",\n",
    "                          marker=dict(\n",
    "                              color=color_chart[0]\n",
    "                          )),\n",
    "                      go.Scatter(\n",
    "                          y=history_graph[\"val_loss\"],\n",
    "                          name=\"Validation loss\",\n",
    "                          mode=\"lines\",\n",
    "                          marker=dict(\n",
    "                              color=color_chart[1]\n",
    "                          ))\n",
    "])\n",
    "fig.update_layout(\n",
    "    title='Training and val loss across epochs',\n",
    "    xaxis_title='epochs',\n",
    "    yaxis_title='Cross Entropy'    \n",
    ")\n",
    "fig.show()"
   ]
  },
  {
   "cell_type": "code",
   "execution_count": 86,
   "metadata": {},
   "outputs": [
    {
     "data": {
      "application/vnd.plotly.v1+json": {
       "config": {
        "plotlyServerURL": "https://plot.ly"
       },
       "data": [
        {
         "marker": {
          "color": "#4B9AC7"
         },
         "mode": "lines",
         "name": "Training F1",
         "type": "scatter",
         "y": [
          0.7898963689804077,
          0.7890768647193909,
          0.789177417755127,
          0.7893513441085815,
          0.7878885865211487,
          0.7884897589683533,
          0.7887454628944397,
          0.7885755300521851,
          0.7878748178482056,
          0.7883023023605347,
          0.7878903150558472,
          0.7900184392929077,
          0.7885121703147888,
          0.7883344888687134,
          0.7884476184844971,
          0.7888808250427246,
          0.7895103693008423,
          0.7886268496513367,
          0.7891721129417419,
          0.7885336875915527,
          0.7877156138420105,
          0.7879472970962524,
          0.7892655730247498,
          0.787506103515625,
          0.7885707020759583,
          0.7887741327285767,
          0.7883977890014648,
          0.7885124683380127,
          0.7877770662307739,
          0.7886521816253662,
          0.788348913192749,
          0.7881332635879517,
          0.7889605760574341,
          0.7885121703147888,
          0.7889922857284546,
          0.7895614504814148,
          0.7894042134284973,
          0.7896237969398499,
          0.7876147031784058,
          0.790473461151123,
          0.7891637682914734,
          0.7904148697853088,
          0.7882674932479858,
          0.7883896231651306,
          0.7870756387710571,
          0.7884359955787659,
          0.7880077362060547,
          0.7879506945610046,
          0.7888379693031311,
          0.7887704372406006,
          0.789941668510437,
          0.7884811162948608,
          0.7887710332870483,
          0.7872093319892883,
          0.7894379496574402,
          0.787765383720398,
          0.7887201309204102,
          0.7876178026199341,
          0.7891263365745544,
          0.7882445454597473,
          0.7896116375923157,
          0.7884163856506348,
          0.788949191570282,
          0.7882601618766785,
          0.7894858717918396,
          0.7887468934059143,
          0.7881867289543152,
          0.788618266582489,
          0.7878772020339966,
          0.788070023059845,
          0.7881536483764648,
          0.7896419763565063,
          0.7878013849258423,
          0.7878163456916809,
          0.7894138693809509,
          0.7892934679985046,
          0.7910743355751038,
          0.7878700494766235,
          0.788483202457428,
          0.787552535533905,
          0.7887831330299377,
          0.7888886332511902,
          0.7890408039093018,
          0.7894602417945862,
          0.7889748811721802,
          0.7892720699310303,
          0.7897999882698059,
          0.7882428169250488,
          0.7892167568206787,
          0.7888121604919434,
          0.7879540920257568,
          0.7894347906112671,
          0.7871587872505188,
          0.7880271077156067,
          0.7886462211608887,
          0.7885060906410217,
          0.7887136340141296,
          0.7884452939033508,
          0.7885648608207703,
          0.7874623537063599
         ]
        },
        {
         "marker": {
          "color": "#4BE8E0"
         },
         "mode": "lines",
         "name": "Validation F1",
         "type": "scatter",
         "y": [
          0.8026084303855896,
          0.8004658222198486,
          0.8022661209106445,
          0.809586226940155,
          0.8072770237922668,
          0.8061272501945496,
          0.798567533493042,
          0.7986416220664978,
          0.8030427694320679,
          0.805385172367096,
          0.8009743690490723,
          0.8072598576545715,
          0.8043323159217834,
          0.8025601506233215,
          0.8040236830711365,
          0.7991169095039368,
          0.8061076998710632,
          0.8038226366043091,
          0.8050544261932373,
          0.802463173866272,
          0.8108618855476379,
          0.8020704388618469,
          0.8075153231620789,
          0.8025286793708801,
          0.8089271783828735,
          0.7999618649482727,
          0.8016015291213989,
          0.8025907874107361,
          0.8050089478492737,
          0.8032830357551575,
          0.8031479120254517,
          0.8024294376373291,
          0.8064603805541992,
          0.801515519618988,
          0.799045205116272,
          0.8047329187393188,
          0.8045998811721802,
          0.8025928735733032,
          0.7986854314804077,
          0.8020898699760437,
          0.7987403273582458,
          0.795794665813446,
          0.8051824569702148,
          0.8074193596839905,
          0.8054059147834778,
          0.7997186779975891,
          0.8046628832817078,
          0.8069924116134644,
          0.8068497776985168,
          0.8031103014945984,
          0.7998833060264587,
          0.8038184642791748,
          0.8059501647949219,
          0.802448034286499,
          0.803861141204834,
          0.8046775460243225,
          0.8048592209815979,
          0.804771900177002,
          0.8001354336738586,
          0.8047359585762024,
          0.7991737127304077,
          0.8021791577339172,
          0.8013479709625244,
          0.8011649250984192,
          0.7997105717658997,
          0.8054326176643372,
          0.8082959055900574,
          0.8083944916725159,
          0.8021337389945984,
          0.7992517352104187,
          0.8031059503555298,
          0.8005638718605042,
          0.803839385509491,
          0.804474413394928,
          0.8066809177398682,
          0.8033823370933533,
          0.801264762878418,
          0.8070055842399597,
          0.8067625761032104,
          0.8046006560325623,
          0.8012106418609619,
          0.8066474199295044,
          0.8073186874389648,
          0.8035693168640137,
          0.8043385148048401,
          0.8002048134803772,
          0.8034558892250061,
          0.8099768757820129,
          0.8063755035400391,
          0.8044083714485168,
          0.8072612881660461,
          0.8017430305480957,
          0.8027120232582092,
          0.8010480999946594,
          0.8057241439819336,
          0.7996261715888977,
          0.807816743850708,
          0.7981732487678528,
          0.8033158183097839,
          0.8017547726631165
         ]
        }
       ],
       "layout": {
        "template": {
         "data": {
          "bar": [
           {
            "error_x": {
             "color": "#2a3f5f"
            },
            "error_y": {
             "color": "#2a3f5f"
            },
            "marker": {
             "line": {
              "color": "#E5ECF6",
              "width": 0.5
             },
             "pattern": {
              "fillmode": "overlay",
              "size": 10,
              "solidity": 0.2
             }
            },
            "type": "bar"
           }
          ],
          "barpolar": [
           {
            "marker": {
             "line": {
              "color": "#E5ECF6",
              "width": 0.5
             },
             "pattern": {
              "fillmode": "overlay",
              "size": 10,
              "solidity": 0.2
             }
            },
            "type": "barpolar"
           }
          ],
          "carpet": [
           {
            "aaxis": {
             "endlinecolor": "#2a3f5f",
             "gridcolor": "white",
             "linecolor": "white",
             "minorgridcolor": "white",
             "startlinecolor": "#2a3f5f"
            },
            "baxis": {
             "endlinecolor": "#2a3f5f",
             "gridcolor": "white",
             "linecolor": "white",
             "minorgridcolor": "white",
             "startlinecolor": "#2a3f5f"
            },
            "type": "carpet"
           }
          ],
          "choropleth": [
           {
            "colorbar": {
             "outlinewidth": 0,
             "ticks": ""
            },
            "type": "choropleth"
           }
          ],
          "contour": [
           {
            "colorbar": {
             "outlinewidth": 0,
             "ticks": ""
            },
            "colorscale": [
             [
              0,
              "#0d0887"
             ],
             [
              0.1111111111111111,
              "#46039f"
             ],
             [
              0.2222222222222222,
              "#7201a8"
             ],
             [
              0.3333333333333333,
              "#9c179e"
             ],
             [
              0.4444444444444444,
              "#bd3786"
             ],
             [
              0.5555555555555556,
              "#d8576b"
             ],
             [
              0.6666666666666666,
              "#ed7953"
             ],
             [
              0.7777777777777778,
              "#fb9f3a"
             ],
             [
              0.8888888888888888,
              "#fdca26"
             ],
             [
              1,
              "#f0f921"
             ]
            ],
            "type": "contour"
           }
          ],
          "contourcarpet": [
           {
            "colorbar": {
             "outlinewidth": 0,
             "ticks": ""
            },
            "type": "contourcarpet"
           }
          ],
          "heatmap": [
           {
            "colorbar": {
             "outlinewidth": 0,
             "ticks": ""
            },
            "colorscale": [
             [
              0,
              "#0d0887"
             ],
             [
              0.1111111111111111,
              "#46039f"
             ],
             [
              0.2222222222222222,
              "#7201a8"
             ],
             [
              0.3333333333333333,
              "#9c179e"
             ],
             [
              0.4444444444444444,
              "#bd3786"
             ],
             [
              0.5555555555555556,
              "#d8576b"
             ],
             [
              0.6666666666666666,
              "#ed7953"
             ],
             [
              0.7777777777777778,
              "#fb9f3a"
             ],
             [
              0.8888888888888888,
              "#fdca26"
             ],
             [
              1,
              "#f0f921"
             ]
            ],
            "type": "heatmap"
           }
          ],
          "heatmapgl": [
           {
            "colorbar": {
             "outlinewidth": 0,
             "ticks": ""
            },
            "colorscale": [
             [
              0,
              "#0d0887"
             ],
             [
              0.1111111111111111,
              "#46039f"
             ],
             [
              0.2222222222222222,
              "#7201a8"
             ],
             [
              0.3333333333333333,
              "#9c179e"
             ],
             [
              0.4444444444444444,
              "#bd3786"
             ],
             [
              0.5555555555555556,
              "#d8576b"
             ],
             [
              0.6666666666666666,
              "#ed7953"
             ],
             [
              0.7777777777777778,
              "#fb9f3a"
             ],
             [
              0.8888888888888888,
              "#fdca26"
             ],
             [
              1,
              "#f0f921"
             ]
            ],
            "type": "heatmapgl"
           }
          ],
          "histogram": [
           {
            "marker": {
             "pattern": {
              "fillmode": "overlay",
              "size": 10,
              "solidity": 0.2
             }
            },
            "type": "histogram"
           }
          ],
          "histogram2d": [
           {
            "colorbar": {
             "outlinewidth": 0,
             "ticks": ""
            },
            "colorscale": [
             [
              0,
              "#0d0887"
             ],
             [
              0.1111111111111111,
              "#46039f"
             ],
             [
              0.2222222222222222,
              "#7201a8"
             ],
             [
              0.3333333333333333,
              "#9c179e"
             ],
             [
              0.4444444444444444,
              "#bd3786"
             ],
             [
              0.5555555555555556,
              "#d8576b"
             ],
             [
              0.6666666666666666,
              "#ed7953"
             ],
             [
              0.7777777777777778,
              "#fb9f3a"
             ],
             [
              0.8888888888888888,
              "#fdca26"
             ],
             [
              1,
              "#f0f921"
             ]
            ],
            "type": "histogram2d"
           }
          ],
          "histogram2dcontour": [
           {
            "colorbar": {
             "outlinewidth": 0,
             "ticks": ""
            },
            "colorscale": [
             [
              0,
              "#0d0887"
             ],
             [
              0.1111111111111111,
              "#46039f"
             ],
             [
              0.2222222222222222,
              "#7201a8"
             ],
             [
              0.3333333333333333,
              "#9c179e"
             ],
             [
              0.4444444444444444,
              "#bd3786"
             ],
             [
              0.5555555555555556,
              "#d8576b"
             ],
             [
              0.6666666666666666,
              "#ed7953"
             ],
             [
              0.7777777777777778,
              "#fb9f3a"
             ],
             [
              0.8888888888888888,
              "#fdca26"
             ],
             [
              1,
              "#f0f921"
             ]
            ],
            "type": "histogram2dcontour"
           }
          ],
          "mesh3d": [
           {
            "colorbar": {
             "outlinewidth": 0,
             "ticks": ""
            },
            "type": "mesh3d"
           }
          ],
          "parcoords": [
           {
            "line": {
             "colorbar": {
              "outlinewidth": 0,
              "ticks": ""
             }
            },
            "type": "parcoords"
           }
          ],
          "pie": [
           {
            "automargin": true,
            "type": "pie"
           }
          ],
          "scatter": [
           {
            "fillpattern": {
             "fillmode": "overlay",
             "size": 10,
             "solidity": 0.2
            },
            "type": "scatter"
           }
          ],
          "scatter3d": [
           {
            "line": {
             "colorbar": {
              "outlinewidth": 0,
              "ticks": ""
             }
            },
            "marker": {
             "colorbar": {
              "outlinewidth": 0,
              "ticks": ""
             }
            },
            "type": "scatter3d"
           }
          ],
          "scattercarpet": [
           {
            "marker": {
             "colorbar": {
              "outlinewidth": 0,
              "ticks": ""
             }
            },
            "type": "scattercarpet"
           }
          ],
          "scattergeo": [
           {
            "marker": {
             "colorbar": {
              "outlinewidth": 0,
              "ticks": ""
             }
            },
            "type": "scattergeo"
           }
          ],
          "scattergl": [
           {
            "marker": {
             "colorbar": {
              "outlinewidth": 0,
              "ticks": ""
             }
            },
            "type": "scattergl"
           }
          ],
          "scattermapbox": [
           {
            "marker": {
             "colorbar": {
              "outlinewidth": 0,
              "ticks": ""
             }
            },
            "type": "scattermapbox"
           }
          ],
          "scatterpolar": [
           {
            "marker": {
             "colorbar": {
              "outlinewidth": 0,
              "ticks": ""
             }
            },
            "type": "scatterpolar"
           }
          ],
          "scatterpolargl": [
           {
            "marker": {
             "colorbar": {
              "outlinewidth": 0,
              "ticks": ""
             }
            },
            "type": "scatterpolargl"
           }
          ],
          "scatterternary": [
           {
            "marker": {
             "colorbar": {
              "outlinewidth": 0,
              "ticks": ""
             }
            },
            "type": "scatterternary"
           }
          ],
          "surface": [
           {
            "colorbar": {
             "outlinewidth": 0,
             "ticks": ""
            },
            "colorscale": [
             [
              0,
              "#0d0887"
             ],
             [
              0.1111111111111111,
              "#46039f"
             ],
             [
              0.2222222222222222,
              "#7201a8"
             ],
             [
              0.3333333333333333,
              "#9c179e"
             ],
             [
              0.4444444444444444,
              "#bd3786"
             ],
             [
              0.5555555555555556,
              "#d8576b"
             ],
             [
              0.6666666666666666,
              "#ed7953"
             ],
             [
              0.7777777777777778,
              "#fb9f3a"
             ],
             [
              0.8888888888888888,
              "#fdca26"
             ],
             [
              1,
              "#f0f921"
             ]
            ],
            "type": "surface"
           }
          ],
          "table": [
           {
            "cells": {
             "fill": {
              "color": "#EBF0F8"
             },
             "line": {
              "color": "white"
             }
            },
            "header": {
             "fill": {
              "color": "#C8D4E3"
             },
             "line": {
              "color": "white"
             }
            },
            "type": "table"
           }
          ]
         },
         "layout": {
          "annotationdefaults": {
           "arrowcolor": "#2a3f5f",
           "arrowhead": 0,
           "arrowwidth": 1
          },
          "autotypenumbers": "strict",
          "coloraxis": {
           "colorbar": {
            "outlinewidth": 0,
            "ticks": ""
           }
          },
          "colorscale": {
           "diverging": [
            [
             0,
             "#8e0152"
            ],
            [
             0.1,
             "#c51b7d"
            ],
            [
             0.2,
             "#de77ae"
            ],
            [
             0.3,
             "#f1b6da"
            ],
            [
             0.4,
             "#fde0ef"
            ],
            [
             0.5,
             "#f7f7f7"
            ],
            [
             0.6,
             "#e6f5d0"
            ],
            [
             0.7,
             "#b8e186"
            ],
            [
             0.8,
             "#7fbc41"
            ],
            [
             0.9,
             "#4d9221"
            ],
            [
             1,
             "#276419"
            ]
           ],
           "sequential": [
            [
             0,
             "#0d0887"
            ],
            [
             0.1111111111111111,
             "#46039f"
            ],
            [
             0.2222222222222222,
             "#7201a8"
            ],
            [
             0.3333333333333333,
             "#9c179e"
            ],
            [
             0.4444444444444444,
             "#bd3786"
            ],
            [
             0.5555555555555556,
             "#d8576b"
            ],
            [
             0.6666666666666666,
             "#ed7953"
            ],
            [
             0.7777777777777778,
             "#fb9f3a"
            ],
            [
             0.8888888888888888,
             "#fdca26"
            ],
            [
             1,
             "#f0f921"
            ]
           ],
           "sequentialminus": [
            [
             0,
             "#0d0887"
            ],
            [
             0.1111111111111111,
             "#46039f"
            ],
            [
             0.2222222222222222,
             "#7201a8"
            ],
            [
             0.3333333333333333,
             "#9c179e"
            ],
            [
             0.4444444444444444,
             "#bd3786"
            ],
            [
             0.5555555555555556,
             "#d8576b"
            ],
            [
             0.6666666666666666,
             "#ed7953"
            ],
            [
             0.7777777777777778,
             "#fb9f3a"
            ],
            [
             0.8888888888888888,
             "#fdca26"
            ],
            [
             1,
             "#f0f921"
            ]
           ]
          },
          "colorway": [
           "#636efa",
           "#EF553B",
           "#00cc96",
           "#ab63fa",
           "#FFA15A",
           "#19d3f3",
           "#FF6692",
           "#B6E880",
           "#FF97FF",
           "#FECB52"
          ],
          "font": {
           "color": "#2a3f5f"
          },
          "geo": {
           "bgcolor": "white",
           "lakecolor": "white",
           "landcolor": "#E5ECF6",
           "showlakes": true,
           "showland": true,
           "subunitcolor": "white"
          },
          "hoverlabel": {
           "align": "left"
          },
          "hovermode": "closest",
          "mapbox": {
           "style": "light"
          },
          "paper_bgcolor": "white",
          "plot_bgcolor": "#E5ECF6",
          "polar": {
           "angularaxis": {
            "gridcolor": "white",
            "linecolor": "white",
            "ticks": ""
           },
           "bgcolor": "#E5ECF6",
           "radialaxis": {
            "gridcolor": "white",
            "linecolor": "white",
            "ticks": ""
           }
          },
          "scene": {
           "xaxis": {
            "backgroundcolor": "#E5ECF6",
            "gridcolor": "white",
            "gridwidth": 2,
            "linecolor": "white",
            "showbackground": true,
            "ticks": "",
            "zerolinecolor": "white"
           },
           "yaxis": {
            "backgroundcolor": "#E5ECF6",
            "gridcolor": "white",
            "gridwidth": 2,
            "linecolor": "white",
            "showbackground": true,
            "ticks": "",
            "zerolinecolor": "white"
           },
           "zaxis": {
            "backgroundcolor": "#E5ECF6",
            "gridcolor": "white",
            "gridwidth": 2,
            "linecolor": "white",
            "showbackground": true,
            "ticks": "",
            "zerolinecolor": "white"
           }
          },
          "shapedefaults": {
           "line": {
            "color": "#2a3f5f"
           }
          },
          "ternary": {
           "aaxis": {
            "gridcolor": "white",
            "linecolor": "white",
            "ticks": ""
           },
           "baxis": {
            "gridcolor": "white",
            "linecolor": "white",
            "ticks": ""
           },
           "bgcolor": "#E5ECF6",
           "caxis": {
            "gridcolor": "white",
            "linecolor": "white",
            "ticks": ""
           }
          },
          "title": {
           "x": 0.05
          },
          "xaxis": {
           "automargin": true,
           "gridcolor": "white",
           "linecolor": "white",
           "ticks": "",
           "title": {
            "standoff": 15
           },
           "zerolinecolor": "white",
           "zerolinewidth": 2
          },
          "yaxis": {
           "automargin": true,
           "gridcolor": "white",
           "linecolor": "white",
           "ticks": "",
           "title": {
            "standoff": 15
           },
           "zerolinecolor": "white",
           "zerolinewidth": 2
          }
         }
        },
        "title": {
         "text": "Training and val F1 across epochs"
        },
        "xaxis": {
         "title": {
          "text": "epochs"
         }
        },
        "yaxis": {
         "title": {
          "text": "1"
         }
        }
       }
      }
     },
     "metadata": {},
     "output_type": "display_data"
    }
   ],
   "source": [
    "history_graph = history.history\n",
    "fig = go.Figure(data=[\n",
    "                      go.Scatter(\n",
    "                          y=history_graph[\"f1_weighted\"],\n",
    "                          name=\"Training F1\",\n",
    "                          mode=\"lines\",\n",
    "                          marker=dict(\n",
    "                              color=color_chart[0]\n",
    "                          )),\n",
    "                      go.Scatter(\n",
    "                          y=history_graph[\"val_f1_weighted\"],\n",
    "                          name=\"Validation F1\",\n",
    "                          mode=\"lines\",\n",
    "                          marker=dict(\n",
    "                              color=color_chart[1]\n",
    "                          ))\n",
    "])\n",
    "fig.update_layout(\n",
    "    title='Training and val F1 across epochs',\n",
    "    xaxis_title='epochs',\n",
    "    yaxis_title='1'    \n",
    ")\n",
    "fig.show()"
   ]
  },
  {
   "cell_type": "markdown",
   "metadata": {},
   "source": []
  },
  {
   "cell_type": "code",
   "execution_count": null,
   "metadata": {},
   "outputs": [],
   "source": []
  }
 ],
 "metadata": {
  "kernelspec": {
   "display_name": "Python 3.10.6 ('base')",
   "language": "python",
   "name": "python3"
  },
  "language_info": {
   "codemirror_mode": {
    "name": "ipython",
    "version": 3
   },
   "file_extension": ".py",
   "mimetype": "text/x-python",
   "name": "python",
   "nbconvert_exporter": "python",
   "pygments_lexer": "ipython3",
   "version": "3.10.6"
  },
  "orig_nbformat": 4,
  "vscode": {
   "interpreter": {
    "hash": "081d9ffa68f54c053e632a979faf9594a9d4a4c072d5301fc03a7facbe8ba56f"
   }
  }
 },
 "nbformat": 4,
 "nbformat_minor": 2
}
