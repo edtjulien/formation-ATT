{
 "cells": [
  {
   "cell_type": "code",
   "execution_count": 26,
   "metadata": {},
   "outputs": [],
   "source": [
    "import pandas as pd\n",
    "import numpy as np\n",
    "import tensorflow as tf\n",
    "\n",
    "gpus = tf.config.experimental.list_physical_devices('GPU')\n",
    "if gpus:\n",
    "    # only use GPU memory that we need, not allocate all the GPU memory\n",
    "    tf.config.experimental.set_memory_growth(gpus[0], enable=True)"
   ]
  },
  {
   "cell_type": "code",
   "execution_count": 27,
   "metadata": {},
   "outputs": [
    {
     "data": {
      "text/plain": [
       "[PhysicalDevice(name='/physical_device:GPU:0', device_type='GPU')]"
      ]
     },
     "execution_count": 27,
     "metadata": {},
     "output_type": "execute_result"
    }
   ],
   "source": [
    "gpus"
   ]
  },
  {
   "cell_type": "code",
   "execution_count": 28,
   "metadata": {},
   "outputs": [
    {
     "name": "stdout",
     "output_type": "stream",
     "text": [
      "The tensorboard extension is already loaded. To reload it, use:\n",
      "  %reload_ext tensorboard\n"
     ]
    }
   ],
   "source": [
    "%load_ext tensorboard"
   ]
  },
  {
   "cell_type": "code",
   "execution_count": 29,
   "metadata": {},
   "outputs": [],
   "source": [
    "df = pd.read_csv('spam.csv', encoding='Latin-1')"
   ]
  },
  {
   "cell_type": "code",
   "execution_count": 30,
   "metadata": {},
   "outputs": [
    {
     "data": {
      "text/html": [
       "<div>\n",
       "<style scoped>\n",
       "    .dataframe tbody tr th:only-of-type {\n",
       "        vertical-align: middle;\n",
       "    }\n",
       "\n",
       "    .dataframe tbody tr th {\n",
       "        vertical-align: top;\n",
       "    }\n",
       "\n",
       "    .dataframe thead th {\n",
       "        text-align: right;\n",
       "    }\n",
       "</style>\n",
       "<table border=\"1\" class=\"dataframe\">\n",
       "  <thead>\n",
       "    <tr style=\"text-align: right;\">\n",
       "      <th></th>\n",
       "      <th>target</th>\n",
       "      <th>text</th>\n",
       "    </tr>\n",
       "  </thead>\n",
       "  <tbody>\n",
       "    <tr>\n",
       "      <th>0</th>\n",
       "      <td>ham</td>\n",
       "      <td>Go until jurong point, crazy.. Available only ...</td>\n",
       "    </tr>\n",
       "    <tr>\n",
       "      <th>1</th>\n",
       "      <td>ham</td>\n",
       "      <td>Ok lar... Joking wif u oni...</td>\n",
       "    </tr>\n",
       "    <tr>\n",
       "      <th>2</th>\n",
       "      <td>spam</td>\n",
       "      <td>Free entry in 2 a wkly comp to win FA Cup fina...</td>\n",
       "    </tr>\n",
       "    <tr>\n",
       "      <th>3</th>\n",
       "      <td>ham</td>\n",
       "      <td>U dun say so early hor... U c already then say...</td>\n",
       "    </tr>\n",
       "    <tr>\n",
       "      <th>4</th>\n",
       "      <td>ham</td>\n",
       "      <td>Nah I don't think he goes to usf, he lives aro...</td>\n",
       "    </tr>\n",
       "    <tr>\n",
       "      <th>...</th>\n",
       "      <td>...</td>\n",
       "      <td>...</td>\n",
       "    </tr>\n",
       "    <tr>\n",
       "      <th>5567</th>\n",
       "      <td>spam</td>\n",
       "      <td>This is the 2nd time we have tried 2 contact u...</td>\n",
       "    </tr>\n",
       "    <tr>\n",
       "      <th>5568</th>\n",
       "      <td>ham</td>\n",
       "      <td>Will Ì_ b going to esplanade fr home?</td>\n",
       "    </tr>\n",
       "    <tr>\n",
       "      <th>5569</th>\n",
       "      <td>ham</td>\n",
       "      <td>Pity, * was in mood for that. So...any other s...</td>\n",
       "    </tr>\n",
       "    <tr>\n",
       "      <th>5570</th>\n",
       "      <td>ham</td>\n",
       "      <td>The guy did some bitching but I acted like i'd...</td>\n",
       "    </tr>\n",
       "    <tr>\n",
       "      <th>5571</th>\n",
       "      <td>ham</td>\n",
       "      <td>Rofl. Its true to its name</td>\n",
       "    </tr>\n",
       "  </tbody>\n",
       "</table>\n",
       "<p>5572 rows × 2 columns</p>\n",
       "</div>"
      ],
      "text/plain": [
       "     target                                               text\n",
       "0       ham  Go until jurong point, crazy.. Available only ...\n",
       "1       ham                      Ok lar... Joking wif u oni...\n",
       "2      spam  Free entry in 2 a wkly comp to win FA Cup fina...\n",
       "3       ham  U dun say so early hor... U c already then say...\n",
       "4       ham  Nah I don't think he goes to usf, he lives aro...\n",
       "...     ...                                                ...\n",
       "5567   spam  This is the 2nd time we have tried 2 contact u...\n",
       "5568    ham              Will Ì_ b going to esplanade fr home?\n",
       "5569    ham  Pity, * was in mood for that. So...any other s...\n",
       "5570    ham  The guy did some bitching but I acted like i'd...\n",
       "5571    ham                         Rofl. Its true to its name\n",
       "\n",
       "[5572 rows x 2 columns]"
      ]
     },
     "execution_count": 30,
     "metadata": {},
     "output_type": "execute_result"
    }
   ],
   "source": [
    "df = df.loc[:,['v1','v2']]\n",
    "df.columns = ['target','text']\n",
    "df"
   ]
  },
  {
   "cell_type": "code",
   "execution_count": 31,
   "metadata": {},
   "outputs": [],
   "source": [
    "import spacy\n",
    "nlp = spacy.load('en_core_web_md')"
   ]
  },
  {
   "cell_type": "code",
   "execution_count": 32,
   "metadata": {},
   "outputs": [],
   "source": [
    "from spacy.lang.en.stop_words import STOP_WORDS"
   ]
  },
  {
   "cell_type": "code",
   "execution_count": 33,
   "metadata": {},
   "outputs": [],
   "source": [
    "# Remove all non alphanumeric characters except whitespaces\n",
    "df[\"text_clean\"] = df[\"text\"].apply(lambda x:''.join(ch for ch in x if ch.isalnum() or ch==\" \"))\n",
    "# remove double spaces and spaces at the beginning and end of strings\n",
    "df[\"text_clean\"] = df[\"text_clean\"].apply(lambda x: x.replace(\" +\",\" \").lower().strip())\n",
    "# remove stop words and replace everyword with their lemma\n",
    "df[\"text_clean\"] = df[\"text_clean\"].apply(lambda x: \" \".join([token.lemma_ for token in nlp(x) if (token.lemma_ not in STOP_WORDS) & (token.text not in STOP_WORDS)]))"
   ]
  },
  {
   "cell_type": "code",
   "execution_count": 34,
   "metadata": {},
   "outputs": [
    {
     "data": {
      "text/html": [
       "<div>\n",
       "<style scoped>\n",
       "    .dataframe tbody tr th:only-of-type {\n",
       "        vertical-align: middle;\n",
       "    }\n",
       "\n",
       "    .dataframe tbody tr th {\n",
       "        vertical-align: top;\n",
       "    }\n",
       "\n",
       "    .dataframe thead th {\n",
       "        text-align: right;\n",
       "    }\n",
       "</style>\n",
       "<table border=\"1\" class=\"dataframe\">\n",
       "  <thead>\n",
       "    <tr style=\"text-align: right;\">\n",
       "      <th></th>\n",
       "      <th>target</th>\n",
       "      <th>text</th>\n",
       "      <th>text_clean</th>\n",
       "    </tr>\n",
       "  </thead>\n",
       "  <tbody>\n",
       "    <tr>\n",
       "      <th>0</th>\n",
       "      <td>ham</td>\n",
       "      <td>Go until jurong point, crazy.. Available only ...</td>\n",
       "      <td>jurong point crazy available bugis n great wor...</td>\n",
       "    </tr>\n",
       "    <tr>\n",
       "      <th>1</th>\n",
       "      <td>ham</td>\n",
       "      <td>Ok lar... Joking wif u oni...</td>\n",
       "      <td>ok lar joke wif u oni</td>\n",
       "    </tr>\n",
       "    <tr>\n",
       "      <th>2</th>\n",
       "      <td>spam</td>\n",
       "      <td>Free entry in 2 a wkly comp to win FA Cup fina...</td>\n",
       "      <td>free entry 2 wkly comp win fa cup final tkts 2...</td>\n",
       "    </tr>\n",
       "    <tr>\n",
       "      <th>3</th>\n",
       "      <td>ham</td>\n",
       "      <td>U dun say so early hor... U c already then say...</td>\n",
       "      <td>u dun early hor u c</td>\n",
       "    </tr>\n",
       "    <tr>\n",
       "      <th>4</th>\n",
       "      <td>ham</td>\n",
       "      <td>Nah I don't think he goes to usf, he lives aro...</td>\n",
       "      <td>nah think usf live</td>\n",
       "    </tr>\n",
       "  </tbody>\n",
       "</table>\n",
       "</div>"
      ],
      "text/plain": [
       "  target                                               text  \\\n",
       "0    ham  Go until jurong point, crazy.. Available only ...   \n",
       "1    ham                      Ok lar... Joking wif u oni...   \n",
       "2   spam  Free entry in 2 a wkly comp to win FA Cup fina...   \n",
       "3    ham  U dun say so early hor... U c already then say...   \n",
       "4    ham  Nah I don't think he goes to usf, he lives aro...   \n",
       "\n",
       "                                          text_clean  \n",
       "0  jurong point crazy available bugis n great wor...  \n",
       "1                              ok lar joke wif u oni  \n",
       "2  free entry 2 wkly comp win fa cup final tkts 2...  \n",
       "3                                u dun early hor u c  \n",
       "4                                 nah think usf live  "
      ]
     },
     "execution_count": 34,
     "metadata": {},
     "output_type": "execute_result"
    }
   ],
   "source": [
    "df.head()"
   ]
  },
  {
   "cell_type": "code",
   "execution_count": 35,
   "metadata": {},
   "outputs": [
    {
     "data": {
      "text/html": [
       "<div>\n",
       "<style scoped>\n",
       "    .dataframe tbody tr th:only-of-type {\n",
       "        vertical-align: middle;\n",
       "    }\n",
       "\n",
       "    .dataframe tbody tr th {\n",
       "        vertical-align: top;\n",
       "    }\n",
       "\n",
       "    .dataframe thead th {\n",
       "        text-align: right;\n",
       "    }\n",
       "</style>\n",
       "<table border=\"1\" class=\"dataframe\">\n",
       "  <thead>\n",
       "    <tr style=\"text-align: right;\">\n",
       "      <th></th>\n",
       "      <th>target</th>\n",
       "      <th>text</th>\n",
       "      <th>text_clean</th>\n",
       "      <th>size</th>\n",
       "    </tr>\n",
       "  </thead>\n",
       "  <tbody>\n",
       "    <tr>\n",
       "      <th>0</th>\n",
       "      <td>ham</td>\n",
       "      <td>Go until jurong point, crazy.. Available only ...</td>\n",
       "      <td>jurong point crazy available bugis n great wor...</td>\n",
       "      <td>75</td>\n",
       "    </tr>\n",
       "    <tr>\n",
       "      <th>1</th>\n",
       "      <td>ham</td>\n",
       "      <td>Ok lar... Joking wif u oni...</td>\n",
       "      <td>ok lar joke wif u oni</td>\n",
       "      <td>21</td>\n",
       "    </tr>\n",
       "    <tr>\n",
       "      <th>2</th>\n",
       "      <td>spam</td>\n",
       "      <td>Free entry in 2 a wkly comp to win FA Cup fina...</td>\n",
       "      <td>free entry 2 wkly comp win fa cup final tkts 2...</td>\n",
       "      <td>131</td>\n",
       "    </tr>\n",
       "    <tr>\n",
       "      <th>3</th>\n",
       "      <td>ham</td>\n",
       "      <td>U dun say so early hor... U c already then say...</td>\n",
       "      <td>u dun early hor u c</td>\n",
       "      <td>19</td>\n",
       "    </tr>\n",
       "    <tr>\n",
       "      <th>4</th>\n",
       "      <td>ham</td>\n",
       "      <td>Nah I don't think he goes to usf, he lives aro...</td>\n",
       "      <td>nah think usf live</td>\n",
       "      <td>18</td>\n",
       "    </tr>\n",
       "  </tbody>\n",
       "</table>\n",
       "</div>"
      ],
      "text/plain": [
       "  target                                               text  \\\n",
       "0    ham  Go until jurong point, crazy.. Available only ...   \n",
       "1    ham                      Ok lar... Joking wif u oni...   \n",
       "2   spam  Free entry in 2 a wkly comp to win FA Cup fina...   \n",
       "3    ham  U dun say so early hor... U c already then say...   \n",
       "4    ham  Nah I don't think he goes to usf, he lives aro...   \n",
       "\n",
       "                                          text_clean  size  \n",
       "0  jurong point crazy available bugis n great wor...    75  \n",
       "1                              ok lar joke wif u oni    21  \n",
       "2  free entry 2 wkly comp win fa cup final tkts 2...   131  \n",
       "3                                u dun early hor u c    19  \n",
       "4                                 nah think usf live    18  "
      ]
     },
     "execution_count": 35,
     "metadata": {},
     "output_type": "execute_result"
    }
   ],
   "source": [
    "df['size'] = df['text_clean'].apply(lambda x: len(x))\n",
    "df.head()"
   ]
  },
  {
   "cell_type": "code",
   "execution_count": 36,
   "metadata": {},
   "outputs": [
    {
     "data": {
      "text/plain": [
       "ham     4825\n",
       "spam     747\n",
       "Name: target, dtype: int64"
      ]
     },
     "execution_count": 36,
     "metadata": {},
     "output_type": "execute_result"
    }
   ],
   "source": [
    "df['target'].value_counts()"
   ]
  },
  {
   "cell_type": "code",
   "execution_count": 37,
   "metadata": {},
   "outputs": [
    {
     "data": {
      "text/plain": [
       "spam    599\n",
       "ham     415\n",
       "Name: target, dtype: int64"
      ]
     },
     "execution_count": 37,
     "metadata": {},
     "output_type": "execute_result"
    }
   ],
   "source": [
    "df.loc[df['size'] > 80,'target'].value_counts()"
   ]
  },
  {
   "cell_type": "code",
   "execution_count": 38,
   "metadata": {},
   "outputs": [
    {
     "data": {
      "application/vnd.plotly.v1+json": {
       "config": {
        "plotlyServerURL": "https://plot.ly"
       },
       "data": [
        {
         "alignmentgroup": "True",
         "hovertemplate": "x=%{x}<extra></extra>",
         "legendgroup": "",
         "marker": {
          "color": "#636efa"
         },
         "name": "",
         "notched": false,
         "offsetgroup": "",
         "orientation": "h",
         "showlegend": false,
         "type": "box",
         "x": [
          170,
          137,
          134,
          128,
          122,
          120,
          114,
          111,
          107,
          103,
          103,
          102,
          100,
          97,
          97,
          90,
          90,
          89,
          88,
          86,
          83,
          79,
          76,
          74,
          74,
          70,
          65,
          65,
          64,
          63,
          58,
          58,
          56,
          54,
          54,
          52,
          52,
          50,
          47,
          45,
          44,
          43,
          42,
          40,
          39,
          39,
          36,
          36,
          34,
          33,
          32,
          32,
          31,
          31,
          31,
          31,
          29,
          29,
          28,
          27,
          27,
          26,
          26,
          26,
          25,
          25,
          25,
          25,
          25,
          25,
          25,
          25,
          25,
          25,
          24,
          24,
          23,
          23,
          23,
          23,
          23,
          23,
          22,
          22,
          22,
          22,
          22,
          22,
          22,
          21,
          21,
          21,
          21,
          20,
          20,
          20,
          20,
          19,
          19,
          18,
          18,
          18,
          17,
          17,
          17,
          17,
          17,
          16,
          16,
          16,
          16,
          16,
          16,
          16,
          15,
          15,
          15,
          15,
          14,
          14,
          13,
          13,
          12,
          12,
          11,
          11,
          10,
          10,
          8,
          7,
          7,
          7,
          7,
          6,
          5,
          5,
          5,
          4,
          4,
          3,
          3,
          3,
          3,
          3,
          3,
          3,
          2,
          2,
          2,
          2,
          2,
          2,
          2,
          2,
          2,
          2,
          1,
          1,
          1,
          1,
          1,
          1,
          1,
          1,
          1,
          1,
          1,
          1,
          1,
          1,
          1,
          1,
          1,
          1,
          1,
          1,
          1,
          1,
          1,
          1
         ],
         "x0": " ",
         "xaxis": "x",
         "y0": " ",
         "yaxis": "y"
        }
       ],
       "layout": {
        "boxmode": "group",
        "legend": {
         "tracegroupgap": 0
        },
        "margin": {
         "t": 60
        },
        "template": {
         "data": {
          "bar": [
           {
            "error_x": {
             "color": "#2a3f5f"
            },
            "error_y": {
             "color": "#2a3f5f"
            },
            "marker": {
             "line": {
              "color": "#E5ECF6",
              "width": 0.5
             },
             "pattern": {
              "fillmode": "overlay",
              "size": 10,
              "solidity": 0.2
             }
            },
            "type": "bar"
           }
          ],
          "barpolar": [
           {
            "marker": {
             "line": {
              "color": "#E5ECF6",
              "width": 0.5
             },
             "pattern": {
              "fillmode": "overlay",
              "size": 10,
              "solidity": 0.2
             }
            },
            "type": "barpolar"
           }
          ],
          "carpet": [
           {
            "aaxis": {
             "endlinecolor": "#2a3f5f",
             "gridcolor": "white",
             "linecolor": "white",
             "minorgridcolor": "white",
             "startlinecolor": "#2a3f5f"
            },
            "baxis": {
             "endlinecolor": "#2a3f5f",
             "gridcolor": "white",
             "linecolor": "white",
             "minorgridcolor": "white",
             "startlinecolor": "#2a3f5f"
            },
            "type": "carpet"
           }
          ],
          "choropleth": [
           {
            "colorbar": {
             "outlinewidth": 0,
             "ticks": ""
            },
            "type": "choropleth"
           }
          ],
          "contour": [
           {
            "colorbar": {
             "outlinewidth": 0,
             "ticks": ""
            },
            "colorscale": [
             [
              0,
              "#0d0887"
             ],
             [
              0.1111111111111111,
              "#46039f"
             ],
             [
              0.2222222222222222,
              "#7201a8"
             ],
             [
              0.3333333333333333,
              "#9c179e"
             ],
             [
              0.4444444444444444,
              "#bd3786"
             ],
             [
              0.5555555555555556,
              "#d8576b"
             ],
             [
              0.6666666666666666,
              "#ed7953"
             ],
             [
              0.7777777777777778,
              "#fb9f3a"
             ],
             [
              0.8888888888888888,
              "#fdca26"
             ],
             [
              1,
              "#f0f921"
             ]
            ],
            "type": "contour"
           }
          ],
          "contourcarpet": [
           {
            "colorbar": {
             "outlinewidth": 0,
             "ticks": ""
            },
            "type": "contourcarpet"
           }
          ],
          "heatmap": [
           {
            "colorbar": {
             "outlinewidth": 0,
             "ticks": ""
            },
            "colorscale": [
             [
              0,
              "#0d0887"
             ],
             [
              0.1111111111111111,
              "#46039f"
             ],
             [
              0.2222222222222222,
              "#7201a8"
             ],
             [
              0.3333333333333333,
              "#9c179e"
             ],
             [
              0.4444444444444444,
              "#bd3786"
             ],
             [
              0.5555555555555556,
              "#d8576b"
             ],
             [
              0.6666666666666666,
              "#ed7953"
             ],
             [
              0.7777777777777778,
              "#fb9f3a"
             ],
             [
              0.8888888888888888,
              "#fdca26"
             ],
             [
              1,
              "#f0f921"
             ]
            ],
            "type": "heatmap"
           }
          ],
          "heatmapgl": [
           {
            "colorbar": {
             "outlinewidth": 0,
             "ticks": ""
            },
            "colorscale": [
             [
              0,
              "#0d0887"
             ],
             [
              0.1111111111111111,
              "#46039f"
             ],
             [
              0.2222222222222222,
              "#7201a8"
             ],
             [
              0.3333333333333333,
              "#9c179e"
             ],
             [
              0.4444444444444444,
              "#bd3786"
             ],
             [
              0.5555555555555556,
              "#d8576b"
             ],
             [
              0.6666666666666666,
              "#ed7953"
             ],
             [
              0.7777777777777778,
              "#fb9f3a"
             ],
             [
              0.8888888888888888,
              "#fdca26"
             ],
             [
              1,
              "#f0f921"
             ]
            ],
            "type": "heatmapgl"
           }
          ],
          "histogram": [
           {
            "marker": {
             "pattern": {
              "fillmode": "overlay",
              "size": 10,
              "solidity": 0.2
             }
            },
            "type": "histogram"
           }
          ],
          "histogram2d": [
           {
            "colorbar": {
             "outlinewidth": 0,
             "ticks": ""
            },
            "colorscale": [
             [
              0,
              "#0d0887"
             ],
             [
              0.1111111111111111,
              "#46039f"
             ],
             [
              0.2222222222222222,
              "#7201a8"
             ],
             [
              0.3333333333333333,
              "#9c179e"
             ],
             [
              0.4444444444444444,
              "#bd3786"
             ],
             [
              0.5555555555555556,
              "#d8576b"
             ],
             [
              0.6666666666666666,
              "#ed7953"
             ],
             [
              0.7777777777777778,
              "#fb9f3a"
             ],
             [
              0.8888888888888888,
              "#fdca26"
             ],
             [
              1,
              "#f0f921"
             ]
            ],
            "type": "histogram2d"
           }
          ],
          "histogram2dcontour": [
           {
            "colorbar": {
             "outlinewidth": 0,
             "ticks": ""
            },
            "colorscale": [
             [
              0,
              "#0d0887"
             ],
             [
              0.1111111111111111,
              "#46039f"
             ],
             [
              0.2222222222222222,
              "#7201a8"
             ],
             [
              0.3333333333333333,
              "#9c179e"
             ],
             [
              0.4444444444444444,
              "#bd3786"
             ],
             [
              0.5555555555555556,
              "#d8576b"
             ],
             [
              0.6666666666666666,
              "#ed7953"
             ],
             [
              0.7777777777777778,
              "#fb9f3a"
             ],
             [
              0.8888888888888888,
              "#fdca26"
             ],
             [
              1,
              "#f0f921"
             ]
            ],
            "type": "histogram2dcontour"
           }
          ],
          "mesh3d": [
           {
            "colorbar": {
             "outlinewidth": 0,
             "ticks": ""
            },
            "type": "mesh3d"
           }
          ],
          "parcoords": [
           {
            "line": {
             "colorbar": {
              "outlinewidth": 0,
              "ticks": ""
             }
            },
            "type": "parcoords"
           }
          ],
          "pie": [
           {
            "automargin": true,
            "type": "pie"
           }
          ],
          "scatter": [
           {
            "fillpattern": {
             "fillmode": "overlay",
             "size": 10,
             "solidity": 0.2
            },
            "type": "scatter"
           }
          ],
          "scatter3d": [
           {
            "line": {
             "colorbar": {
              "outlinewidth": 0,
              "ticks": ""
             }
            },
            "marker": {
             "colorbar": {
              "outlinewidth": 0,
              "ticks": ""
             }
            },
            "type": "scatter3d"
           }
          ],
          "scattercarpet": [
           {
            "marker": {
             "colorbar": {
              "outlinewidth": 0,
              "ticks": ""
             }
            },
            "type": "scattercarpet"
           }
          ],
          "scattergeo": [
           {
            "marker": {
             "colorbar": {
              "outlinewidth": 0,
              "ticks": ""
             }
            },
            "type": "scattergeo"
           }
          ],
          "scattergl": [
           {
            "marker": {
             "colorbar": {
              "outlinewidth": 0,
              "ticks": ""
             }
            },
            "type": "scattergl"
           }
          ],
          "scattermapbox": [
           {
            "marker": {
             "colorbar": {
              "outlinewidth": 0,
              "ticks": ""
             }
            },
            "type": "scattermapbox"
           }
          ],
          "scatterpolar": [
           {
            "marker": {
             "colorbar": {
              "outlinewidth": 0,
              "ticks": ""
             }
            },
            "type": "scatterpolar"
           }
          ],
          "scatterpolargl": [
           {
            "marker": {
             "colorbar": {
              "outlinewidth": 0,
              "ticks": ""
             }
            },
            "type": "scatterpolargl"
           }
          ],
          "scatterternary": [
           {
            "marker": {
             "colorbar": {
              "outlinewidth": 0,
              "ticks": ""
             }
            },
            "type": "scatterternary"
           }
          ],
          "surface": [
           {
            "colorbar": {
             "outlinewidth": 0,
             "ticks": ""
            },
            "colorscale": [
             [
              0,
              "#0d0887"
             ],
             [
              0.1111111111111111,
              "#46039f"
             ],
             [
              0.2222222222222222,
              "#7201a8"
             ],
             [
              0.3333333333333333,
              "#9c179e"
             ],
             [
              0.4444444444444444,
              "#bd3786"
             ],
             [
              0.5555555555555556,
              "#d8576b"
             ],
             [
              0.6666666666666666,
              "#ed7953"
             ],
             [
              0.7777777777777778,
              "#fb9f3a"
             ],
             [
              0.8888888888888888,
              "#fdca26"
             ],
             [
              1,
              "#f0f921"
             ]
            ],
            "type": "surface"
           }
          ],
          "table": [
           {
            "cells": {
             "fill": {
              "color": "#EBF0F8"
             },
             "line": {
              "color": "white"
             }
            },
            "header": {
             "fill": {
              "color": "#C8D4E3"
             },
             "line": {
              "color": "white"
             }
            },
            "type": "table"
           }
          ]
         },
         "layout": {
          "annotationdefaults": {
           "arrowcolor": "#2a3f5f",
           "arrowhead": 0,
           "arrowwidth": 1
          },
          "autotypenumbers": "strict",
          "coloraxis": {
           "colorbar": {
            "outlinewidth": 0,
            "ticks": ""
           }
          },
          "colorscale": {
           "diverging": [
            [
             0,
             "#8e0152"
            ],
            [
             0.1,
             "#c51b7d"
            ],
            [
             0.2,
             "#de77ae"
            ],
            [
             0.3,
             "#f1b6da"
            ],
            [
             0.4,
             "#fde0ef"
            ],
            [
             0.5,
             "#f7f7f7"
            ],
            [
             0.6,
             "#e6f5d0"
            ],
            [
             0.7,
             "#b8e186"
            ],
            [
             0.8,
             "#7fbc41"
            ],
            [
             0.9,
             "#4d9221"
            ],
            [
             1,
             "#276419"
            ]
           ],
           "sequential": [
            [
             0,
             "#0d0887"
            ],
            [
             0.1111111111111111,
             "#46039f"
            ],
            [
             0.2222222222222222,
             "#7201a8"
            ],
            [
             0.3333333333333333,
             "#9c179e"
            ],
            [
             0.4444444444444444,
             "#bd3786"
            ],
            [
             0.5555555555555556,
             "#d8576b"
            ],
            [
             0.6666666666666666,
             "#ed7953"
            ],
            [
             0.7777777777777778,
             "#fb9f3a"
            ],
            [
             0.8888888888888888,
             "#fdca26"
            ],
            [
             1,
             "#f0f921"
            ]
           ],
           "sequentialminus": [
            [
             0,
             "#0d0887"
            ],
            [
             0.1111111111111111,
             "#46039f"
            ],
            [
             0.2222222222222222,
             "#7201a8"
            ],
            [
             0.3333333333333333,
             "#9c179e"
            ],
            [
             0.4444444444444444,
             "#bd3786"
            ],
            [
             0.5555555555555556,
             "#d8576b"
            ],
            [
             0.6666666666666666,
             "#ed7953"
            ],
            [
             0.7777777777777778,
             "#fb9f3a"
            ],
            [
             0.8888888888888888,
             "#fdca26"
            ],
            [
             1,
             "#f0f921"
            ]
           ]
          },
          "colorway": [
           "#636efa",
           "#EF553B",
           "#00cc96",
           "#ab63fa",
           "#FFA15A",
           "#19d3f3",
           "#FF6692",
           "#B6E880",
           "#FF97FF",
           "#FECB52"
          ],
          "font": {
           "color": "#2a3f5f"
          },
          "geo": {
           "bgcolor": "white",
           "lakecolor": "white",
           "landcolor": "#E5ECF6",
           "showlakes": true,
           "showland": true,
           "subunitcolor": "white"
          },
          "hoverlabel": {
           "align": "left"
          },
          "hovermode": "closest",
          "mapbox": {
           "style": "light"
          },
          "paper_bgcolor": "white",
          "plot_bgcolor": "#E5ECF6",
          "polar": {
           "angularaxis": {
            "gridcolor": "white",
            "linecolor": "white",
            "ticks": ""
           },
           "bgcolor": "#E5ECF6",
           "radialaxis": {
            "gridcolor": "white",
            "linecolor": "white",
            "ticks": ""
           }
          },
          "scene": {
           "xaxis": {
            "backgroundcolor": "#E5ECF6",
            "gridcolor": "white",
            "gridwidth": 2,
            "linecolor": "white",
            "showbackground": true,
            "ticks": "",
            "zerolinecolor": "white"
           },
           "yaxis": {
            "backgroundcolor": "#E5ECF6",
            "gridcolor": "white",
            "gridwidth": 2,
            "linecolor": "white",
            "showbackground": true,
            "ticks": "",
            "zerolinecolor": "white"
           },
           "zaxis": {
            "backgroundcolor": "#E5ECF6",
            "gridcolor": "white",
            "gridwidth": 2,
            "linecolor": "white",
            "showbackground": true,
            "ticks": "",
            "zerolinecolor": "white"
           }
          },
          "shapedefaults": {
           "line": {
            "color": "#2a3f5f"
           }
          },
          "ternary": {
           "aaxis": {
            "gridcolor": "white",
            "linecolor": "white",
            "ticks": ""
           },
           "baxis": {
            "gridcolor": "white",
            "linecolor": "white",
            "ticks": ""
           },
           "bgcolor": "#E5ECF6",
           "caxis": {
            "gridcolor": "white",
            "linecolor": "white",
            "ticks": ""
           }
          },
          "title": {
           "x": 0.05
          },
          "xaxis": {
           "automargin": true,
           "gridcolor": "white",
           "linecolor": "white",
           "ticks": "",
           "title": {
            "standoff": 15
           },
           "zerolinecolor": "white",
           "zerolinewidth": 2
          },
          "yaxis": {
           "automargin": true,
           "gridcolor": "white",
           "linecolor": "white",
           "ticks": "",
           "title": {
            "standoff": 15
           },
           "zerolinecolor": "white",
           "zerolinewidth": 2
          }
         }
        },
        "xaxis": {
         "anchor": "y",
         "domain": [
          0,
          1
         ],
         "title": {
          "text": "x"
         }
        },
        "yaxis": {
         "anchor": "x",
         "domain": [
          0,
          1
         ]
        }
       }
      }
     },
     "metadata": {},
     "output_type": "display_data"
    }
   ],
   "source": [
    "sizes = df['size'].value_counts()\n",
    "sizes_ham = df['size'].value_counts()\n",
    "sizes_scam = df['size'].value_counts()\n",
    "import plotly.express as px\n",
    "\n",
    "px.box(x=sizes)"
   ]
  },
  {
   "cell_type": "code",
   "execution_count": null,
   "metadata": {},
   "outputs": [],
   "source": []
  },
  {
   "cell_type": "code",
   "execution_count": 39,
   "metadata": {},
   "outputs": [
    {
     "data": {
      "text/plain": [
       "target\n",
       "ham     1171\n",
       "spam     696\n",
       "dtype: int64"
      ]
     },
     "execution_count": 39,
     "metadata": {},
     "output_type": "execute_result"
    }
   ],
   "source": [
    "# on regarde si il n'y a pas une classe unique dans les outliers, ce qui pourrait être une information en soit\n",
    "df.query('size >= 50').value_counts(\"target\")"
   ]
  },
  {
   "cell_type": "code",
   "execution_count": 40,
   "metadata": {},
   "outputs": [],
   "source": [
    "# on supprime les trop grandes chaines pour aviter d'avoir de trop grandes valeurs\n",
    "\n",
    "#df = df.query('size < 50') # 0.93 au lieu de 0.99"
   ]
  },
  {
   "cell_type": "code",
   "execution_count": null,
   "metadata": {},
   "outputs": [],
   "source": []
  },
  {
   "cell_type": "code",
   "execution_count": 41,
   "metadata": {},
   "outputs": [
    {
     "data": {
      "text/plain": [
       "True    5572\n",
       "Name: text_clean, dtype: int64"
      ]
     },
     "execution_count": 41,
     "metadata": {},
     "output_type": "execute_result"
    }
   ],
   "source": [
    "mask = df['text_clean'].apply(lambda x: type(x)==str)\n",
    "mask.value_counts()"
   ]
  },
  {
   "cell_type": "code",
   "execution_count": 42,
   "metadata": {},
   "outputs": [],
   "source": [
    "tokenizer = tf.keras.preprocessing.text.Tokenizer(num_words=1000, oov_token=\"out_of_vocab\") # instanciate the tokenizer # todo\n",
    "tokenizer.fit_on_texts(df[\"text_clean\"])\n",
    "df[\"text_encoded\"] = tokenizer.texts_to_sequences(df[\"text_clean\"])"
   ]
  },
  {
   "cell_type": "code",
   "execution_count": 43,
   "metadata": {},
   "outputs": [],
   "source": [
    "df['target_encoded'] = df['target'].map({'ham':0,'spam':1})"
   ]
  },
  {
   "cell_type": "code",
   "execution_count": 44,
   "metadata": {},
   "outputs": [],
   "source": [
    "text_pad = tf.keras.preprocessing.sequence.pad_sequences(df[\"text_encoded\"], padding=\"post\")"
   ]
  },
  {
   "cell_type": "code",
   "execution_count": 45,
   "metadata": {},
   "outputs": [],
   "source": [
    "from sklearn.model_selection import train_test_split\n",
    "\n",
    "xtrain, xval, ytrain, yval = train_test_split(text_pad, df[\"target_encoded\"], test_size=0.2, stratify=df[\"target_encoded\"])"
   ]
  },
  {
   "cell_type": "code",
   "execution_count": 46,
   "metadata": {},
   "outputs": [
    {
     "name": "stdout",
     "output_type": "stream",
     "text": [
      "Metal device set to: Apple M1 Pro\n",
      "\n",
      "systemMemory: 32.00 GB\n",
      "maxCacheSize: 10.67 GB\n",
      "\n"
     ]
    },
    {
     "name": "stderr",
     "output_type": "stream",
     "text": [
      "2022-11-19 16:33:50.787560: I tensorflow/core/common_runtime/pluggable_device/pluggable_device_factory.cc:306] Could not identify NUMA node of platform GPU ID 0, defaulting to 0. Your kernel may not have been built with NUMA support.\n",
      "2022-11-19 16:33:50.787718: I tensorflow/core/common_runtime/pluggable_device/pluggable_device_factory.cc:272] Created TensorFlow device (/job:localhost/replica:0/task:0/device:GPU:0 with 0 MB memory) -> physical PluggableDevice (device: 0, name: METAL, pci bus id: <undefined>)\n"
     ]
    }
   ],
   "source": [
    "train = tf.data.Dataset.from_tensor_slices((xtrain, ytrain))\n",
    "val = tf.data.Dataset.from_tensor_slices((xval, yval))"
   ]
  },
  {
   "cell_type": "code",
   "execution_count": 47,
   "metadata": {},
   "outputs": [
    {
     "data": {
      "text/plain": [
       "4457"
      ]
     },
     "execution_count": 47,
     "metadata": {},
     "output_type": "execute_result"
    }
   ],
   "source": [
    "len(train)"
   ]
  },
  {
   "cell_type": "code",
   "execution_count": 48,
   "metadata": {},
   "outputs": [],
   "source": [
    "train_batch = train.shuffle(len(train)).batch(64)\n",
    "val_batch = val.shuffle(len(val)).batch(64)"
   ]
  },
  {
   "cell_type": "code",
   "execution_count": 49,
   "metadata": {},
   "outputs": [
    {
     "name": "stdout",
     "output_type": "stream",
     "text": [
      "tf.Tensor(\n",
      "[[109   1 209 ...   0   0   0]\n",
      " [  1  18  87 ...   0   0   0]\n",
      " [117  89 717 ...   0   0   0]\n",
      " ...\n",
      " [201  63   1 ...   0   0   0]\n",
      " [ 32  18  40 ...   0   0   0]\n",
      " [214   1 362 ...   0   0   0]], shape=(64, 72), dtype=int32) tf.Tensor(\n",
      "[1 0 1 0 0 0 0 0 0 0 0 1 0 0 0 0 0 0 0 0 0 1 0 0 0 0 0 0 0 0 0 0 0 0 0 0 0\n",
      " 0 0 0 0 0 0 0 0 0 0 0 0 1 0 0 0 0 0 1 0 0 1 0 0 0 0 0], shape=(64,), dtype=int64)\n"
     ]
    }
   ],
   "source": [
    "for text, target in val_batch.take(1):\n",
    "  print(text, target)"
   ]
  },
  {
   "cell_type": "code",
   "execution_count": 50,
   "metadata": {},
   "outputs": [],
   "source": [
    "vocab_size = tokenizer.num_words\n",
    "model = tf.keras.Sequential([\n",
    "                  # Couche d'Input Word Embedding           \n",
    "                  tf.keras.layers.Embedding(vocab_size+1, 128, input_shape=[text.shape[1],], name=\"embedding\"),\n",
    "                  \n",
    "                  # tf.keras.layers.LSTM(units=128, return_sequences=True),\n",
    "                  # tf.keras.layers.LSTM(units=64, return_sequences=False),\n",
    "                  # BAAAD regarding GLobalMaxPooling\n",
    "\n",
    "                  # hi speed conversion 0.98, faster convergence\n",
    "                  # tf.keras.layers.Bidirectional(tf.keras.layers.LSTM(64, return_sequences=True)),\n",
    "                  # tf.keras.layers.Bidirectional(tf.keras.layers.LSTM(64)),\n",
    "                  tf.keras.layers.GlobalMaxPooling1D(),\n",
    "                  \n",
    "                  # Couche Dense classique\n",
    "                  tf.keras.layers.Dense(128, activation='relu'),\n",
    "                  tf.keras.layers.Dropout(0.2),\n",
    "                  tf.keras.layers.Dense(64, activation='relu'),\n",
    "                  tf.keras.layers.Dropout(0.2),\n",
    "\n",
    "                  tf.keras.layers.Dense(1, activation=\"sigmoid\")\n",
    "])"
   ]
  },
  {
   "cell_type": "code",
   "execution_count": 51,
   "metadata": {},
   "outputs": [],
   "source": [
    "import keras.backend as K\n",
    "def recall_m(y_true, y_pred):\n",
    "    true_positives = K.sum(K.round(K.clip(y_true * y_pred, 0, 1)))\n",
    "    possible_positives = K.sum(K.round(K.clip(y_true, 0, 1)))\n",
    "    recall = true_positives / (possible_positives + K.epsilon())\n",
    "    return recall\n",
    "\n",
    "def precision_m(y_true, y_pred):\n",
    "    true_positives = K.sum(K.round(K.clip(y_true * y_pred, 0, 1)))\n",
    "    predicted_positives = K.sum(K.round(K.clip(y_pred, 0, 1)))\n",
    "    precision = true_positives / (predicted_positives + K.epsilon())\n",
    "    return precision\n",
    "\n",
    "def f1_m(y_true, y_pred):\n",
    "    precision = precision_m(y_true, y_pred)\n",
    "    recall = recall_m(y_true, y_pred)\n",
    "    return 2*((precision*recall)/(precision+recall+K.epsilon()))"
   ]
  },
  {
   "cell_type": "code",
   "execution_count": 52,
   "metadata": {},
   "outputs": [],
   "source": [
    "import keras.backend as K\n",
    "\n",
    "def f1(y_true, y_pred):\n",
    "    y_pred = K.round(y_pred)\n",
    "    tp = K.sum(K.cast(y_true*y_pred, 'float'), axis=0)\n",
    "    tn = K.sum(K.cast((1-y_true)*(1-y_pred), 'float'), axis=0)\n",
    "    fp = K.sum(K.cast((1-y_true)*y_pred, 'float'), axis=0)\n",
    "    fn = K.sum(K.cast(y_true*(1-y_pred), 'float'), axis=0)\n",
    "\n",
    "    p = tp / (tp + fp + K.epsilon())\n",
    "    r = tp / (tp + fn + K.epsilon())\n",
    "\n",
    "    f1 = 2*p*r / (p+r+K.epsilon())\n",
    "    f1 = tf.where(tf.math.is_nan(f1), tf.zeros_like(f1), f1)\n",
    "    return K.mean(f1)\n",
    "\n",
    "# much better\n",
    "def f1_weighted(true, pred): #shapes (batch, 4)\n",
    "\n",
    "    #for metrics include these two lines, for loss, don't include them\n",
    "    #these are meant to round 'pred' to exactly zeros and ones\n",
    "    # predLabels = K.argmax(pred, axis=-1)\n",
    "    # pred = K.one_hot(predLabels, 4) \n",
    "\n",
    "\n",
    "    ground_positives = K.sum(true, axis=0) + K.epsilon()       # = TP + FN\n",
    "    pred_positives = K.sum(pred, axis=0) + K.epsilon()         # = TP + FP\n",
    "    true_positives = K.sum(true * pred, axis=0) + K.epsilon()  # = TP\n",
    "        #all with shape (4,)\n",
    "    \n",
    "    precision = true_positives / pred_positives \n",
    "    recall = true_positives / ground_positives\n",
    "        #both = 1 if ground_positives == 0 or pred_positives == 0\n",
    "        #shape (4,)\n",
    "\n",
    "    f1 = 2 * (precision * recall) / (precision + recall + K.epsilon())\n",
    "        #still with shape (4,)\n",
    "\n",
    "    weighted_f1 = f1 * ground_positives / K.sum(ground_positives) \n",
    "    weighted_f1 = K.sum(weighted_f1)\n",
    "\n",
    "    \n",
    "    return 1 - weighted_f1 #for metrics, return only 'weighted_f1'\n",
    "\n",
    "def f1_weighted_loss(true, pred): #shapes (batch, 4)\n",
    "\n",
    "    #for metrics include these two lines, for loss, don't include them\n",
    "    #these are meant to round 'pred' to exactly zeros and ones\n",
    "    # predLabels = K.argmax(pred, axis=-1)\n",
    "    # pred = K.one_hot(predLabels, 4) \n",
    "\n",
    "    true = tf.cast(true, tf.float32)\n",
    "\n",
    "    ground_positives = K.sum(true, axis=0) + K.epsilon()       # = TP + FN\n",
    "    pred_positives = K.sum(pred, axis=0) + K.epsilon()         # = TP + FP\n",
    "    true_positives = K.sum(true * pred, axis=0) + K.epsilon()  # = TP\n",
    "        #all with shape (4,)\n",
    "    \n",
    "    precision = true_positives / pred_positives \n",
    "    recall = true_positives / ground_positives\n",
    "        #both = 1 if ground_positives == 0 or pred_positives == 0\n",
    "        #shape (4,)\n",
    "\n",
    "    f1 = 2 * (precision * recall) / (precision + recall + K.epsilon())\n",
    "        #still with shape (4,)\n",
    "\n",
    "    weighted_f1 = f1 * ground_positives / K.sum(ground_positives) \n",
    "    weighted_f1 = K.sum(weighted_f1)\n",
    "\n",
    "    \n",
    "    return 1 - weighted_f1 #for metrics, return only 'weighted_f1'"
   ]
  },
  {
   "cell_type": "code",
   "execution_count": 53,
   "metadata": {},
   "outputs": [],
   "source": [
    "optimizer= tf.keras.optimizers.Adam(learning_rate=0.001)\n",
    "\n",
    "model.compile(optimizer=optimizer,\n",
    "              #loss=f1_weighted_loss,\n",
    "              loss=tf.keras.losses.BinaryCrossentropy(),\n",
    "              metrics=[f1,tf.keras.metrics.BinaryAccuracy()])"
   ]
  },
  {
   "cell_type": "code",
   "execution_count": 54,
   "metadata": {},
   "outputs": [],
   "source": [
    "targets_count = df['target_encoded'].value_counts()\n",
    "total = targets_count.sum()\n",
    "dic_weights = {i : 1 / (targets_count[i]/total) / 2 for i in range(2)}"
   ]
  },
  {
   "cell_type": "code",
   "execution_count": null,
   "metadata": {},
   "outputs": [],
   "source": []
  },
  {
   "cell_type": "code",
   "execution_count": 55,
   "metadata": {},
   "outputs": [
    {
     "data": {
      "text/plain": [
       "{0: 0.5774093264248704, 1: 3.72958500669344}"
      ]
     },
     "execution_count": 55,
     "metadata": {},
     "output_type": "execute_result"
    }
   ],
   "source": [
    "dic_weights"
   ]
  },
  {
   "cell_type": "code",
   "execution_count": 56,
   "metadata": {},
   "outputs": [],
   "source": [
    "import datetime\n",
    "log_dir = \"logs_simple/fit/\" + datetime.datetime.now().strftime(\"%Y%m%d-%H%M%S\")\n",
    "tensorboard_callback = tf.keras.callbacks.TensorBoard(log_dir=log_dir, histogram_freq=1)"
   ]
  },
  {
   "cell_type": "code",
   "execution_count": 57,
   "metadata": {},
   "outputs": [],
   "source": [
    "# part = 1 - df['target_encoded'].value_counts() / df.shape[0]\n",
    "# part.to_dict()"
   ]
  },
  {
   "cell_type": "code",
   "execution_count": 58,
   "metadata": {},
   "outputs": [
    {
     "name": "stdout",
     "output_type": "stream",
     "text": [
      "Epoch 1/100\n"
     ]
    },
    {
     "name": "stderr",
     "output_type": "stream",
     "text": [
      "2022-11-19 16:33:51.515637: W tensorflow/core/platform/profile_utils/cpu_utils.cc:128] Failed to get CPU frequency: 0 Hz\n",
      "2022-11-19 16:33:52.002503: I tensorflow/core/grappler/optimizers/custom_graph_optimizer_registry.cc:114] Plugin optimizer for device_type GPU is enabled.\n"
     ]
    },
    {
     "name": "stdout",
     "output_type": "stream",
     "text": [
      "70/70 [==============================] - ETA: 0s - loss: 0.4891 - f1: 0.6689 - binary_accuracy: 0.8447"
     ]
    },
    {
     "name": "stderr",
     "output_type": "stream",
     "text": [
      "2022-11-19 16:33:57.278694: I tensorflow/core/grappler/optimizers/custom_graph_optimizer_registry.cc:114] Plugin optimizer for device_type GPU is enabled.\n"
     ]
    },
    {
     "name": "stdout",
     "output_type": "stream",
     "text": [
      "70/70 [==============================] - 6s 35ms/step - loss: 0.4891 - f1: 0.6689 - binary_accuracy: 0.8447 - val_loss: 0.1325 - val_f1: 0.8552 - val_binary_accuracy: 0.9614\n",
      "Epoch 2/100\n",
      "70/70 [==============================] - 2s 29ms/step - loss: 0.1006 - f1: 0.9099 - binary_accuracy: 0.9760 - val_loss: 0.0783 - val_f1: 0.8921 - val_binary_accuracy: 0.9749\n",
      "Epoch 3/100\n",
      "70/70 [==============================] - 2s 25ms/step - loss: 0.0445 - f1: 0.9549 - binary_accuracy: 0.9888 - val_loss: 0.0927 - val_f1: 0.8828 - val_binary_accuracy: 0.9686\n",
      "Epoch 4/100\n",
      "70/70 [==============================] - 2s 23ms/step - loss: 0.0219 - f1: 0.9855 - binary_accuracy: 0.9960 - val_loss: 0.0606 - val_f1: 0.9229 - val_binary_accuracy: 0.9812\n",
      "Epoch 5/100\n",
      "70/70 [==============================] - 2s 24ms/step - loss: 0.0136 - f1: 0.9927 - binary_accuracy: 0.9982 - val_loss: 0.0585 - val_f1: 0.9349 - val_binary_accuracy: 0.9812\n",
      "Epoch 6/100\n",
      "70/70 [==============================] - 2s 23ms/step - loss: 0.0102 - f1: 0.9947 - binary_accuracy: 0.9984 - val_loss: 0.0598 - val_f1: 0.9282 - val_binary_accuracy: 0.9821\n",
      "Epoch 7/100\n",
      "70/70 [==============================] - 2s 22ms/step - loss: 0.0087 - f1: 0.9981 - binary_accuracy: 0.9996 - val_loss: 0.0636 - val_f1: 0.9382 - val_binary_accuracy: 0.9830\n",
      "Epoch 8/100\n",
      "70/70 [==============================] - 2s 23ms/step - loss: 0.0077 - f1: 0.9982 - binary_accuracy: 0.9996 - val_loss: 0.0686 - val_f1: 0.9151 - val_binary_accuracy: 0.9821\n",
      "Epoch 9/100\n",
      "70/70 [==============================] - 2s 24ms/step - loss: 0.0076 - f1: 0.9983 - binary_accuracy: 0.9996 - val_loss: 0.0669 - val_f1: 0.9278 - val_binary_accuracy: 0.9830\n",
      "Epoch 10/100\n",
      "70/70 [==============================] - 2s 23ms/step - loss: 0.0065 - f1: 0.9976 - binary_accuracy: 0.9996 - val_loss: 0.0645 - val_f1: 0.9420 - val_binary_accuracy: 0.9830\n",
      "Epoch 11/100\n",
      "70/70 [==============================] - 2s 22ms/step - loss: 0.0075 - f1: 0.9982 - binary_accuracy: 0.9996 - val_loss: 0.0695 - val_f1: 0.9295 - val_binary_accuracy: 0.9830\n",
      "Epoch 12/100\n",
      "70/70 [==============================] - 2s 22ms/step - loss: 0.0075 - f1: 0.9983 - binary_accuracy: 0.9996 - val_loss: 0.0754 - val_f1: 0.9326 - val_binary_accuracy: 0.9821\n",
      "Epoch 13/100\n",
      "70/70 [==============================] - 2s 22ms/step - loss: 0.0067 - f1: 0.9984 - binary_accuracy: 0.9996 - val_loss: 0.0742 - val_f1: 0.9296 - val_binary_accuracy: 0.9830\n",
      "Epoch 14/100\n",
      "70/70 [==============================] - 1s 21ms/step - loss: 0.0068 - f1: 0.9986 - binary_accuracy: 0.9996 - val_loss: 0.0739 - val_f1: 0.9360 - val_binary_accuracy: 0.9830\n",
      "Epoch 15/100\n",
      "70/70 [==============================] - 1s 21ms/step - loss: 0.0071 - f1: 0.9976 - binary_accuracy: 0.9996 - val_loss: 0.0792 - val_f1: 0.9291 - val_binary_accuracy: 0.9830\n",
      "Epoch 16/100\n",
      "70/70 [==============================] - 1s 21ms/step - loss: 0.0068 - f1: 0.9988 - binary_accuracy: 0.9996 - val_loss: 0.0800 - val_f1: 0.9473 - val_binary_accuracy: 0.9839\n",
      "Epoch 17/100\n",
      "70/70 [==============================] - 1s 21ms/step - loss: 0.0063 - f1: 0.9984 - binary_accuracy: 0.9996 - val_loss: 0.0794 - val_f1: 0.9347 - val_binary_accuracy: 0.9830\n",
      "Epoch 18/100\n",
      "70/70 [==============================] - 1s 21ms/step - loss: 0.0062 - f1: 0.9983 - binary_accuracy: 0.9996 - val_loss: 0.0773 - val_f1: 0.9443 - val_binary_accuracy: 0.9848\n",
      "Epoch 19/100\n",
      "70/70 [==============================] - 1s 21ms/step - loss: 0.0069 - f1: 0.9981 - binary_accuracy: 0.9996 - val_loss: 0.0903 - val_f1: 0.9331 - val_binary_accuracy: 0.9812\n",
      "Epoch 20/100\n",
      "70/70 [==============================] - 1s 21ms/step - loss: 0.0065 - f1: 0.9979 - binary_accuracy: 0.9996 - val_loss: 0.0901 - val_f1: 0.8864 - val_binary_accuracy: 0.9839\n",
      "Epoch 21/100\n",
      "70/70 [==============================] - 1s 21ms/step - loss: 0.0061 - f1: 0.9982 - binary_accuracy: 0.9996 - val_loss: 0.0909 - val_f1: 0.9387 - val_binary_accuracy: 0.9830\n",
      "Epoch 22/100\n",
      "70/70 [==============================] - 1s 21ms/step - loss: 0.0062 - f1: 0.9977 - binary_accuracy: 0.9996 - val_loss: 0.0914 - val_f1: 0.9350 - val_binary_accuracy: 0.9821\n",
      "Epoch 23/100\n",
      "70/70 [==============================] - 1s 21ms/step - loss: 0.0057 - f1: 0.9986 - binary_accuracy: 0.9996 - val_loss: 0.0875 - val_f1: 0.9370 - val_binary_accuracy: 0.9839\n",
      "Epoch 24/100\n",
      "70/70 [==============================] - 1s 21ms/step - loss: 0.0071 - f1: 0.9974 - binary_accuracy: 0.9996 - val_loss: 0.0921 - val_f1: 0.9339 - val_binary_accuracy: 0.9830\n",
      "Epoch 25/100\n",
      "70/70 [==============================] - 2s 23ms/step - loss: 0.0063 - f1: 0.9977 - binary_accuracy: 0.9996 - val_loss: 0.0949 - val_f1: 0.9262 - val_binary_accuracy: 0.9821\n",
      "Epoch 26/100\n",
      "70/70 [==============================] - 2s 23ms/step - loss: 0.0060 - f1: 0.9988 - binary_accuracy: 0.9996 - val_loss: 0.0918 - val_f1: 0.9314 - val_binary_accuracy: 0.9830\n",
      "Epoch 27/100\n",
      "70/70 [==============================] - 2s 22ms/step - loss: 0.0063 - f1: 0.9987 - binary_accuracy: 0.9996 - val_loss: 0.0898 - val_f1: 0.9253 - val_binary_accuracy: 0.9839\n",
      "Epoch 28/100\n",
      "70/70 [==============================] - 2s 22ms/step - loss: 0.0042 - f1: 0.9988 - binary_accuracy: 0.9996 - val_loss: 0.0917 - val_f1: 0.9414 - val_binary_accuracy: 0.9839\n",
      "Epoch 29/100\n",
      "70/70 [==============================] - 1s 21ms/step - loss: 0.0076 - f1: 0.9978 - binary_accuracy: 0.9996 - val_loss: 0.0979 - val_f1: 0.9340 - val_binary_accuracy: 0.9830\n",
      "Epoch 30/100\n",
      "70/70 [==============================] - 1s 21ms/step - loss: 0.0064 - f1: 0.9987 - binary_accuracy: 0.9996 - val_loss: 0.0987 - val_f1: 0.9354 - val_binary_accuracy: 0.9821\n",
      "Epoch 31/100\n",
      "70/70 [==============================] - 1s 21ms/step - loss: 0.0064 - f1: 0.9986 - binary_accuracy: 0.9996 - val_loss: 0.0989 - val_f1: 0.9424 - val_binary_accuracy: 0.9839\n",
      "Epoch 32/100\n",
      "70/70 [==============================] - 1s 21ms/step - loss: 0.0059 - f1: 0.9986 - binary_accuracy: 0.9996 - val_loss: 0.1009 - val_f1: 0.9386 - val_binary_accuracy: 0.9839\n",
      "Epoch 33/100\n",
      "70/70 [==============================] - 2s 22ms/step - loss: 0.0058 - f1: 0.9984 - binary_accuracy: 0.9996 - val_loss: 0.1018 - val_f1: 0.8677 - val_binary_accuracy: 0.9821\n",
      "Epoch 34/100\n",
      "70/70 [==============================] - 1s 21ms/step - loss: 0.0062 - f1: 0.9978 - binary_accuracy: 0.9996 - val_loss: 0.1061 - val_f1: 0.9406 - val_binary_accuracy: 0.9830\n",
      "Epoch 35/100\n",
      "70/70 [==============================] - 1s 21ms/step - loss: 0.0067 - f1: 0.9986 - binary_accuracy: 0.9996 - val_loss: 0.1046 - val_f1: 0.9091 - val_binary_accuracy: 0.9821\n",
      "Epoch 36/100\n",
      "70/70 [==============================] - 1s 21ms/step - loss: 0.0055 - f1: 0.9983 - binary_accuracy: 0.9996 - val_loss: 0.1049 - val_f1: 0.9298 - val_binary_accuracy: 0.9821\n",
      "Epoch 37/100\n",
      "70/70 [==============================] - 1s 21ms/step - loss: 0.0060 - f1: 0.9976 - binary_accuracy: 0.9996 - val_loss: 0.1081 - val_f1: 0.9272 - val_binary_accuracy: 0.9803\n",
      "Epoch 38/100\n",
      "70/70 [==============================] - 1s 21ms/step - loss: 0.0063 - f1: 0.9984 - binary_accuracy: 0.9996 - val_loss: 0.1058 - val_f1: 0.9150 - val_binary_accuracy: 0.9821\n",
      "Epoch 39/100\n",
      "70/70 [==============================] - 2s 21ms/step - loss: 0.0071 - f1: 0.9981 - binary_accuracy: 0.9996 - val_loss: 0.1101 - val_f1: 0.9204 - val_binary_accuracy: 0.9812\n",
      "Epoch 40/100\n",
      "70/70 [==============================] - 1s 21ms/step - loss: 0.0064 - f1: 0.9981 - binary_accuracy: 0.9996 - val_loss: 0.1120 - val_f1: 0.9308 - val_binary_accuracy: 0.9812\n",
      "Epoch 41/100\n",
      "70/70 [==============================] - 1s 21ms/step - loss: 0.0059 - f1: 0.9986 - binary_accuracy: 0.9996 - val_loss: 0.1120 - val_f1: 0.9288 - val_binary_accuracy: 0.9803\n",
      "Epoch 42/100\n",
      "70/70 [==============================] - 1s 21ms/step - loss: 0.0055 - f1: 0.9985 - binary_accuracy: 0.9996 - val_loss: 0.1129 - val_f1: 0.9129 - val_binary_accuracy: 0.9794\n",
      "Epoch 43/100\n",
      "70/70 [==============================] - 1s 21ms/step - loss: 0.0058 - f1: 0.9974 - binary_accuracy: 0.9996 - val_loss: 0.1148 - val_f1: 0.9251 - val_binary_accuracy: 0.9803\n",
      "Epoch 44/100\n",
      "70/70 [==============================] - 1s 21ms/step - loss: 0.0062 - f1: 0.9982 - binary_accuracy: 0.9996 - val_loss: 0.1165 - val_f1: 0.9276 - val_binary_accuracy: 0.9803\n",
      "Epoch 45/100\n",
      "70/70 [==============================] - 1s 21ms/step - loss: 0.0058 - f1: 0.9982 - binary_accuracy: 0.9996 - val_loss: 0.1187 - val_f1: 0.9218 - val_binary_accuracy: 0.9803\n",
      "Epoch 46/100\n",
      "70/70 [==============================] - 1s 20ms/step - loss: 0.0058 - f1: 0.9977 - binary_accuracy: 0.9996 - val_loss: 0.1179 - val_f1: 0.9136 - val_binary_accuracy: 0.9803\n",
      "Epoch 47/100\n",
      "70/70 [==============================] - 1s 20ms/step - loss: 0.0050 - f1: 0.9983 - binary_accuracy: 0.9996 - val_loss: 0.1181 - val_f1: 0.9223 - val_binary_accuracy: 0.9803\n",
      "Epoch 48/100\n",
      "70/70 [==============================] - 1s 20ms/step - loss: 0.0053 - f1: 0.9988 - binary_accuracy: 0.9996 - val_loss: 0.1180 - val_f1: 0.9259 - val_binary_accuracy: 0.9803\n",
      "Epoch 49/100\n",
      "70/70 [==============================] - 1s 20ms/step - loss: 0.0064 - f1: 0.9973 - binary_accuracy: 0.9996 - val_loss: 0.1184 - val_f1: 0.9252 - val_binary_accuracy: 0.9812\n",
      "Epoch 50/100\n",
      "70/70 [==============================] - 1s 20ms/step - loss: 0.0051 - f1: 0.9979 - binary_accuracy: 0.9996 - val_loss: 0.1199 - val_f1: 0.9298 - val_binary_accuracy: 0.9803\n",
      "Epoch 51/100\n",
      "70/70 [==============================] - 1s 20ms/step - loss: 0.0068 - f1: 0.9974 - binary_accuracy: 0.9996 - val_loss: 0.1235 - val_f1: 0.9247 - val_binary_accuracy: 0.9803\n",
      "Epoch 52/100\n",
      "70/70 [==============================] - 1s 20ms/step - loss: 0.0068 - f1: 0.9981 - binary_accuracy: 0.9996 - val_loss: 0.1213 - val_f1: 0.9125 - val_binary_accuracy: 0.9803\n",
      "Epoch 53/100\n",
      "70/70 [==============================] - 1s 20ms/step - loss: 0.0050 - f1: 0.9986 - binary_accuracy: 0.9996 - val_loss: 0.1198 - val_f1: 0.9210 - val_binary_accuracy: 0.9794\n",
      "Epoch 54/100\n",
      "70/70 [==============================] - 1s 20ms/step - loss: 0.0056 - f1: 0.9981 - binary_accuracy: 0.9996 - val_loss: 0.1216 - val_f1: 0.9234 - val_binary_accuracy: 0.9812\n",
      "Epoch 55/100\n",
      "70/70 [==============================] - 1s 20ms/step - loss: 0.0059 - f1: 0.9984 - binary_accuracy: 0.9996 - val_loss: 0.1268 - val_f1: 0.9259 - val_binary_accuracy: 0.9794\n",
      "Epoch 56/100\n",
      "70/70 [==============================] - 1s 20ms/step - loss: 0.0064 - f1: 0.9978 - binary_accuracy: 0.9996 - val_loss: 0.1290 - val_f1: 0.9081 - val_binary_accuracy: 0.9794\n",
      "Epoch 57/100\n",
      "70/70 [==============================] - 1s 20ms/step - loss: 0.0067 - f1: 0.9979 - binary_accuracy: 0.9993 - val_loss: 0.1221 - val_f1: 0.9203 - val_binary_accuracy: 0.9794\n",
      "Epoch 58/100\n",
      "70/70 [==============================] - 2s 22ms/step - loss: 0.0135 - f1: 0.9911 - binary_accuracy: 0.9975 - val_loss: 0.2102 - val_f1: 0.8537 - val_binary_accuracy: 0.9561\n",
      "Epoch 59/100\n",
      "70/70 [==============================] - 1s 20ms/step - loss: 0.0194 - f1: 0.9832 - binary_accuracy: 0.9955 - val_loss: 0.1201 - val_f1: 0.8798 - val_binary_accuracy: 0.9794\n",
      "Epoch 60/100\n",
      "70/70 [==============================] - 1s 18ms/step - loss: 0.0065 - f1: 0.9972 - binary_accuracy: 0.9993 - val_loss: 0.1161 - val_f1: 0.9176 - val_binary_accuracy: 0.9803\n",
      "Epoch 61/100\n",
      "70/70 [==============================] - 1s 18ms/step - loss: 0.0070 - f1: 0.9985 - binary_accuracy: 0.9996 - val_loss: 0.1186 - val_f1: 0.9078 - val_binary_accuracy: 0.9785\n",
      "Epoch 62/100\n",
      "70/70 [==============================] - 1s 18ms/step - loss: 0.0056 - f1: 0.9985 - binary_accuracy: 0.9996 - val_loss: 0.1204 - val_f1: 0.9233 - val_binary_accuracy: 0.9794\n",
      "Epoch 63/100\n",
      "70/70 [==============================] - 1s 18ms/step - loss: 0.0065 - f1: 0.9987 - binary_accuracy: 0.9996 - val_loss: 0.1229 - val_f1: 0.9295 - val_binary_accuracy: 0.9794\n",
      "Epoch 64/100\n",
      "70/70 [==============================] - 1s 18ms/step - loss: 0.0064 - f1: 0.9981 - binary_accuracy: 0.9996 - val_loss: 0.1255 - val_f1: 0.9157 - val_binary_accuracy: 0.9785\n",
      "Epoch 65/100\n",
      "70/70 [==============================] - 1s 19ms/step - loss: 0.0076 - f1: 0.9988 - binary_accuracy: 0.9996 - val_loss: 0.1333 - val_f1: 0.9074 - val_binary_accuracy: 0.9776\n",
      "Epoch 66/100\n",
      "70/70 [==============================] - 1s 19ms/step - loss: 0.0058 - f1: 0.9977 - binary_accuracy: 0.9996 - val_loss: 0.1379 - val_f1: 0.9161 - val_binary_accuracy: 0.9776\n",
      "Epoch 67/100\n",
      "70/70 [==============================] - 1s 19ms/step - loss: 0.0065 - f1: 0.9979 - binary_accuracy: 0.9996 - val_loss: 0.1398 - val_f1: 0.9122 - val_binary_accuracy: 0.9758\n",
      "Epoch 68/100\n",
      "70/70 [==============================] - 1s 19ms/step - loss: 0.0062 - f1: 0.9984 - binary_accuracy: 0.9996 - val_loss: 0.1397 - val_f1: 0.9007 - val_binary_accuracy: 0.9758\n",
      "Epoch 69/100\n",
      "70/70 [==============================] - 1s 20ms/step - loss: 0.0055 - f1: 0.9986 - binary_accuracy: 0.9996 - val_loss: 0.1457 - val_f1: 0.8998 - val_binary_accuracy: 0.9767\n",
      "Epoch 70/100\n",
      "70/70 [==============================] - 1s 20ms/step - loss: 0.0063 - f1: 0.9976 - binary_accuracy: 0.9996 - val_loss: 0.1455 - val_f1: 0.9012 - val_binary_accuracy: 0.9767\n",
      "Epoch 71/100\n",
      "70/70 [==============================] - 1s 19ms/step - loss: 0.0042 - f1: 0.9982 - binary_accuracy: 0.9996 - val_loss: 0.1494 - val_f1: 0.8938 - val_binary_accuracy: 0.9758\n",
      "Epoch 72/100\n",
      "70/70 [==============================] - 2s 23ms/step - loss: 0.0047 - f1: 0.9981 - binary_accuracy: 0.9996 - val_loss: 0.1509 - val_f1: 0.9202 - val_binary_accuracy: 0.9767\n",
      "Epoch 73/100\n",
      "70/70 [==============================] - 1s 20ms/step - loss: 0.0066 - f1: 0.9983 - binary_accuracy: 0.9996 - val_loss: 0.1522 - val_f1: 0.9109 - val_binary_accuracy: 0.9767\n",
      "Epoch 74/100\n",
      "70/70 [==============================] - 1s 19ms/step - loss: 0.0065 - f1: 0.9987 - binary_accuracy: 0.9996 - val_loss: 0.1516 - val_f1: 0.9079 - val_binary_accuracy: 0.9767\n",
      "Epoch 75/100\n",
      "70/70 [==============================] - 1s 20ms/step - loss: 0.0058 - f1: 0.9983 - binary_accuracy: 0.9996 - val_loss: 0.1523 - val_f1: 0.9054 - val_binary_accuracy: 0.9776\n",
      "Epoch 76/100\n",
      "70/70 [==============================] - 1s 20ms/step - loss: 0.0057 - f1: 0.9979 - binary_accuracy: 0.9996 - val_loss: 0.1538 - val_f1: 0.9109 - val_binary_accuracy: 0.9767\n",
      "Epoch 77/100\n",
      "70/70 [==============================] - 1s 20ms/step - loss: 0.0064 - f1: 0.9982 - binary_accuracy: 0.9996 - val_loss: 0.1563 - val_f1: 0.9091 - val_binary_accuracy: 0.9767\n",
      "Epoch 78/100\n",
      "70/70 [==============================] - 1s 20ms/step - loss: 0.0064 - f1: 0.9986 - binary_accuracy: 0.9996 - val_loss: 0.1585 - val_f1: 0.9108 - val_binary_accuracy: 0.9758\n",
      "Epoch 79/100\n",
      "70/70 [==============================] - 1s 19ms/step - loss: 0.0061 - f1: 0.9979 - binary_accuracy: 0.9996 - val_loss: 0.1591 - val_f1: 0.8983 - val_binary_accuracy: 0.9758\n",
      "Epoch 80/100\n",
      "70/70 [==============================] - 1s 20ms/step - loss: 0.0057 - f1: 0.9973 - binary_accuracy: 0.9996 - val_loss: 0.1615 - val_f1: 0.9058 - val_binary_accuracy: 0.9749\n",
      "Epoch 81/100\n",
      "70/70 [==============================] - 1s 19ms/step - loss: 0.0051 - f1: 0.9977 - binary_accuracy: 0.9996 - val_loss: 0.1619 - val_f1: 0.8785 - val_binary_accuracy: 0.9749\n",
      "Epoch 82/100\n",
      "70/70 [==============================] - 1s 19ms/step - loss: 0.0054 - f1: 0.9987 - binary_accuracy: 0.9996 - val_loss: 0.1625 - val_f1: 0.9047 - val_binary_accuracy: 0.9749\n",
      "Epoch 83/100\n",
      "70/70 [==============================] - 2s 25ms/step - loss: 0.0058 - f1: 0.9983 - binary_accuracy: 0.9996 - val_loss: 0.1613 - val_f1: 0.9030 - val_binary_accuracy: 0.9740\n",
      "Epoch 84/100\n",
      "70/70 [==============================] - 1s 20ms/step - loss: 0.0060 - f1: 0.9986 - binary_accuracy: 0.9996 - val_loss: 0.1594 - val_f1: 0.9042 - val_binary_accuracy: 0.9758\n",
      "Epoch 85/100\n",
      "70/70 [==============================] - 1s 20ms/step - loss: 0.0076 - f1: 0.9986 - binary_accuracy: 0.9996 - val_loss: 0.1621 - val_f1: 0.8892 - val_binary_accuracy: 0.9749\n",
      "Epoch 86/100\n",
      "70/70 [==============================] - 1s 20ms/step - loss: 0.0060 - f1: 0.9982 - binary_accuracy: 0.9996 - val_loss: 0.1705 - val_f1: 0.9019 - val_binary_accuracy: 0.9740\n",
      "Epoch 87/100\n",
      "70/70 [==============================] - 1s 20ms/step - loss: 0.0053 - f1: 0.9978 - binary_accuracy: 0.9996 - val_loss: 0.1678 - val_f1: 0.8894 - val_binary_accuracy: 0.9740\n",
      "Epoch 88/100\n",
      "70/70 [==============================] - 1s 20ms/step - loss: 0.0064 - f1: 0.9980 - binary_accuracy: 0.9996 - val_loss: 0.1763 - val_f1: 0.8971 - val_binary_accuracy: 0.9740\n",
      "Epoch 89/100\n",
      "70/70 [==============================] - 1s 20ms/step - loss: 0.0057 - f1: 0.9981 - binary_accuracy: 0.9996 - val_loss: 0.1774 - val_f1: 0.8989 - val_binary_accuracy: 0.9740\n",
      "Epoch 90/100\n",
      "70/70 [==============================] - 1s 20ms/step - loss: 0.0066 - f1: 0.9982 - binary_accuracy: 0.9996 - val_loss: 0.1785 - val_f1: 0.8806 - val_binary_accuracy: 0.9731\n",
      "Epoch 91/100\n",
      "70/70 [==============================] - 1s 20ms/step - loss: 0.0060 - f1: 0.9988 - binary_accuracy: 0.9996 - val_loss: 0.1796 - val_f1: 0.8928 - val_binary_accuracy: 0.9740\n",
      "Epoch 92/100\n",
      "70/70 [==============================] - 1s 20ms/step - loss: 0.0051 - f1: 0.9987 - binary_accuracy: 0.9996 - val_loss: 0.1844 - val_f1: 0.8815 - val_binary_accuracy: 0.9740\n",
      "Epoch 93/100\n",
      "70/70 [==============================] - 1s 20ms/step - loss: 0.0047 - f1: 0.9984 - binary_accuracy: 0.9996 - val_loss: 0.1876 - val_f1: 0.8798 - val_binary_accuracy: 0.9731\n",
      "Epoch 94/100\n",
      "70/70 [==============================] - 1s 19ms/step - loss: 0.0071 - f1: 0.9988 - binary_accuracy: 0.9996 - val_loss: 0.1830 - val_f1: 0.9041 - val_binary_accuracy: 0.9740\n",
      "Epoch 95/100\n",
      "70/70 [==============================] - 1s 20ms/step - loss: 0.0060 - f1: 0.9984 - binary_accuracy: 0.9996 - val_loss: 0.1872 - val_f1: 0.8829 - val_binary_accuracy: 0.9722\n",
      "Epoch 96/100\n",
      "70/70 [==============================] - 1s 20ms/step - loss: 0.0057 - f1: 0.9965 - binary_accuracy: 0.9996 - val_loss: 0.1951 - val_f1: 0.8928 - val_binary_accuracy: 0.9722\n",
      "Epoch 97/100\n",
      "70/70 [==============================] - 1s 20ms/step - loss: 0.0054 - f1: 0.9980 - binary_accuracy: 0.9996 - val_loss: 0.1890 - val_f1: 0.9013 - val_binary_accuracy: 0.9749\n",
      "Epoch 98/100\n",
      "70/70 [==============================] - 1s 20ms/step - loss: 0.0062 - f1: 0.9977 - binary_accuracy: 0.9996 - val_loss: 0.1904 - val_f1: 0.8819 - val_binary_accuracy: 0.9731\n",
      "Epoch 99/100\n",
      "70/70 [==============================] - 1s 20ms/step - loss: 0.0061 - f1: 0.9973 - binary_accuracy: 0.9996 - val_loss: 0.1953 - val_f1: 0.8815 - val_binary_accuracy: 0.9740\n",
      "Epoch 100/100\n",
      "70/70 [==============================] - 1s 20ms/step - loss: 0.0060 - f1: 0.9990 - binary_accuracy: 0.9996 - val_loss: 0.2079 - val_f1: 0.8906 - val_binary_accuracy: 0.9704\n"
     ]
    }
   ],
   "source": [
    "history = model.fit(train_batch,\n",
    "                    epochs=100,\n",
    "                    validation_data=val_batch,\n",
    "                    class_weight=dic_weights,\n",
    "                    callbacks=[tensorboard_callback]\n",
    "                    )"
   ]
  },
  {
   "cell_type": "code",
   "execution_count": 59,
   "metadata": {},
   "outputs": [
    {
     "data": {
      "application/vnd.plotly.v1+json": {
       "config": {
        "plotlyServerURL": "https://plot.ly"
       },
       "data": [
        {
         "marker": {
          "color": "#4B9AC7"
         },
         "mode": "lines",
         "name": "Training loss",
         "type": "scatter",
         "y": [
          0.4891475737094879,
          0.10064274072647095,
          0.044546883553266525,
          0.021914605051279068,
          0.013589187525212765,
          0.01023155264556408,
          0.008691005408763885,
          0.007739780470728874,
          0.0076138912700116634,
          0.006501884665340185,
          0.007540668360888958,
          0.007521408144384623,
          0.006677320227026939,
          0.006808791309595108,
          0.007084530312567949,
          0.006842795759439468,
          0.006277518812566996,
          0.006163444835692644,
          0.006927103735506535,
          0.006466065067797899,
          0.006060020998120308,
          0.006150470115244389,
          0.005684483330696821,
          0.007095190696418285,
          0.00628826767206192,
          0.005956093780696392,
          0.006265687756240368,
          0.00422534067183733,
          0.0075857932679355145,
          0.006364652421325445,
          0.006356882397085428,
          0.005887077655643225,
          0.005757022183388472,
          0.006179497577250004,
          0.006667833309620619,
          0.005502406973391771,
          0.00599881075322628,
          0.006290333811193705,
          0.007115799933671951,
          0.0064246742986142635,
          0.005948798265308142,
          0.005459899548441172,
          0.005791019648313522,
          0.006247301585972309,
          0.005788322538137436,
          0.005752868950366974,
          0.004968352150171995,
          0.005283545237034559,
          0.00644658412784338,
          0.005136882420629263,
          0.00683409720659256,
          0.006789698731154203,
          0.0050327470526099205,
          0.005646515637636185,
          0.005947404075413942,
          0.006421598605811596,
          0.0067189885303378105,
          0.01354062370955944,
          0.01943065971136093,
          0.006522745825350285,
          0.007041331380605698,
          0.005632891319692135,
          0.006510287057608366,
          0.006434120237827301,
          0.007605238817632198,
          0.005801076535135508,
          0.006536813918501139,
          0.00620816508308053,
          0.005510792601853609,
          0.00634745554998517,
          0.004244037438184023,
          0.004741275683045387,
          0.006585035007447004,
          0.006461627781391144,
          0.005752643570303917,
          0.00574325630441308,
          0.006395241711288691,
          0.006356323603540659,
          0.006125081330537796,
          0.00574369914829731,
          0.005147069226950407,
          0.005426632706075907,
          0.005787807051092386,
          0.005984482821077108,
          0.007632749155163765,
          0.005997932516038418,
          0.005320418160408735,
          0.006361457519233227,
          0.005658744368702173,
          0.006564310286194086,
          0.006046650931239128,
          0.005088326055556536,
          0.00473428051918745,
          0.0071061598137021065,
          0.005960518028587103,
          0.00573268486186862,
          0.005394307896494865,
          0.006236850284039974,
          0.006062858738005161,
          0.0059662312269210815
         ]
        },
        {
         "marker": {
          "color": "#4BE8E0"
         },
         "mode": "lines",
         "name": "Validation loss",
         "type": "scatter",
         "y": [
          0.13246038556098938,
          0.07825282961130142,
          0.09273181110620499,
          0.06064681336283684,
          0.05854150280356407,
          0.05984857305884361,
          0.0635751485824585,
          0.06858642399311066,
          0.06691408902406693,
          0.06448028981685638,
          0.06945163756608963,
          0.07535266876220703,
          0.07420798391103745,
          0.07386348396539688,
          0.07918929308652878,
          0.0799574926495552,
          0.0794452652335167,
          0.07729030400514603,
          0.09028415381908417,
          0.09011225402355194,
          0.09089759737253189,
          0.0914393812417984,
          0.08753906935453415,
          0.09207111597061157,
          0.0949133113026619,
          0.09175540506839752,
          0.08979473263025284,
          0.09174862504005432,
          0.09785638004541397,
          0.09871518611907959,
          0.09893497824668884,
          0.1008506491780281,
          0.10179871320724487,
          0.10612605512142181,
          0.10463954508304596,
          0.10492825508117676,
          0.10806353390216827,
          0.10583226382732391,
          0.1101096123456955,
          0.11195584386587143,
          0.11200205981731415,
          0.11291820555925369,
          0.11479553580284119,
          0.11650113016366959,
          0.11874072253704071,
          0.11791324615478516,
          0.11811863631010056,
          0.11797919869422913,
          0.11839421838521957,
          0.11985771358013153,
          0.12349341809749603,
          0.12125511467456818,
          0.11980345100164413,
          0.12158166617155075,
          0.12681575119495392,
          0.12896983325481415,
          0.12205630540847778,
          0.21018263697624207,
          0.12014372646808624,
          0.11614016443490982,
          0.11856543272733688,
          0.1204056441783905,
          0.12291446328163147,
          0.12550441920757294,
          0.13330624997615814,
          0.137909933924675,
          0.13977840542793274,
          0.1397467404603958,
          0.145746648311615,
          0.14551755785942078,
          0.14942818880081177,
          0.15091358125209808,
          0.15216706693172455,
          0.15157467126846313,
          0.15233562886714935,
          0.15379823744297028,
          0.15633605420589447,
          0.15850287675857544,
          0.15907488763332367,
          0.16148340702056885,
          0.1619286835193634,
          0.162464439868927,
          0.1613166779279709,
          0.15944214165210724,
          0.1620659977197647,
          0.17051418125629425,
          0.16776646673679352,
          0.1763395369052887,
          0.177436962723732,
          0.17854619026184082,
          0.17959627509117126,
          0.18442314863204956,
          0.18761081993579865,
          0.18295565247535706,
          0.18719179928302765,
          0.19505779445171356,
          0.18899530172348022,
          0.19041597843170166,
          0.1953457146883011,
          0.20785124599933624
         ]
        }
       ],
       "layout": {
        "template": {
         "data": {
          "bar": [
           {
            "error_x": {
             "color": "#2a3f5f"
            },
            "error_y": {
             "color": "#2a3f5f"
            },
            "marker": {
             "line": {
              "color": "#E5ECF6",
              "width": 0.5
             },
             "pattern": {
              "fillmode": "overlay",
              "size": 10,
              "solidity": 0.2
             }
            },
            "type": "bar"
           }
          ],
          "barpolar": [
           {
            "marker": {
             "line": {
              "color": "#E5ECF6",
              "width": 0.5
             },
             "pattern": {
              "fillmode": "overlay",
              "size": 10,
              "solidity": 0.2
             }
            },
            "type": "barpolar"
           }
          ],
          "carpet": [
           {
            "aaxis": {
             "endlinecolor": "#2a3f5f",
             "gridcolor": "white",
             "linecolor": "white",
             "minorgridcolor": "white",
             "startlinecolor": "#2a3f5f"
            },
            "baxis": {
             "endlinecolor": "#2a3f5f",
             "gridcolor": "white",
             "linecolor": "white",
             "minorgridcolor": "white",
             "startlinecolor": "#2a3f5f"
            },
            "type": "carpet"
           }
          ],
          "choropleth": [
           {
            "colorbar": {
             "outlinewidth": 0,
             "ticks": ""
            },
            "type": "choropleth"
           }
          ],
          "contour": [
           {
            "colorbar": {
             "outlinewidth": 0,
             "ticks": ""
            },
            "colorscale": [
             [
              0,
              "#0d0887"
             ],
             [
              0.1111111111111111,
              "#46039f"
             ],
             [
              0.2222222222222222,
              "#7201a8"
             ],
             [
              0.3333333333333333,
              "#9c179e"
             ],
             [
              0.4444444444444444,
              "#bd3786"
             ],
             [
              0.5555555555555556,
              "#d8576b"
             ],
             [
              0.6666666666666666,
              "#ed7953"
             ],
             [
              0.7777777777777778,
              "#fb9f3a"
             ],
             [
              0.8888888888888888,
              "#fdca26"
             ],
             [
              1,
              "#f0f921"
             ]
            ],
            "type": "contour"
           }
          ],
          "contourcarpet": [
           {
            "colorbar": {
             "outlinewidth": 0,
             "ticks": ""
            },
            "type": "contourcarpet"
           }
          ],
          "heatmap": [
           {
            "colorbar": {
             "outlinewidth": 0,
             "ticks": ""
            },
            "colorscale": [
             [
              0,
              "#0d0887"
             ],
             [
              0.1111111111111111,
              "#46039f"
             ],
             [
              0.2222222222222222,
              "#7201a8"
             ],
             [
              0.3333333333333333,
              "#9c179e"
             ],
             [
              0.4444444444444444,
              "#bd3786"
             ],
             [
              0.5555555555555556,
              "#d8576b"
             ],
             [
              0.6666666666666666,
              "#ed7953"
             ],
             [
              0.7777777777777778,
              "#fb9f3a"
             ],
             [
              0.8888888888888888,
              "#fdca26"
             ],
             [
              1,
              "#f0f921"
             ]
            ],
            "type": "heatmap"
           }
          ],
          "heatmapgl": [
           {
            "colorbar": {
             "outlinewidth": 0,
             "ticks": ""
            },
            "colorscale": [
             [
              0,
              "#0d0887"
             ],
             [
              0.1111111111111111,
              "#46039f"
             ],
             [
              0.2222222222222222,
              "#7201a8"
             ],
             [
              0.3333333333333333,
              "#9c179e"
             ],
             [
              0.4444444444444444,
              "#bd3786"
             ],
             [
              0.5555555555555556,
              "#d8576b"
             ],
             [
              0.6666666666666666,
              "#ed7953"
             ],
             [
              0.7777777777777778,
              "#fb9f3a"
             ],
             [
              0.8888888888888888,
              "#fdca26"
             ],
             [
              1,
              "#f0f921"
             ]
            ],
            "type": "heatmapgl"
           }
          ],
          "histogram": [
           {
            "marker": {
             "pattern": {
              "fillmode": "overlay",
              "size": 10,
              "solidity": 0.2
             }
            },
            "type": "histogram"
           }
          ],
          "histogram2d": [
           {
            "colorbar": {
             "outlinewidth": 0,
             "ticks": ""
            },
            "colorscale": [
             [
              0,
              "#0d0887"
             ],
             [
              0.1111111111111111,
              "#46039f"
             ],
             [
              0.2222222222222222,
              "#7201a8"
             ],
             [
              0.3333333333333333,
              "#9c179e"
             ],
             [
              0.4444444444444444,
              "#bd3786"
             ],
             [
              0.5555555555555556,
              "#d8576b"
             ],
             [
              0.6666666666666666,
              "#ed7953"
             ],
             [
              0.7777777777777778,
              "#fb9f3a"
             ],
             [
              0.8888888888888888,
              "#fdca26"
             ],
             [
              1,
              "#f0f921"
             ]
            ],
            "type": "histogram2d"
           }
          ],
          "histogram2dcontour": [
           {
            "colorbar": {
             "outlinewidth": 0,
             "ticks": ""
            },
            "colorscale": [
             [
              0,
              "#0d0887"
             ],
             [
              0.1111111111111111,
              "#46039f"
             ],
             [
              0.2222222222222222,
              "#7201a8"
             ],
             [
              0.3333333333333333,
              "#9c179e"
             ],
             [
              0.4444444444444444,
              "#bd3786"
             ],
             [
              0.5555555555555556,
              "#d8576b"
             ],
             [
              0.6666666666666666,
              "#ed7953"
             ],
             [
              0.7777777777777778,
              "#fb9f3a"
             ],
             [
              0.8888888888888888,
              "#fdca26"
             ],
             [
              1,
              "#f0f921"
             ]
            ],
            "type": "histogram2dcontour"
           }
          ],
          "mesh3d": [
           {
            "colorbar": {
             "outlinewidth": 0,
             "ticks": ""
            },
            "type": "mesh3d"
           }
          ],
          "parcoords": [
           {
            "line": {
             "colorbar": {
              "outlinewidth": 0,
              "ticks": ""
             }
            },
            "type": "parcoords"
           }
          ],
          "pie": [
           {
            "automargin": true,
            "type": "pie"
           }
          ],
          "scatter": [
           {
            "fillpattern": {
             "fillmode": "overlay",
             "size": 10,
             "solidity": 0.2
            },
            "type": "scatter"
           }
          ],
          "scatter3d": [
           {
            "line": {
             "colorbar": {
              "outlinewidth": 0,
              "ticks": ""
             }
            },
            "marker": {
             "colorbar": {
              "outlinewidth": 0,
              "ticks": ""
             }
            },
            "type": "scatter3d"
           }
          ],
          "scattercarpet": [
           {
            "marker": {
             "colorbar": {
              "outlinewidth": 0,
              "ticks": ""
             }
            },
            "type": "scattercarpet"
           }
          ],
          "scattergeo": [
           {
            "marker": {
             "colorbar": {
              "outlinewidth": 0,
              "ticks": ""
             }
            },
            "type": "scattergeo"
           }
          ],
          "scattergl": [
           {
            "marker": {
             "colorbar": {
              "outlinewidth": 0,
              "ticks": ""
             }
            },
            "type": "scattergl"
           }
          ],
          "scattermapbox": [
           {
            "marker": {
             "colorbar": {
              "outlinewidth": 0,
              "ticks": ""
             }
            },
            "type": "scattermapbox"
           }
          ],
          "scatterpolar": [
           {
            "marker": {
             "colorbar": {
              "outlinewidth": 0,
              "ticks": ""
             }
            },
            "type": "scatterpolar"
           }
          ],
          "scatterpolargl": [
           {
            "marker": {
             "colorbar": {
              "outlinewidth": 0,
              "ticks": ""
             }
            },
            "type": "scatterpolargl"
           }
          ],
          "scatterternary": [
           {
            "marker": {
             "colorbar": {
              "outlinewidth": 0,
              "ticks": ""
             }
            },
            "type": "scatterternary"
           }
          ],
          "surface": [
           {
            "colorbar": {
             "outlinewidth": 0,
             "ticks": ""
            },
            "colorscale": [
             [
              0,
              "#0d0887"
             ],
             [
              0.1111111111111111,
              "#46039f"
             ],
             [
              0.2222222222222222,
              "#7201a8"
             ],
             [
              0.3333333333333333,
              "#9c179e"
             ],
             [
              0.4444444444444444,
              "#bd3786"
             ],
             [
              0.5555555555555556,
              "#d8576b"
             ],
             [
              0.6666666666666666,
              "#ed7953"
             ],
             [
              0.7777777777777778,
              "#fb9f3a"
             ],
             [
              0.8888888888888888,
              "#fdca26"
             ],
             [
              1,
              "#f0f921"
             ]
            ],
            "type": "surface"
           }
          ],
          "table": [
           {
            "cells": {
             "fill": {
              "color": "#EBF0F8"
             },
             "line": {
              "color": "white"
             }
            },
            "header": {
             "fill": {
              "color": "#C8D4E3"
             },
             "line": {
              "color": "white"
             }
            },
            "type": "table"
           }
          ]
         },
         "layout": {
          "annotationdefaults": {
           "arrowcolor": "#2a3f5f",
           "arrowhead": 0,
           "arrowwidth": 1
          },
          "autotypenumbers": "strict",
          "coloraxis": {
           "colorbar": {
            "outlinewidth": 0,
            "ticks": ""
           }
          },
          "colorscale": {
           "diverging": [
            [
             0,
             "#8e0152"
            ],
            [
             0.1,
             "#c51b7d"
            ],
            [
             0.2,
             "#de77ae"
            ],
            [
             0.3,
             "#f1b6da"
            ],
            [
             0.4,
             "#fde0ef"
            ],
            [
             0.5,
             "#f7f7f7"
            ],
            [
             0.6,
             "#e6f5d0"
            ],
            [
             0.7,
             "#b8e186"
            ],
            [
             0.8,
             "#7fbc41"
            ],
            [
             0.9,
             "#4d9221"
            ],
            [
             1,
             "#276419"
            ]
           ],
           "sequential": [
            [
             0,
             "#0d0887"
            ],
            [
             0.1111111111111111,
             "#46039f"
            ],
            [
             0.2222222222222222,
             "#7201a8"
            ],
            [
             0.3333333333333333,
             "#9c179e"
            ],
            [
             0.4444444444444444,
             "#bd3786"
            ],
            [
             0.5555555555555556,
             "#d8576b"
            ],
            [
             0.6666666666666666,
             "#ed7953"
            ],
            [
             0.7777777777777778,
             "#fb9f3a"
            ],
            [
             0.8888888888888888,
             "#fdca26"
            ],
            [
             1,
             "#f0f921"
            ]
           ],
           "sequentialminus": [
            [
             0,
             "#0d0887"
            ],
            [
             0.1111111111111111,
             "#46039f"
            ],
            [
             0.2222222222222222,
             "#7201a8"
            ],
            [
             0.3333333333333333,
             "#9c179e"
            ],
            [
             0.4444444444444444,
             "#bd3786"
            ],
            [
             0.5555555555555556,
             "#d8576b"
            ],
            [
             0.6666666666666666,
             "#ed7953"
            ],
            [
             0.7777777777777778,
             "#fb9f3a"
            ],
            [
             0.8888888888888888,
             "#fdca26"
            ],
            [
             1,
             "#f0f921"
            ]
           ]
          },
          "colorway": [
           "#636efa",
           "#EF553B",
           "#00cc96",
           "#ab63fa",
           "#FFA15A",
           "#19d3f3",
           "#FF6692",
           "#B6E880",
           "#FF97FF",
           "#FECB52"
          ],
          "font": {
           "color": "#2a3f5f"
          },
          "geo": {
           "bgcolor": "white",
           "lakecolor": "white",
           "landcolor": "#E5ECF6",
           "showlakes": true,
           "showland": true,
           "subunitcolor": "white"
          },
          "hoverlabel": {
           "align": "left"
          },
          "hovermode": "closest",
          "mapbox": {
           "style": "light"
          },
          "paper_bgcolor": "white",
          "plot_bgcolor": "#E5ECF6",
          "polar": {
           "angularaxis": {
            "gridcolor": "white",
            "linecolor": "white",
            "ticks": ""
           },
           "bgcolor": "#E5ECF6",
           "radialaxis": {
            "gridcolor": "white",
            "linecolor": "white",
            "ticks": ""
           }
          },
          "scene": {
           "xaxis": {
            "backgroundcolor": "#E5ECF6",
            "gridcolor": "white",
            "gridwidth": 2,
            "linecolor": "white",
            "showbackground": true,
            "ticks": "",
            "zerolinecolor": "white"
           },
           "yaxis": {
            "backgroundcolor": "#E5ECF6",
            "gridcolor": "white",
            "gridwidth": 2,
            "linecolor": "white",
            "showbackground": true,
            "ticks": "",
            "zerolinecolor": "white"
           },
           "zaxis": {
            "backgroundcolor": "#E5ECF6",
            "gridcolor": "white",
            "gridwidth": 2,
            "linecolor": "white",
            "showbackground": true,
            "ticks": "",
            "zerolinecolor": "white"
           }
          },
          "shapedefaults": {
           "line": {
            "color": "#2a3f5f"
           }
          },
          "ternary": {
           "aaxis": {
            "gridcolor": "white",
            "linecolor": "white",
            "ticks": ""
           },
           "baxis": {
            "gridcolor": "white",
            "linecolor": "white",
            "ticks": ""
           },
           "bgcolor": "#E5ECF6",
           "caxis": {
            "gridcolor": "white",
            "linecolor": "white",
            "ticks": ""
           }
          },
          "title": {
           "x": 0.05
          },
          "xaxis": {
           "automargin": true,
           "gridcolor": "white",
           "linecolor": "white",
           "ticks": "",
           "title": {
            "standoff": 15
           },
           "zerolinecolor": "white",
           "zerolinewidth": 2
          },
          "yaxis": {
           "automargin": true,
           "gridcolor": "white",
           "linecolor": "white",
           "ticks": "",
           "title": {
            "standoff": 15
           },
           "zerolinecolor": "white",
           "zerolinewidth": 2
          }
         }
        },
        "title": {
         "text": "Training and val loss across epochs"
        },
        "xaxis": {
         "title": {
          "text": "epochs"
         }
        },
        "yaxis": {
         "title": {
          "text": "Cross Entropy"
         }
        }
       }
      }
     },
     "metadata": {},
     "output_type": "display_data"
    }
   ],
   "source": [
    "from plotly import graph_objects as go\n",
    "color_chart = [\"#4B9AC7\", \"#4BE8E0\", \"#9DD4F3\", \"#97FBF6\", \"#2A7FAF\", \"#23B1AB\", \"#0E3449\", \"#015955\"]\n",
    "\n",
    "history_graph = history.history\n",
    "fig = go.Figure(data=[\n",
    "                      go.Scatter(\n",
    "                          y=history_graph[\"loss\"],\n",
    "                          name=\"Training loss\",\n",
    "                          mode=\"lines\",\n",
    "                          marker=dict(\n",
    "                              color=color_chart[0]\n",
    "                          )),\n",
    "                      go.Scatter(\n",
    "                          y=history_graph[\"val_loss\"],\n",
    "                          name=\"Validation loss\",\n",
    "                          mode=\"lines\",\n",
    "                          marker=dict(\n",
    "                              color=color_chart[1]\n",
    "                          ))\n",
    "])\n",
    "fig.update_layout(\n",
    "    title='Training and val loss across epochs',\n",
    "    xaxis_title='epochs',\n",
    "    yaxis_title='Cross Entropy'    \n",
    ")\n",
    "fig.show()"
   ]
  },
  {
   "cell_type": "code",
   "execution_count": 60,
   "metadata": {},
   "outputs": [
    {
     "ename": "KeyError",
     "evalue": "'f1_weighted'",
     "output_type": "error",
     "traceback": [
      "\u001b[0;31m---------------------------------------------------------------------------\u001b[0m",
      "\u001b[0;31mKeyError\u001b[0m                                  Traceback (most recent call last)",
      "Cell \u001b[0;32mIn [60], line 4\u001b[0m\n\u001b[1;32m      1\u001b[0m history_graph \u001b[39m=\u001b[39m history\u001b[39m.\u001b[39mhistory\n\u001b[1;32m      2\u001b[0m fig \u001b[39m=\u001b[39m go\u001b[39m.\u001b[39mFigure(data\u001b[39m=\u001b[39m[\n\u001b[1;32m      3\u001b[0m                       go\u001b[39m.\u001b[39mScatter(\n\u001b[0;32m----> 4\u001b[0m                           y\u001b[39m=\u001b[39mhistory_graph[\u001b[39m\"\u001b[39;49m\u001b[39mf1_weighted\u001b[39;49m\u001b[39m\"\u001b[39;49m],\n\u001b[1;32m      5\u001b[0m                           name\u001b[39m=\u001b[39m\u001b[39m\"\u001b[39m\u001b[39mTraining F1\u001b[39m\u001b[39m\"\u001b[39m,\n\u001b[1;32m      6\u001b[0m                           mode\u001b[39m=\u001b[39m\u001b[39m\"\u001b[39m\u001b[39mlines\u001b[39m\u001b[39m\"\u001b[39m,\n\u001b[1;32m      7\u001b[0m                           marker\u001b[39m=\u001b[39m\u001b[39mdict\u001b[39m(\n\u001b[1;32m      8\u001b[0m                               color\u001b[39m=\u001b[39mcolor_chart[\u001b[39m0\u001b[39m]\n\u001b[1;32m      9\u001b[0m                           )),\n\u001b[1;32m     10\u001b[0m                       go\u001b[39m.\u001b[39mScatter(\n\u001b[1;32m     11\u001b[0m                           y\u001b[39m=\u001b[39mhistory_graph[\u001b[39m\"\u001b[39m\u001b[39mval_f1_weighted\u001b[39m\u001b[39m\"\u001b[39m],\n\u001b[1;32m     12\u001b[0m                           name\u001b[39m=\u001b[39m\u001b[39m\"\u001b[39m\u001b[39mValidation F1\u001b[39m\u001b[39m\"\u001b[39m,\n\u001b[1;32m     13\u001b[0m                           mode\u001b[39m=\u001b[39m\u001b[39m\"\u001b[39m\u001b[39mlines\u001b[39m\u001b[39m\"\u001b[39m,\n\u001b[1;32m     14\u001b[0m                           marker\u001b[39m=\u001b[39m\u001b[39mdict\u001b[39m(\n\u001b[1;32m     15\u001b[0m                               color\u001b[39m=\u001b[39mcolor_chart[\u001b[39m1\u001b[39m]\n\u001b[1;32m     16\u001b[0m                           ))\n\u001b[1;32m     17\u001b[0m ])\n\u001b[1;32m     18\u001b[0m fig\u001b[39m.\u001b[39mupdate_layout(\n\u001b[1;32m     19\u001b[0m     title\u001b[39m=\u001b[39m\u001b[39m'\u001b[39m\u001b[39mTraining and val F1 across epochs\u001b[39m\u001b[39m'\u001b[39m,\n\u001b[1;32m     20\u001b[0m     xaxis_title\u001b[39m=\u001b[39m\u001b[39m'\u001b[39m\u001b[39mepochs\u001b[39m\u001b[39m'\u001b[39m,\n\u001b[1;32m     21\u001b[0m     yaxis_title\u001b[39m=\u001b[39m\u001b[39m'\u001b[39m\u001b[39m1\u001b[39m\u001b[39m'\u001b[39m    \n\u001b[1;32m     22\u001b[0m )\n\u001b[1;32m     23\u001b[0m fig\u001b[39m.\u001b[39mshow()\n",
      "\u001b[0;31mKeyError\u001b[0m: 'f1_weighted'"
     ]
    }
   ],
   "source": [
    "history_graph = history.history\n",
    "fig = go.Figure(data=[\n",
    "                      go.Scatter(\n",
    "                          y=history_graph[\"f1_weighted\"],\n",
    "                          name=\"Training F1\",\n",
    "                          mode=\"lines\",\n",
    "                          marker=dict(\n",
    "                              color=color_chart[0]\n",
    "                          )),\n",
    "                      go.Scatter(\n",
    "                          y=history_graph[\"val_f1_weighted\"],\n",
    "                          name=\"Validation F1\",\n",
    "                          mode=\"lines\",\n",
    "                          marker=dict(\n",
    "                              color=color_chart[1]\n",
    "                          ))\n",
    "])\n",
    "fig.update_layout(\n",
    "    title='Training and val F1 across epochs',\n",
    "    xaxis_title='epochs',\n",
    "    yaxis_title='1'    \n",
    ")\n",
    "fig.show()"
   ]
  },
  {
   "cell_type": "markdown",
   "metadata": {},
   "source": []
  },
  {
   "cell_type": "code",
   "execution_count": null,
   "metadata": {},
   "outputs": [],
   "source": []
  }
 ],
 "metadata": {
  "kernelspec": {
   "display_name": "Python 3.10.8 ('ml')",
   "language": "python",
   "name": "python3"
  },
  "language_info": {
   "codemirror_mode": {
    "name": "ipython",
    "version": 3
   },
   "file_extension": ".py",
   "mimetype": "text/x-python",
   "name": "python",
   "nbconvert_exporter": "python",
   "pygments_lexer": "ipython3",
   "version": "3.10.8 | packaged by conda-forge | (main, Nov 22 2022, 08:25:29) [Clang 14.0.6 ]"
  },
  "orig_nbformat": 4,
  "vscode": {
   "interpreter": {
    "hash": "1fe655022548373991488107ee87292a5acc65b103412eeef527175bfc11a68a"
   }
  }
 },
 "nbformat": 4,
 "nbformat_minor": 2
}
